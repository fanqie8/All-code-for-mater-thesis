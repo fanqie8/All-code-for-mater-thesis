{
 "cells": [
  {
   "cell_type": "code",
   "execution_count": 20,
   "id": "7eaed26f",
   "metadata": {},
   "outputs": [
    {
     "name": "stdout",
     "output_type": "stream",
     "text": [
      "请输入:因为今天起你是第卅红豆阿萨，和你都是大号，所以所以你在哪，因为你不在和我一起随意我真的真的如果如果\n",
      "Connevtive corpus word cut results: 跟|便|并|既然|不是|果然|像|即使|别说|凡是|免得|除了|和|此外|并非|加上|便是|果真|好比|即令|并且|方才|以免|除开|还有|而|诚然|加以|乃是|假如|如同|尽管|不单|除非|为的是|到底|或者|刚|但|结果|还是|假若|似乎|尽管如此|不但|只要|为了|反正|及|换言之|但是|因为|或|假使|等于|就是|而且|不管|一来|不然|既|即|虽然|看样子|或是|如果|不如|就算|不光|任凭|一则|单连|继而|反倒|然则|宁如|不及|哪怕|不仅|无论|以便|综上所述|一方面|接着|反而|所以|宁可|若|不|比|愈|何况|终归|以防|由此可见|且|进而|反之|惟其|宁肯|设若|固然|不惟|终究|免得|也就是说|时而|紧接着|否则|惟有|宁愿|倘若|纵然|不仅仅|总归|省得|总之|同时|就|可是|幸而|绝不|倘|而况|不论|以免|起先|同样|可见|可惜|才|抑或|倘使|非但|为|譬如|一边|另外|明明|幸好|毋宁|万一|况且|起初|一会|每当|明知|幸亏|兴许|要不是|尚且|后来|一面|每逢|其实|以至于|许是|一旦|光|例如|以及|乃|恰恰相反|以至|要不然|要是|甚至于|就是说|又|乃至|却|因抑|特别|据说|再则|其次|然而|因此|与其|甚至|再说|其中|虽|因而|与其说|尤其|或者说|然后|唯独|由于|与|首先|无奈|从而|同|随后|要么|于是|随即|只不过|之所以|遂|只有|是因为|所谓|偏偏|怨不得|先|不料|只得|旋即|岂知|只好|终于|只是|总算|以|比方|由\n",
      "input text word cut results: 因为|今天|起|你|是|第卅|红豆|阿萨|和|你|都|是|大|号|所以|所以|你|在|哪|因为|你|不|在|和|我|一起|随意|我|真的|真的|如果|如果\n",
      "结果是: ['因为', '和', '所以', '所以', '因为', '不', '和', '如果', '如果']\n",
      "结果是: ['因为', '和', '所以', '所以', '因为', '不', '和', '如果', '如果']"
     ]
    }
   ],
   "source": [
    "import pandas as pd\n",
    "import numpy as np\n",
    "import re\n",
    "import jieba\n",
    "import string\n",
    "import zhon\n",
    "from zhon.hanzi import punctuation\n",
    "punctuation\n",
    "string.punctuation\n",
    "\n",
    "# read connective corpus and input text\n",
    "data=pd.read_excel(r'C:\\Users\\dawns\\Desktop\\Master thesis\\data\\connectives corpus simplify.xlsx',index_col=None,header=0)\n",
    "x=input('请输入:''')\n",
    "list1 = data.values.tolist()\n",
    "a = np.array(list1)\n",
    "list2 = a.flatten()\n",
    "list2 = list2.tolist()\n",
    "while 'nan' in list2:\n",
    "    list2.remove('nan')\n",
    "#print(list2)\n",
    "\n",
    "# connective corpus word cut\n",
    "str1 = str(list2)\n",
    "list3 = re.sub('\\W*', '',str1)\n",
    "list3=list(jieba.cut(list3))\n",
    "list4 ='|'.join(list3)\n",
    "print('Connevtive corpus word cut results:',list4)\n",
    "\n",
    "# input text word cut\n",
    "line = re.sub('\\W*', '',x)\n",
    "line\n",
    "line1=list(jieba.cut(line))\n",
    "line1\n",
    "line2='|'.join(line1)\n",
    "line2\n",
    "print('input text word cut results:',line2)\n",
    "\n",
    " #input text and connective corpus match\n",
    "print('结果是:',re.findall(list4,line2))\n",
    "list_matched = re.findall(list4,line2)\n",
    "corpus =list4.split('|')\n",
    "text=line2.split('|')\n",
    "a = [x for x in text if x in corpus]\n",
    "print('结果是:',a,end=\"\")\n",
    "\n",
    "\n"
   ]
  },
  {
   "cell_type": "code",
   "execution_count": null,
   "id": "931581a3",
   "metadata": {},
   "outputs": [],
   "source": [
    "结果是: ['因为', '和', '所以', '所以', '因为', '不', '和', '如果', '如果']\n",
    "结果是: ['和', '因为', '如果', '所以', '不']"
   ]
  },
  {
   "cell_type": "code",
   "execution_count": 17,
   "id": "fb841c6a",
   "metadata": {},
   "outputs": [
    {
     "data": {
      "text/plain": [
       "'记得|当年|年纪|小|家中|兄弟姐妹|数十|多人|我|排行|倒|最|第二|父母亲|为了|养起|这头家|日夜|往外|奔波|劳累|经常|早出晚归|毫无|时间|照顾|我们|兄弟姐妹|而|这|重大|的|责任|便|交由|大|姐姐|及大|哥哥|们|负责|记忆|中|我|最皮|了|常|到处跑|经常|让|姐姐|哥哥|们|找|得|如|热锅上的蚂蚁|才干|心|也|经常|跌得|全整|是|伤|满整|是|痕|母亲|大人|为了|减轻|姐姐|哥哥|们|的|负担|为了|让|我|尽|可|减少|身上|的|伤痛|将|我|送往|大|姑母|家大|姑母|早年|便|自力更生|因|大姑丈|成天|往外|花天|洒|地|与|大|姑母|的|独生女|小丽|共处一室|我常成|了|代罪羔羊|大|姑母|也|常|将|闷气|往|我|身上|发|有时|免不了|要|痛打一顿|有时|甚至|不让|我|吃饭|原因|我|像|讨债鬼|是|个|没人要|的|孩子|从|那|时候|开始|由|小学|到|中学|我|的|成绩|要数|班上|最最|也|是|个人|见人厌|的|小男生|师长|同学|们|见到|我|就|像|活见鬼|一般|远远|就|避开|了|我|也|从此|意志|沉|声名|狼坏|了|直至|92|年|尾|对|我|最好|最|关心|我|的|堂哥|从|美国|留学|归来|后|我|的|一生|从此|改写|堂哥|从|新|拉|我|一把|将|我|带到|无人|识|我|的|地方|让|我|重新|过|校园生活|因|他|深深|知道|只有|这样|做|我|才|会|重新|调整|我|自己|堂哥|为|我|安排|一系列|的|补|可|安排|好|我|的|时间|更|拿|了|好多|有关|的|书籍|为|我|打发|以往|我|用以|玩乐|的|时间|他|鼓励|我|激励|我|重新|为|我|增加|信心|给|我|将励|这|是|我|从小到大|在|无人|关心|的|时期|里数|他|的|关心|照顾|最令|我|感心|了|如今|我|顺利|以|优异|的|成绩|成功|进入|大学|这是|大家|都|想不到|的|结果|堂哥|是|我|这|一生|人|最|感激不尽|的|人|也|是|影响|我|最大|的|恩人|让|我|用|五年|时间|再次|证明|我|可以|报答|他|148L152L'"
      ]
     },
     "execution_count": 17,
     "metadata": {},
     "output_type": "execute_result"
    }
   ],
   "source": [
    "line2"
   ]
  },
  {
   "cell_type": "code",
   "execution_count": null,
   "id": "00329a0b",
   "metadata": {},
   "outputs": [],
   "source": []
  }
 ],
 "metadata": {
  "kernelspec": {
   "display_name": "Python 3 (ipykernel)",
   "language": "python",
   "name": "python3"
  },
  "language_info": {
   "codemirror_mode": {
    "name": "ipython",
    "version": 3
   },
   "file_extension": ".py",
   "mimetype": "text/x-python",
   "name": "python",
   "nbconvert_exporter": "python",
   "pygments_lexer": "ipython3",
   "version": "3.9.7"
  }
 },
 "nbformat": 4,
 "nbformat_minor": 5
}
