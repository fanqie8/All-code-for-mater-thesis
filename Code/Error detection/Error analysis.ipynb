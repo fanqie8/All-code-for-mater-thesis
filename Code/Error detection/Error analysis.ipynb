{
 "cells": [
  {
   "cell_type": "code",
   "execution_count": 2,
   "metadata": {},
   "outputs": [],
   "source": [
    "#with open(r'C:\\Users\\dawns\\Desktop\\error detection\\annotation\\GreenFood_1.txt\\zhengwu.xmi', 'rb') as f:\n",
    "    #typesystem = load_typesystem(f)"
   ]
  },
  {
   "cell_type": "code",
   "execution_count": 1,
   "metadata": {},
   "outputs": [],
   "source": [
    "import os\n",
    "import zipfile\n",
    "from cassis import load_typesystem, load_cas_from_xmi"
   ]
  },
  {
   "cell_type": "code",
   "execution_count": 2,
   "metadata": {},
   "outputs": [],
   "source": [
    "# clean data\n",
    "def clean_data(directory):\n",
    "    for text in os.listdir(directory):              # os.listdir(path) 返回path指定的文件夹包含的文件或文件夹的名字的列表。\n",
    "        text_dir = directory + '/' + text\n",
    "        # unzip and delete zip data\n",
    "        for file in os.listdir(text_dir):\n",
    "            file_name = os.fsdecode(file)\n",
    "            if file_name.endswith('.zip'):\n",
    "                file_path = text_dir+'/'+file_name\n",
    "                with zipfile.ZipFile(file_path, 'r') as zip_ref:\n",
    "                    zip_ref.extractall(text_dir)\n",
    "                os.remove(file_path)\n",
    "        # delete annotations from Yuning\n",
    "        for file in os.listdir(text_dir):\n",
    "            file_name = os.fsdecode(file)\n",
    "            if 'yuningding' in file_name:\n",
    "                file_path = text_dir + '/' + file_name\n",
    "                os.remove(file_path)"
   ]
  },
  {
   "cell_type": "code",
   "execution_count": 3,
   "metadata": {},
   "outputs": [],
   "source": [
    "# load cas\n",
    "def load_cas(text_directory):\n",
    "    with open(text_directory+'/TypeSystem.xml', 'rb') as f:\n",
    "        typesystem = load_typesystem(f)\n",
    "    with open(text_directory+'/zhengwu.xmi', 'rb') as f:\n",
    "        cas = load_cas_from_xmi(f, typesystem=typesystem)\n",
    "    return cas"
   ]
  },
  {
   "cell_type": "code",
   "execution_count": 4,
   "metadata": {},
   "outputs": [],
   "source": [
    "directory = r'C:\\Users\\dawns\\Desktop\\annotation\\annotation'\n",
    "#clean_data(directory)\n",
    "annotation_cas = []\n",
    "text = 'GreenFood_10.txt'\n",
    "text_dir = directory + '/' + text\n",
    "cas = load_cas(text_dir)"
   ]
  },
  {
   "cell_type": "code",
   "execution_count": 5,
   "metadata": {},
   "outputs": [
    {
     "name": "stdout",
     "output_type": "stream",
     "text": [
      "Type(name=de.tudarmstadt.ukp.dkpro.core.api.transform.type.SofaChangeAnnotation)\n",
      "Type(name=de.tudarmstadt.ukp.dkpro.core.api.syntax.type.constituent.Constituent)\n",
      "Type(name=de.tudarmstadt.ukp.dkpro.core.api.segmentation.type.SurfaceForm)\n",
      "Type(name=de.tudarmstadt.ukp.clarin.webanno.api.type.FeatureDefinition)\n",
      "Type(name=de.tudarmstadt.ukp.dkpro.core.api.coref.type.CoreferenceLink)\n",
      "Type(name=de.tudarmstadt.ukp.dkpro.core.api.lexmorph.type.morph.Morpheme)\n",
      "Type(name=de.tudarmstadt.ukp.dkpro.core.api.segmentation.type.Div)\n",
      "Type(name=webanno.custom.Connection)\n",
      "Type(name=de.tudarmstadt.ukp.dkpro.core.api.metadata.type.TagsetDescription)\n",
      "Type(name=de.tudarmstadt.ukp.dkpro.core.api.semantics.type.SemanticArgument)\n",
      "Type(name=de.tudarmstadt.ukp.dkpro.core.api.semantics.type.SemanticField)\n",
      "Type(name=de.tudarmstadt.ukp.dkpro.core.api.coref.type.CoreferenceChain)\n",
      "Type(name=org.dkpro.core.api.xml.type.XmlAttribute)\n",
      "Type(name=de.tudarmstadt.ukp.dkpro.core.api.semantics.type.SemPred)\n",
      "Type(name=de.tudarmstadt.ukp.dkpro.core.api.semantics.type.WordSense)\n",
      "Type(name=de.tudarmstadt.ukp.dkpro.core.api.segmentation.type.NGram)\n",
      "Type(name=de.tudarmstadt.ukp.dkpro.core.api.segmentation.type.TokenForm)\n",
      "Type(name=de.tudarmstadt.ukp.dkpro.core.api.semantics.type.SemArgLink)\n",
      "Type(name=org.dkpro.core.api.xml.type.XmlDocument)\n",
      "Type(name=de.tudarmstadt.ukp.dkpro.core.api.segmentation.type.Compound)\n",
      "Type(name=de.tudarmstadt.ukp.dkpro.core.api.metadata.type.TagDescription)\n",
      "Type(name=de.tudarmstadt.ukp.dkpro.core.api.metadata.type.MetaDataStringField)\n",
      "Type(name=org.dkpro.core.api.xml.type.XmlNode)\n",
      "Type(name=webanno.custom.Error)\n",
      "Type(name=de.tudarmstadt.ukp.dkpro.core.api.syntax.type.chunk.Chunk)\n",
      "Type(name=de.tudarmstadt.ukp.dkpro.core.api.syntax.type.dependency.Dependency)\n",
      "Type(name=de.tudarmstadt.ukp.dkpro.core.api.segmentation.type.LexicalPhrase)\n",
      "Type(name=de.tudarmstadt.ukp.dkpro.core.api.ner.type.NamedEntity)\n",
      "Type(name=de.tudarmstadt.ukp.dkpro.core.api.semantics.type.SemanticPredicate)\n",
      "Type(name=de.tudarmstadt.ukp.dkpro.core.api.lexmorph.type.morph.MorphologicalFeatures)\n",
      "Type(name=de.tudarmstadt.ukp.clarin.webanno.api.type.LayerDefinition)\n",
      "Type(name=de.tudarmstadt.ukp.dkpro.core.api.segmentation.type.Split)\n",
      "Type(name=de.tudarmstadt.ukp.dkpro.core.api.semantics.type.SemArg)\n",
      "Type(name=de.tudarmstadt.ukp.dkpro.core.api.syntax.type.PennTree)\n",
      "Type(name=de.tudarmstadt.ukp.dkpro.core.api.lexmorph.type.pos.POS)\n",
      "Type(name=de.tudarmstadt.ukp.dkpro.core.api.segmentation.type.Lemma)\n",
      "Type(name=de.tudarmstadt.ukp.dkpro.core.api.segmentation.type.Sentence)\n",
      "Type(name=de.tudarmstadt.ukp.dkpro.core.api.segmentation.type.StopWord)\n",
      "Type(name=de.tudarmstadt.ukp.dkpro.core.api.structure.type.Field)\n",
      "Type(name=uima.tcas.DocumentAnnotation)\n",
      "Type(name=de.tudarmstadt.ukp.dkpro.core.api.segmentation.type.Stem)\n",
      "Type(name=de.tudarmstadt.ukp.dkpro.core.api.segmentation.type.Token)\n",
      "Type(name=de.tudarmstadt.ukp.dkpro.core.api.syntax.type.dependency.ROOT)\n",
      "Type(name=de.tudarmstadt.ukp.dkpro.core.api.syntax.type.dependency.MARK)\n",
      "Type(name=de.tudarmstadt.ukp.dkpro.core.api.syntax.type.constituent.PP)\n",
      "Type(name=de.tudarmstadt.ukp.dkpro.core.api.syntax.type.dependency.IOBJ)\n",
      "Type(name=de.tudarmstadt.ukp.dkpro.core.api.segmentation.type.CompoundPart)\n",
      "Type(name=de.tudarmstadt.ukp.dkpro.core.api.syntax.type.constituent.SINV)\n",
      "Type(name=de.tudarmstadt.ukp.dkpro.core.api.syntax.type.dependency.QUANTMOD)\n",
      "Type(name=de.tudarmstadt.ukp.dkpro.core.api.ner.type.Game)\n",
      "Type(name=de.tudarmstadt.ukp.dkpro.core.api.syntax.type.constituent.PARN)\n",
      "Type(name=de.tudarmstadt.ukp.dkpro.core.api.syntax.type.dependency.NN)\n",
      "Type(name=org.dkpro.core.api.xml.type.XmlElement)\n",
      "Type(name=de.tudarmstadt.ukp.dkpro.core.api.ner.type.Product)\n",
      "Type(name=de.tudarmstadt.ukp.dkpro.core.api.syntax.type.constituent.ROOT)\n",
      "Type(name=de.tudarmstadt.ukp.dkpro.core.api.syntax.type.constituent.NAC)\n",
      "Type(name=de.tudarmstadt.ukp.dkpro.core.api.lexmorph.type.pos.POS_PROPN)\n",
      "Type(name=de.tudarmstadt.ukp.dkpro.core.api.syntax.type.dependency.PREP)\n",
      "Type(name=de.tudarmstadt.ukp.dkpro.core.api.syntax.type.dependency.CSUBJ)\n",
      "Type(name=de.tudarmstadt.ukp.dkpro.core.api.lexmorph.type.pos.POS_X)\n",
      "Type(name=de.tudarmstadt.ukp.dkpro.core.api.syntax.type.dependency.ADVMOD)\n",
      "Type(name=de.tudarmstadt.ukp.dkpro.core.api.ner.type.Norp)\n",
      "Type(name=de.tudarmstadt.ukp.dkpro.core.api.syntax.type.constituent.NP)\n",
      "Type(name=de.tudarmstadt.ukp.dkpro.core.api.syntax.type.dependency.COMPLM)\n",
      "Type(name=de.tudarmstadt.ukp.dkpro.core.api.syntax.type.dependency.PUNCT)\n",
      "Type(name=de.tudarmstadt.ukp.dkpro.core.api.segmentation.type.Paragraph)\n",
      "Type(name=de.tudarmstadt.ukp.dkpro.core.api.syntax.type.chunk.O)\n",
      "Type(name=de.tudarmstadt.ukp.dkpro.core.api.lexmorph.type.pos.POS_INTJ)\n",
      "Type(name=de.tudarmstadt.ukp.dkpro.core.api.syntax.type.dependency.XSUBJ)\n",
      "Type(name=de.tudarmstadt.ukp.dkpro.core.api.metadata.type.DocumentMetaData)\n",
      "Type(name=de.tudarmstadt.ukp.dkpro.core.api.syntax.type.constituent.VP)\n",
      "Type(name=de.tudarmstadt.ukp.dkpro.core.api.ner.type.Money)\n",
      "Type(name=de.tudarmstadt.ukp.dkpro.core.api.ner.type.Organization)\n",
      "Type(name=de.tudarmstadt.ukp.dkpro.core.api.lexmorph.type.pos.POS_DET)\n",
      "Type(name=de.tudarmstadt.ukp.dkpro.core.api.ner.type.Disease)\n",
      "Type(name=de.tudarmstadt.ukp.dkpro.core.api.syntax.type.dependency.AGENT)\n",
      "Type(name=de.tudarmstadt.ukp.dkpro.core.api.syntax.type.constituent.NX)\n",
      "Type(name=de.tudarmstadt.ukp.dkpro.core.api.syntax.type.dependency.CONJ)\n",
      "Type(name=de.tudarmstadt.ukp.dkpro.core.api.syntax.type.dependency.COP)\n",
      "Type(name=de.tudarmstadt.ukp.dkpro.core.api.syntax.type.dependency.MWE)\n",
      "Type(name=de.tudarmstadt.ukp.dkpro.core.api.syntax.type.dependency.PRT)\n",
      "Type(name=de.tudarmstadt.ukp.dkpro.core.api.syntax.type.constituent.WHADVP)\n",
      "Type(name=de.tudarmstadt.ukp.dkpro.core.api.lexmorph.type.pos.POS_ADJ)\n",
      "Type(name=de.tudarmstadt.ukp.dkpro.core.api.syntax.type.constituent.QP)\n",
      "Type(name=de.tudarmstadt.ukp.dkpro.core.api.syntax.type.constituent.SBARQ)\n",
      "Type(name=de.tudarmstadt.ukp.dkpro.core.api.syntax.type.dependency.NUM)\n",
      "Type(name=de.tudarmstadt.ukp.dkpro.core.api.syntax.type.dependency.NSUBJ)\n",
      "Type(name=de.tudarmstadt.ukp.dkpro.core.api.syntax.type.constituent.RRC)\n",
      "Type(name=de.tudarmstadt.ukp.dkpro.core.api.syntax.type.dependency.POSS)\n",
      "Type(name=de.tudarmstadt.ukp.dkpro.core.api.lexmorph.type.pos.POS_NOUN)\n",
      "Type(name=de.tudarmstadt.ukp.dkpro.core.api.ner.type.Nationality)\n",
      "Type(name=de.tudarmstadt.ukp.dkpro.core.api.syntax.type.dependency.NUMBER)\n",
      "Type(name=de.tudarmstadt.ukp.dkpro.core.api.syntax.type.dependency.PARATAXIS)\n",
      "Type(name=de.tudarmstadt.ukp.dkpro.core.api.ner.type.Time)\n",
      "Type(name=de.tudarmstadt.ukp.dkpro.core.api.ner.type.WorkOfArt)\n",
      "Type(name=de.tudarmstadt.ukp.dkpro.core.api.syntax.type.dependency.ATTR)\n",
      "Type(name=de.tudarmstadt.ukp.dkpro.core.api.syntax.type.constituent.X)\n",
      "Type(name=de.tudarmstadt.ukp.dkpro.core.api.syntax.type.constituent.ADJP)\n",
      "Type(name=de.tudarmstadt.ukp.dkpro.core.api.syntax.type.constituent.LST)\n",
      "Type(name=de.tudarmstadt.ukp.dkpro.core.api.ner.type.PerDesc)\n",
      "Type(name=de.tudarmstadt.ukp.dkpro.core.api.syntax.type.dependency.PARTMOD)\n",
      "Type(name=de.tudarmstadt.ukp.dkpro.core.api.syntax.type.dependency.PREPC)\n",
      "Type(name=de.tudarmstadt.ukp.dkpro.core.api.syntax.type.constituent.WHPP)\n",
      "Type(name=de.tudarmstadt.ukp.dkpro.core.api.syntax.type.dependency.TMOD)\n",
      "Type(name=de.tudarmstadt.ukp.dkpro.core.api.lexmorph.type.pos.POS_ADP)\n",
      "Type(name=de.tudarmstadt.ukp.dkpro.core.api.syntax.type.dependency.NSUBJPASS)\n",
      "Type(name=de.tudarmstadt.ukp.dkpro.core.api.syntax.type.chunk.NC)\n",
      "Type(name=de.tudarmstadt.ukp.dkpro.core.api.ner.type.ProductDesc)\n",
      "Type(name=de.tudarmstadt.ukp.dkpro.core.api.syntax.type.dependency.RCMOD)\n",
      "Type(name=de.tudarmstadt.ukp.dkpro.core.api.ner.type.Language)\n",
      "Type(name=de.tudarmstadt.ukp.dkpro.core.api.lexmorph.type.pos.POS_NUM)\n",
      "Type(name=de.tudarmstadt.ukp.dkpro.core.api.syntax.type.dependency.PREDET)\n",
      "Type(name=de.tudarmstadt.ukp.dkpro.core.api.syntax.type.constituent.SBAR)\n",
      "Type(name=de.tudarmstadt.ukp.dkpro.core.api.syntax.type.chunk.ADJC)\n",
      "Type(name=de.tudarmstadt.ukp.dkpro.core.api.syntax.type.dependency.DET)\n",
      "Type(name=de.tudarmstadt.ukp.dkpro.core.api.syntax.type.dependency.ABBREV)\n",
      "Type(name=de.tudarmstadt.ukp.dkpro.core.api.ner.type.Date)\n",
      "Type(name=de.tudarmstadt.ukp.dkpro.core.api.ner.type.GpeDesc)\n",
      "Type(name=de.tudarmstadt.ukp.dkpro.core.api.syntax.type.chunk.VC)\n",
      "Type(name=de.tudarmstadt.ukp.dkpro.core.api.syntax.type.dependency.MEASURE)\n",
      "Type(name=de.tudarmstadt.ukp.dkpro.core.api.lexmorph.type.pos.POS_PUNCT)\n",
      "Type(name=de.tudarmstadt.ukp.dkpro.core.api.ner.type.Plant)\n",
      "Type(name=de.tudarmstadt.ukp.dkpro.core.api.syntax.type.constituent.WHNP)\n",
      "Type(name=de.tudarmstadt.ukp.dkpro.core.api.syntax.type.dependency.POBJ)\n",
      "Type(name=de.tudarmstadt.ukp.dkpro.core.api.syntax.type.constituent.PRT)\n",
      "Type(name=de.tudarmstadt.ukp.dkpro.core.api.ner.type.Gpe)\n",
      "Type(name=de.tudarmstadt.ukp.dkpro.core.api.lexmorph.type.pos.POS_SCONJ)\n",
      "Type(name=de.tudarmstadt.ukp.dkpro.core.api.syntax.type.constituent.UCP)\n",
      "Type(name=de.tudarmstadt.ukp.dkpro.core.api.lexmorph.type.pos.POS_SYM)\n",
      "Type(name=de.tudarmstadt.ukp.dkpro.core.api.syntax.type.dependency.REL)\n",
      "Type(name=de.tudarmstadt.ukp.dkpro.core.api.lexmorph.type.pos.POS_VERB)\n",
      "Type(name=de.tudarmstadt.ukp.dkpro.core.api.lexmorph.type.pos.POS_ADV)\n",
      "Type(name=de.tudarmstadt.ukp.dkpro.core.api.syntax.type.dependency.CONJ_YET)\n",
      "Type(name=de.tudarmstadt.ukp.dkpro.core.api.ner.type.Cardinal)\n",
      "Type(name=de.tudarmstadt.ukp.dkpro.core.api.syntax.type.dependency.PRECONJ)\n",
      "Type(name=de.tudarmstadt.ukp.dkpro.core.api.lexmorph.type.pos.POS_AUX)\n",
      "Type(name=de.tudarmstadt.ukp.dkpro.core.api.syntax.type.dependency.ACOMP)\n",
      "Type(name=de.tudarmstadt.ukp.dkpro.core.api.syntax.type.constituent.CONJP)\n",
      "Type(name=de.tudarmstadt.ukp.dkpro.core.api.syntax.type.chunk.LST)\n",
      "Type(name=de.tudarmstadt.ukp.dkpro.core.api.ner.type.Animal)\n",
      "Type(name=de.tudarmstadt.ukp.dkpro.core.api.syntax.type.constituent.S)\n",
      "Type(name=de.tudarmstadt.ukp.dkpro.core.api.ner.type.Fac)\n",
      "Type(name=de.tudarmstadt.ukp.dkpro.core.api.syntax.type.dependency.EXPL)\n",
      "Type(name=de.tudarmstadt.ukp.dkpro.core.api.syntax.type.constituent.ADVP)\n",
      "Type(name=de.tudarmstadt.ukp.dkpro.core.api.syntax.type.dependency.APPOS)\n",
      "Type(name=de.tudarmstadt.ukp.dkpro.core.api.syntax.type.constituent.PRP)\n",
      "Type(name=de.tudarmstadt.ukp.dkpro.core.api.ner.type.Event)\n",
      "Type(name=de.tudarmstadt.ukp.dkpro.core.api.syntax.type.chunk.ADVC)\n",
      "Type(name=de.tudarmstadt.ukp.dkpro.core.api.syntax.type.dependency.CSUBJPASS)\n",
      "Type(name=de.tudarmstadt.ukp.dkpro.core.api.syntax.type.dependency.CONJP)\n",
      "Type(name=de.tudarmstadt.ukp.dkpro.core.api.ner.type.Person)\n",
      "Type(name=de.tudarmstadt.ukp.dkpro.core.api.syntax.type.dependency.REF)\n",
      "Type(name=de.tudarmstadt.ukp.dkpro.core.api.segmentation.type.LinkingMorpheme)\n",
      "Type(name=de.tudarmstadt.ukp.dkpro.core.api.syntax.type.dependency.PCOMP)\n",
      "Type(name=de.tudarmstadt.ukp.dkpro.core.api.segmentation.type.Heading)\n",
      "Type(name=de.tudarmstadt.ukp.dkpro.core.api.syntax.type.chunk.PRT)\n",
      "Type(name=de.tudarmstadt.ukp.dkpro.core.api.syntax.type.dependency.NEG)\n",
      "Type(name=de.tudarmstadt.ukp.dkpro.core.api.ner.type.ContactInfo)\n",
      "Type(name=de.tudarmstadt.ukp.dkpro.core.api.lexmorph.type.pos.POS_PRON)\n",
      "Type(name=de.tudarmstadt.ukp.dkpro.core.api.syntax.type.constituent.FRAG)\n",
      "Type(name=de.tudarmstadt.ukp.dkpro.core.api.syntax.type.chunk.PC)\n",
      "Type(name=de.tudarmstadt.ukp.dkpro.core.api.syntax.type.dependency.XCOMP)\n",
      "Type(name=de.tudarmstadt.ukp.dkpro.core.api.syntax.type.dependency.AUX0)\n",
      "Type(name=de.tudarmstadt.ukp.dkpro.core.api.ner.type.FacDesc)\n",
      "Type(name=de.tudarmstadt.ukp.dkpro.core.api.syntax.type.dependency.INFMOD)\n",
      "Type(name=de.tudarmstadt.ukp.dkpro.core.api.syntax.type.dependency.PURPCL)\n",
      "Type(name=de.tudarmstadt.ukp.dkpro.core.api.ner.type.Percent)\n",
      "Type(name=de.tudarmstadt.ukp.dkpro.core.api.syntax.type.dependency.AMOD)\n",
      "Type(name=de.tudarmstadt.ukp.dkpro.core.api.ner.type.OrgDesc)\n",
      "Type(name=de.tudarmstadt.ukp.dkpro.core.api.ner.type.Quantity)\n",
      "Type(name=de.tudarmstadt.ukp.dkpro.core.api.syntax.type.constituent.INTJ)\n",
      "Type(name=de.tudarmstadt.ukp.dkpro.core.api.syntax.type.dependency.AUXPASS)\n",
      "Type(name=de.tudarmstadt.ukp.dkpro.core.api.ner.type.Law)\n",
      "Type(name=de.tudarmstadt.ukp.dkpro.core.api.syntax.type.dependency.DEP)\n",
      "Type(name=de.tudarmstadt.ukp.dkpro.core.api.lexmorph.type.pos.POS_PART)\n",
      "Type(name=de.tudarmstadt.ukp.dkpro.core.api.ner.type.Substance)\n",
      "Type(name=de.tudarmstadt.ukp.dkpro.core.api.syntax.type.dependency.ADVCL)\n",
      "Type(name=de.tudarmstadt.ukp.dkpro.core.api.lexmorph.type.pos.POS_CONJ)\n",
      "Type(name=org.dkpro.core.api.xml.type.XmlTextNode)\n",
      "Type(name=de.tudarmstadt.ukp.dkpro.core.api.syntax.type.dependency.CCOMP)\n",
      "Type(name=de.tudarmstadt.ukp.dkpro.core.api.syntax.type.dependency.PRED)\n",
      "Type(name=de.tudarmstadt.ukp.dkpro.core.api.ner.type.Location)\n",
      "Type(name=de.tudarmstadt.ukp.dkpro.core.api.syntax.type.dependency.DOBJ)\n",
      "Type(name=de.tudarmstadt.ukp.dkpro.core.api.syntax.type.chunk.INTJ)\n",
      "Type(name=de.tudarmstadt.ukp.dkpro.core.api.syntax.type.dependency.POSSESSIVE)\n",
      "Type(name=de.tudarmstadt.ukp.dkpro.core.api.syntax.type.dependency.CC)\n",
      "Type(name=de.tudarmstadt.ukp.dkpro.core.api.segmentation.type.Document)\n",
      "Type(name=de.tudarmstadt.ukp.dkpro.core.api.syntax.type.constituent.SQ)\n",
      "Type(name=de.tudarmstadt.ukp.dkpro.core.api.syntax.type.dependency.NPADVMOD)\n",
      "Type(name=de.tudarmstadt.ukp.dkpro.core.api.syntax.type.chunk.CONCJ)\n",
      "Type(name=de.tudarmstadt.ukp.dkpro.core.api.ner.type.Ordinal)\n",
      "Type(name=de.tudarmstadt.ukp.dkpro.core.api.syntax.type.constituent.WHADJP)\n",
      "Type(name=de.tudarmstadt.ukp.dkpro.core.api.lexmorph.type.pos.tweet.POS_NPV)\n",
      "Type(name=de.tudarmstadt.ukp.dkpro.core.api.lexmorph.type.pos.tweet.POS_EMO)\n",
      "Type(name=de.tudarmstadt.ukp.dkpro.core.api.lexmorph.type.pos.tweet.POS_INT)\n",
      "Type(name=de.tudarmstadt.ukp.dkpro.core.api.lexmorph.type.pos.tweet.POS_AT)\n",
      "Type(name=de.tudarmstadt.ukp.dkpro.core.api.lexmorph.type.pos.tweet.POS_DM)\n",
      "Type(name=de.tudarmstadt.ukp.dkpro.core.api.lexmorph.type.pos.tweet.POS_NNV)\n",
      "Type(name=de.tudarmstadt.ukp.dkpro.core.api.lexmorph.type.pos.tweet.POS_HASH)\n",
      "Type(name=de.tudarmstadt.ukp.dkpro.core.api.lexmorph.type.pos.tweet.POS_URL)\n"
     ]
    }
   ],
   "source": [
    "# check all the types\n",
    "for t in cas.typesystem.get_types():\n",
    "    print(t)"
   ]
  },
  {
   "cell_type": "code",
   "execution_count": 6,
   "metadata": {},
   "outputs": [],
   "source": [
    "# Selecting annotations\n",
    "#error_location=[]\n",
    "for sentence in cas.select('de.tudarmstadt.ukp.dkpro.core.api.segmentation.type.Sentence'):\n",
    "    sentence_begin = sentence.begin\n",
    "    for error in cas.select_covered('webanno.custom.Error', sentence):\n",
    "        print(error.get_covered_text())\n",
    "        print(error.begin)\n",
    "        print(error.end)\n",
    "       \n",
    "        #error_location.append((error.begin,error.end,error.get_covered_text()))\n",
    "#print(error_location)"
   ]
  },
  {
   "cell_type": "code",
   "execution_count": 9,
   "metadata": {},
   "outputs": [
    {
     "ename": "NameError",
     "evalue": "name 'error' is not defined",
     "output_type": "error",
     "traceback": [
      "\u001b[1;31m---------------------------------------------------------------------------\u001b[0m",
      "\u001b[1;31mNameError\u001b[0m                                 Traceback (most recent call last)",
      "\u001b[1;32m~\\AppData\\Local\\Temp/ipykernel_9176/3667523716.py\u001b[0m in \u001b[0;36m<module>\u001b[1;34m\u001b[0m\n\u001b[1;32m----> 1\u001b[1;33m \u001b[0mtype\u001b[0m\u001b[1;33m(\u001b[0m\u001b[0merror\u001b[0m\u001b[1;33m.\u001b[0m\u001b[0mget_covered_text\u001b[0m\u001b[1;33m(\u001b[0m\u001b[1;33m)\u001b[0m\u001b[1;33m)\u001b[0m\u001b[1;33m\u001b[0m\u001b[1;33m\u001b[0m\u001b[0m\n\u001b[0m",
      "\u001b[1;31mNameError\u001b[0m: name 'error' is not defined"
     ]
    }
   ],
   "source": [
    "\n"
   ]
  },
  {
   "cell_type": "code",
   "execution_count": null,
   "metadata": {},
   "outputs": [
    {
     "data": {
      "text/plain": [
       "4"
      ]
     },
     "execution_count": 117,
     "metadata": {},
     "output_type": "execute_result"
    }
   ],
   "source": [
    "len(error.get_covered_text())"
   ]
  },
  {
   "cell_type": "code",
   "execution_count": null,
   "metadata": {},
   "outputs": [
    {
     "name": "stdout",
     "output_type": "stream",
     "text": [
      "[B即]\n"
     ]
    }
   ],
   "source": [
    "print(error.get_covered_text())"
   ]
  },
  {
   "cell_type": "code",
   "execution_count": 6,
   "metadata": {},
   "outputs": [
    {
     "data": {
      "text/html": [
       "<div>\n",
       "<style scoped>\n",
       "    .dataframe tbody tr th:only-of-type {\n",
       "        vertical-align: middle;\n",
       "    }\n",
       "\n",
       "    .dataframe tbody tr th {\n",
       "        vertical-align: top;\n",
       "    }\n",
       "\n",
       "    .dataframe thead th {\n",
       "        text-align: right;\n",
       "    }\n",
       "</style>\n",
       "<table border=\"1\" class=\"dataframe\">\n",
       "  <thead>\n",
       "    <tr style=\"text-align: right;\">\n",
       "      <th></th>\n",
       "      <th>Title</th>\n",
       "      <th>Error_Annotation</th>\n",
       "    </tr>\n",
       "  </thead>\n",
       "  <tbody>\n",
       "    <tr>\n",
       "      <th>0</th>\n",
       "      <td>GreenFood_1.txt</td>\n",
       "      <td>GreenFood_1.txt</td>\n",
       "    </tr>\n",
       "    <tr>\n",
       "      <th>1</th>\n",
       "      <td>GreenFood_10.txt</td>\n",
       "      <td>GreenFood_10.txt</td>\n",
       "    </tr>\n",
       "    <tr>\n",
       "      <th>2</th>\n",
       "      <td>GreenFood_100.txt</td>\n",
       "      <td>GreenFood_100.txt</td>\n",
       "    </tr>\n",
       "    <tr>\n",
       "      <th>3</th>\n",
       "      <td>GreenFood_101.txt</td>\n",
       "      <td>GreenFood_101.txt</td>\n",
       "    </tr>\n",
       "    <tr>\n",
       "      <th>4</th>\n",
       "      <td>GreenFood_102.txt</td>\n",
       "      <td>GreenFood_102.txt</td>\n",
       "    </tr>\n",
       "    <tr>\n",
       "      <th>...</th>\n",
       "      <td>...</td>\n",
       "      <td>...</td>\n",
       "    </tr>\n",
       "    <tr>\n",
       "      <th>3626</th>\n",
       "      <td>Multi_995.txt</td>\n",
       "      <td>Multi_995.txt</td>\n",
       "    </tr>\n",
       "    <tr>\n",
       "      <th>3627</th>\n",
       "      <td>Multi_996.txt</td>\n",
       "      <td>Multi_996.txt</td>\n",
       "    </tr>\n",
       "    <tr>\n",
       "      <th>3628</th>\n",
       "      <td>Multi_997.txt</td>\n",
       "      <td>Multi_997.txt</td>\n",
       "    </tr>\n",
       "    <tr>\n",
       "      <th>3629</th>\n",
       "      <td>Multi_998.txt</td>\n",
       "      <td>Multi_998.txt</td>\n",
       "    </tr>\n",
       "    <tr>\n",
       "      <th>3630</th>\n",
       "      <td>Multi_999.txt</td>\n",
       "      <td>Multi_999.txt</td>\n",
       "    </tr>\n",
       "  </tbody>\n",
       "</table>\n",
       "<p>3631 rows × 2 columns</p>\n",
       "</div>"
      ],
      "text/plain": [
       "                  Title   Error_Annotation\n",
       "0       GreenFood_1.txt    GreenFood_1.txt\n",
       "1      GreenFood_10.txt   GreenFood_10.txt\n",
       "2     GreenFood_100.txt  GreenFood_100.txt\n",
       "3     GreenFood_101.txt  GreenFood_101.txt\n",
       "4     GreenFood_102.txt  GreenFood_102.txt\n",
       "...                 ...                ...\n",
       "3626      Multi_995.txt      Multi_995.txt\n",
       "3627      Multi_996.txt      Multi_996.txt\n",
       "3628      Multi_997.txt      Multi_997.txt\n",
       "3629      Multi_998.txt      Multi_998.txt\n",
       "3630      Multi_999.txt      Multi_999.txt\n",
       "\n",
       "[3631 rows x 2 columns]"
      ]
     },
     "execution_count": 6,
     "metadata": {},
     "output_type": "execute_result"
    }
   ],
   "source": [
    "import pandas as pd\n",
    "import numpy as np\n",
    "directory = r'C:\\Users\\dawns\\Desktop\\annotation\\annotation'\n",
    "df = pd.DataFrame()\n",
    "filenames=os.listdir(r'C:\\Users\\dawns\\Desktop\\annotation\\annotation') #遍历只有一层目录的文件\n",
    "# 当文件中既有文件又有文件夹时–os.walk()   \n",
    "#print(filenames) \n",
    "# 把文件夹代号转为dataframe首列\n",
    "df['Title']= pd.DataFrame(filenames)\n",
    "df['Error_Annotation']=df['Title']\n",
    "df"
   ]
  },
  {
   "cell_type": "code",
   "execution_count": 9,
   "metadata": {},
   "outputs": [],
   "source": [
    "\n",
    "df1 = pd.DataFrame()\n",
    "for text in filenames:\n",
    "    text_dir = directory + '/' + text\n",
    "    cas = load_cas(text_dir)\n",
    "    error_location=[]\n",
    "    for sentence in cas.select('de.tudarmstadt.ukp.dkpro.core.api.segmentation.type.Sentence'):\n",
    "        sentence_begin = sentence.begin\n",
    "        for error in cas.select_covered('webanno.custom.Error', sentence):\n",
    "            #if len(error.get_covered_text())==0:\n",
    "                #df1= df1.append('0')\n",
    "            if len(error.get_covered_text())!=0:\n",
    "                error_location.append((error.begin,error.end,error.get_covered_text()))\n",
    "            #df1=df1.append(error_location)\n",
    "                \n",
    "                #cover.append('0')\n",
    "            \n",
    "                #error_location.append((error.begin,error.end,error.get_covered_text()))\n",
    "        #print(error_location)\n",
    "                #cover.append(error_location)\n",
    "                \n",
    "                     \n",
    "                #cover.append((error.begin,error.end,error.get_covered_text()))\n",
    "                #print(cover)\n",
    "\n",
    "\n",
    "    "
   ]
  },
  {
   "cell_type": "code",
   "execution_count": 8,
   "metadata": {},
   "outputs": [
    {
     "ename": "TypeNotFoundError",
     "evalue": "Type with name [de.tudarmstadt.ukp.dkpro.core.api.segmentation.type.webanno.custom.Error] not found!",
     "output_type": "error",
     "traceback": [
      "\u001b[1;31m---------------------------------------------------------------------------\u001b[0m",
      "\u001b[1;31mTypeNotFoundError\u001b[0m                         Traceback (most recent call last)",
      "\u001b[1;32m~\\AppData\\Local\\Temp/ipykernel_9896/1976766866.py\u001b[0m in \u001b[0;36m<module>\u001b[1;34m\u001b[0m\n\u001b[0;32m      3\u001b[0m     \u001b[0mtext_dir\u001b[0m \u001b[1;33m=\u001b[0m \u001b[0mdirectory\u001b[0m \u001b[1;33m+\u001b[0m \u001b[1;34m'/'\u001b[0m \u001b[1;33m+\u001b[0m \u001b[0mtext\u001b[0m\u001b[1;33m\u001b[0m\u001b[1;33m\u001b[0m\u001b[0m\n\u001b[0;32m      4\u001b[0m     \u001b[0mcas\u001b[0m \u001b[1;33m=\u001b[0m \u001b[0mload_cas\u001b[0m\u001b[1;33m(\u001b[0m\u001b[0mtext_dir\u001b[0m\u001b[1;33m)\u001b[0m\u001b[1;33m\u001b[0m\u001b[1;33m\u001b[0m\u001b[0m\n\u001b[1;32m----> 5\u001b[1;33m     \u001b[1;32mfor\u001b[0m \u001b[0msentence\u001b[0m \u001b[1;32min\u001b[0m \u001b[0mcas\u001b[0m\u001b[1;33m.\u001b[0m\u001b[0mselect\u001b[0m\u001b[1;33m(\u001b[0m\u001b[1;34m'de.tudarmstadt.ukp.dkpro.core.api.segmentation.type.webanno.custom.Error'\u001b[0m\u001b[1;33m)\u001b[0m\u001b[1;33m:\u001b[0m\u001b[1;33m\u001b[0m\u001b[1;33m\u001b[0m\u001b[0m\n\u001b[0m\u001b[0;32m      6\u001b[0m         \u001b[1;32mif\u001b[0m \u001b[0mlen\u001b[0m\u001b[1;33m(\u001b[0m\u001b[0merror\u001b[0m\u001b[1;33m.\u001b[0m\u001b[0mget_covered_text\u001b[0m\u001b[1;33m(\u001b[0m\u001b[1;33m)\u001b[0m\u001b[1;33m)\u001b[0m\u001b[1;33m==\u001b[0m\u001b[1;36m0\u001b[0m\u001b[1;33m:\u001b[0m\u001b[1;33m\u001b[0m\u001b[1;33m\u001b[0m\u001b[0m\n\u001b[0;32m      7\u001b[0m             \u001b[0mwithout_error\u001b[0m\u001b[1;33m.\u001b[0m\u001b[0mappend\u001b[0m\u001b[1;33m(\u001b[0m\u001b[0mtext\u001b[0m\u001b[1;33m)\u001b[0m\u001b[1;33m\u001b[0m\u001b[1;33m\u001b[0m\u001b[0m\n",
      "\u001b[1;32md:\\anaconda\\lib\\site-packages\\cassis\\cas.py\u001b[0m in \u001b[0;36mselect\u001b[1;34m(self, type_name)\u001b[0m\n\u001b[0;32m    398\u001b[0m \u001b[1;33m\u001b[0m\u001b[0m\n\u001b[0;32m    399\u001b[0m         \"\"\"\n\u001b[1;32m--> 400\u001b[1;33m         \u001b[1;32mreturn\u001b[0m \u001b[0mself\u001b[0m\u001b[1;33m.\u001b[0m\u001b[0m_get_feature_structures\u001b[0m\u001b[1;33m(\u001b[0m\u001b[0mtype_name\u001b[0m\u001b[1;33m)\u001b[0m\u001b[1;33m\u001b[0m\u001b[1;33m\u001b[0m\u001b[0m\n\u001b[0m\u001b[0;32m    401\u001b[0m \u001b[1;33m\u001b[0m\u001b[0m\n\u001b[0;32m    402\u001b[0m     \u001b[1;32mdef\u001b[0m \u001b[0mselect_covered\u001b[0m\u001b[1;33m(\u001b[0m\u001b[0mself\u001b[0m\u001b[1;33m,\u001b[0m \u001b[0mtype_name\u001b[0m\u001b[1;33m:\u001b[0m \u001b[0mstr\u001b[0m\u001b[1;33m,\u001b[0m \u001b[0mcovering_annotation\u001b[0m\u001b[1;33m:\u001b[0m \u001b[0mFeatureStructure\u001b[0m\u001b[1;33m)\u001b[0m \u001b[1;33m->\u001b[0m \u001b[0mList\u001b[0m\u001b[1;33m[\u001b[0m\u001b[0mFeatureStructure\u001b[0m\u001b[1;33m]\u001b[0m\u001b[1;33m:\u001b[0m\u001b[1;33m\u001b[0m\u001b[1;33m\u001b[0m\u001b[0m\n",
      "\u001b[1;32md:\\anaconda\\lib\\site-packages\\cassis\\cas.py\u001b[0m in \u001b[0;36m_get_feature_structures\u001b[1;34m(self, type_name)\u001b[0m\n\u001b[0;32m    463\u001b[0m     \u001b[1;32mdef\u001b[0m \u001b[0m_get_feature_structures\u001b[0m\u001b[1;33m(\u001b[0m\u001b[0mself\u001b[0m\u001b[1;33m,\u001b[0m \u001b[0mtype_name\u001b[0m\u001b[1;33m)\u001b[0m \u001b[1;33m->\u001b[0m \u001b[0mList\u001b[0m\u001b[1;33m[\u001b[0m\u001b[0mFeatureStructure\u001b[0m\u001b[1;33m]\u001b[0m\u001b[1;33m:\u001b[0m\u001b[1;33m\u001b[0m\u001b[1;33m\u001b[0m\u001b[0m\n\u001b[0;32m    464\u001b[0m         \u001b[1;34m\"\"\"Returns a list of all feature structures of type `type_name` and child types.\"\"\"\u001b[0m\u001b[1;33m\u001b[0m\u001b[1;33m\u001b[0m\u001b[0m\n\u001b[1;32m--> 465\u001b[1;33m         \u001b[0mt\u001b[0m \u001b[1;33m=\u001b[0m \u001b[0mself\u001b[0m\u001b[1;33m.\u001b[0m\u001b[0m_typesystem\u001b[0m\u001b[1;33m.\u001b[0m\u001b[0mget_type\u001b[0m\u001b[1;33m(\u001b[0m\u001b[0mtype_name\u001b[0m\u001b[1;33m)\u001b[0m\u001b[1;33m\u001b[0m\u001b[1;33m\u001b[0m\u001b[0m\n\u001b[0m\u001b[0;32m    466\u001b[0m         \u001b[0mtypes\u001b[0m \u001b[1;33m=\u001b[0m \u001b[1;33m{\u001b[0m\u001b[0mc\u001b[0m\u001b[1;33m.\u001b[0m\u001b[0mname\u001b[0m \u001b[1;32mfor\u001b[0m \u001b[0mc\u001b[0m \u001b[1;32min\u001b[0m \u001b[0mt\u001b[0m\u001b[1;33m.\u001b[0m\u001b[0mdescendants\u001b[0m\u001b[1;33m}\u001b[0m\u001b[1;33m\u001b[0m\u001b[1;33m\u001b[0m\u001b[0m\n\u001b[0;32m    467\u001b[0m \u001b[1;33m\u001b[0m\u001b[0m\n",
      "\u001b[1;32md:\\anaconda\\lib\\site-packages\\cassis\\typesystem.py\u001b[0m in \u001b[0;36mget_type\u001b[1;34m(self, type_name)\u001b[0m\n\u001b[0;32m    838\u001b[0m             \u001b[1;32mreturn\u001b[0m \u001b[0mself\u001b[0m\u001b[1;33m.\u001b[0m\u001b[0m_types\u001b[0m\u001b[1;33m[\u001b[0m\u001b[0mtype_name\u001b[0m\u001b[1;33m]\u001b[0m\u001b[1;33m\u001b[0m\u001b[1;33m\u001b[0m\u001b[0m\n\u001b[0;32m    839\u001b[0m         \u001b[1;32melse\u001b[0m\u001b[1;33m:\u001b[0m\u001b[1;33m\u001b[0m\u001b[1;33m\u001b[0m\u001b[0m\n\u001b[1;32m--> 840\u001b[1;33m             \u001b[1;32mraise\u001b[0m \u001b[0mTypeNotFoundError\u001b[0m\u001b[1;33m(\u001b[0m\u001b[1;34mf\"Type with name [{type_name}] not found!\"\u001b[0m\u001b[1;33m)\u001b[0m\u001b[1;33m\u001b[0m\u001b[1;33m\u001b[0m\u001b[0m\n\u001b[0m\u001b[0;32m    841\u001b[0m \u001b[1;33m\u001b[0m\u001b[0m\n\u001b[0;32m    842\u001b[0m     \u001b[1;32mdef\u001b[0m \u001b[0mget_types\u001b[0m\u001b[1;33m(\u001b[0m\u001b[0mself\u001b[0m\u001b[1;33m,\u001b[0m \u001b[0mbuilt_in\u001b[0m\u001b[1;33m:\u001b[0m \u001b[0mbool\u001b[0m \u001b[1;33m=\u001b[0m \u001b[1;32mFalse\u001b[0m\u001b[1;33m)\u001b[0m \u001b[1;33m->\u001b[0m \u001b[0mIterator\u001b[0m\u001b[1;33m[\u001b[0m\u001b[0mType\u001b[0m\u001b[1;33m]\u001b[0m\u001b[1;33m:\u001b[0m\u001b[1;33m\u001b[0m\u001b[1;33m\u001b[0m\u001b[0m\n",
      "\u001b[1;31mTypeNotFoundError\u001b[0m: Type with name [de.tudarmstadt.ukp.dkpro.core.api.segmentation.type.webanno.custom.Error] not found!"
     ]
    }
   ],
   "source": [
    "without_error=[]\n",
    "for text in filenames:\n",
    "    text_dir = directory + '/' + text\n",
    "    cas = load_cas(text_dir)\n",
    "    for sentence in cas.select('de.tudarmstadt.ukp.dkpro.core.api.segmentation.type.webanno.custom.Error'):\n",
    "        if len(error.get_covered_text())==0:\n",
    "            without_error.append(text)\n",
    "            print(text)\n",
    "            \n"
   ]
  },
  {
   "cell_type": "code",
   "execution_count": null,
   "metadata": {},
   "outputs": [
    {
     "name": "stdout",
     "output_type": "stream",
     "text": [
      "[]\n"
     ]
    }
   ],
   "source": [
    "print(without_error)"
   ]
  },
  {
   "cell_type": "code",
   "execution_count": null,
   "metadata": {},
   "outputs": [],
   "source": [
    "with_error=[]\n",
    "for text in filenames:\n",
    "    text_dir = directory + '/' + text\n",
    "    cas = load_cas(text_dir)\n",
    "    for sentence in cas.select('de.tudarmstadt.ukp.dkpro.core.api.segmentation.type.Sentence'):\n",
    "        sentence_begin = sentence.begin\n",
    "        if len(error.get_covered_text())!=0:\n",
    "            with_error.append(text)\n",
    "            #print(text)"
   ]
  },
  {
   "cell_type": "code",
   "execution_count": null,
   "metadata": {},
   "outputs": [
    {
     "name": "stdout",
     "output_type": "stream",
     "text": [
      "55278\n",
      "3631\n"
     ]
    }
   ],
   "source": [
    "print(len(with_error))\n",
    "print(len(list(set(with_error))))\n",
    "# 3631 包含错误的吗？不应该啊"
   ]
  },
  {
   "cell_type": "code",
   "execution_count": 4,
   "metadata": {},
   "outputs": [],
   "source": [
    "directory = r'C:\\Users\\dawns\\Desktop\\annotation\\annotation'\n",
    "#clean_data(directory)\n",
    "annotation_cas = []\n",
    "text = 'GreenFood_1.txt'\n",
    "text_dir = directory + '/' + text\n",
    "cas = load_cas(text_dir)"
   ]
  },
  {
   "cell_type": "code",
   "execution_count": 7,
   "metadata": {},
   "outputs": [],
   "source": [
    "df1 = pd.DataFrame()"
   ]
  },
  {
   "cell_type": "code",
   "execution_count": 9,
   "metadata": {},
   "outputs": [],
   "source": [
    "cover=[]\n",
    "for text in filenames:\n",
    "    text_dir = directory + '/' + text\n",
    "    cas = load_cas(text_dir)\n",
    "    error_location=[]\n",
    "    for sentence in cas.select('de.tudarmstadt.ukp.dkpro.core.api.segmentation.type.Sentence'):\n",
    "        sentence_begin = sentence.begin\n",
    "        for error in cas.select_covered('webanno.custom.Error', sentence):\n",
    "            cover.append(error.get_covered_text())\n",
    "            "
   ]
  },
  {
   "cell_type": "code",
   "execution_count": null,
   "metadata": {},
   "outputs": [],
   "source": [
    "#print(cover)"
   ]
  },
  {
   "cell_type": "code",
   "execution_count": 12,
   "metadata": {},
   "outputs": [
    {
     "data": {
      "text/plain": [
       "2579"
      ]
     },
     "execution_count": 12,
     "metadata": {},
     "output_type": "execute_result"
    }
   ],
   "source": [
    "len(cover)"
   ]
  },
  {
   "cell_type": "code",
   "execution_count": 13,
   "metadata": {},
   "outputs": [
    {
     "name": "stdout",
     "output_type": "stream",
     "text": [
      "The most frequency connective words: [('{CQ就}', 122), ('{CC2而}', 93), ('{CD而}', 73), ('{CC而}', 63), ('{CC也}', 54), ('{CC就}', 38), ('{CJ-zy就}', 38), ('{CQ而}', 35), ('{CQ因}', 33), ('{CQ因为}', 32), ('{CQ和}', 32), ('{CC和}', 30)]\n",
      "The least frequency connective words: [('{CJ-zy又}', 1), ('{CC行}', 1), ('{CC或许}', 1), ('{CC司以}', 1), ('{CC1而且说}', 1), ('{CC还要}', 1), ('{CC1由于}', 1), ('{CC过然}', 1), ('{CC除非}', 1), ('{CD终于}', 1), ('{CC3首先}', 1), ('{CJ-zy以后就}', 1)]\n"
     ]
    }
   ],
   "source": [
    "from collections import Counter\n",
    "error_counts = Counter(cover)\n",
    "\n",
    "top_twelf = error_counts.most_common(12)\n",
    "print('The most frequency connective words:',top_twelf)\n",
    "least_twelf = error_counts.most_common()[:-13:-1]\n",
    "print('The least frequency connective words:',least_twelf)"
   ]
  },
  {
   "cell_type": "code",
   "execution_count": null,
   "metadata": {},
   "outputs": [
    {
     "data": {
      "text/plain": [
       "683"
      ]
     },
     "execution_count": 125,
     "metadata": {},
     "output_type": "execute_result"
    }
   ],
   "source": [
    "len(error_counts)"
   ]
  },
  {
   "cell_type": "code",
   "execution_count": 14,
   "metadata": {},
   "outputs": [
    {
     "name": "stdout",
     "output_type": "stream",
     "text": [
      "[('{CQ就}', 122), ('{CC2而}', 93), ('{CD而}', 73), ('{CC而}', 63), ('{CC也}', 54), ('{CC就}', 38), ('{CJ-zy就}', 38), ('{CQ而}', 35), ('{CQ因}', 33), ('{CQ因为}', 32), ('{CQ和}', 32), ('{CC和}', 30)]\n"
     ]
    }
   ],
   "source": [
    "top_twenty = error_counts.most_common(12)\n",
    "print(top_twelf)"
   ]
  },
  {
   "cell_type": "code",
   "execution_count": 15,
   "metadata": {},
   "outputs": [
    {
     "data": {
      "image/png": "[encoded data removed]",
      "text/plain": [
       "<Figure size 1152x432 with 1 Axes>"
      ]
     },
     "metadata": {
      "needs_background": "light"
     },
     "output_type": "display_data"
    }
   ],
   "source": [
    "# visualise the most amount of connective words in whole essays\n",
    "import matplotlib.pyplot as plt\n",
    "plt.rcParams['font.sans-serif'] = ['SimHei']\n",
    "plt.rcParams['axes.unicode_minus'] = False\n",
    "x_labels = [val[0] for val in top_twenty]\n",
    "y_labels = [val[1] for val in top_twenty]\n",
    "plt.figure(figsize=(16,6))\n",
    "ax = pd.Series(y_labels).plot(kind='bar')\n",
    "ax.set_xticklabels(x_labels) \n",
    "rects = ax.patches\n",
    "for rect, label in zip(rects, y_labels):\n",
    "    height = rect.get_height()\n",
    "    ax.text(rect.get_x() + rect.get_width()/2, height + 5, label, ha='center', va='bottom')\n",
    "    plt.xticks(rotation=15) \n",
    "    plt.tick_params(axis='x', labelsize=14) "
   ]
  }
 ],
 "metadata": {
  "kernelspec": {
   "display_name": "Python 3.9.7 ('base')",
   "language": "python",
   "name": "python3"
  },
  "language_info": {
   "codemirror_mode": {
    "name": "ipython",
    "version": 3
   },
   "file_extension": ".py",
   "mimetype": "text/x-python",
   "name": "python",
   "nbconvert_exporter": "python",
   "pygments_lexer": "ipython3",
   "version": "3.9.7 (default, Sep 16 2021, 16:59:28) [MSC v.1916 64 bit (AMD64)]"
  },
  "orig_nbformat": 4,
  "vscode": {
   "interpreter": {
    "hash": "5179d32cf6ec497baf3f8a3ef987cc77c5d2dc691fdde20a56316522f61a7323"
   }
  }
 },
 "nbformat": 4,
 "nbformat_minor": 2
}
