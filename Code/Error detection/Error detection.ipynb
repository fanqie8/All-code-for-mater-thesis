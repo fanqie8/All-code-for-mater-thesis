{
 "cells": [
  {
   "cell_type": "code",
   "execution_count": 2,
   "metadata": {},
   "outputs": [],
   "source": [
    "#with open(r'C:\\Users\\dawns\\Desktop\\error detection\\annotation\\GreenFood_1.txt\\zhengwu.xmi', 'rb') as f:\n",
    "    #typesystem = load_typesystem(f)"
   ]
  },
  {
   "cell_type": "code",
   "execution_count": 6,
   "metadata": {},
   "outputs": [],
   "source": [
    "import os\n",
    "import zipfile\n",
    "from cassis import load_typesystem, load_cas_from_xmi"
   ]
  },
  {
   "cell_type": "code",
   "execution_count": 7,
   "metadata": {},
   "outputs": [],
   "source": [
    "# clean data\n",
    "def clean_data(directory):\n",
    "    for text in os.listdir(directory):              # os.listdir(path) 返回path指定的文件夹包含的文件或文件夹的名字的列表。\n",
    "        text_dir = directory + '/' + text\n",
    "        # unzip and delete zip data\n",
    "        for file in os.listdir(text_dir):\n",
    "            file_name = os.fsdecode(file)\n",
    "            if file_name.endswith('.zip'):\n",
    "                file_path = text_dir+'/'+file_name\n",
    "                with zipfile.ZipFile(file_path, 'r') as zip_ref:\n",
    "                    zip_ref.extractall(text_dir)\n",
    "                os.remove(file_path)\n",
    "        # delete annotations from Yuning\n",
    "        for file in os.listdir(text_dir):\n",
    "            file_name = os.fsdecode(file)\n",
    "            if 'yuningding' in file_name:\n",
    "                file_path = text_dir + '/' + file_name\n",
    "                os.remove(file_path)"
   ]
  },
  {
   "cell_type": "code",
   "execution_count": 8,
   "metadata": {},
   "outputs": [],
   "source": [
    "# load cas\n",
    "def load_cas(text_directory):\n",
    "    with open(text_directory+'/TypeSystem.xml', 'rb') as f:\n",
    "        typesystem = load_typesystem(f)\n",
    "    with open(text_directory+'/zhengwu.xmi', 'rb') as f:\n",
    "        cas = load_cas_from_xmi(f, typesystem=typesystem)\n",
    "    return cas"
   ]
  },
  {
   "cell_type": "code",
   "execution_count": 106,
   "metadata": {},
   "outputs": [],
   "source": [
    "directory = r'C:\\Users\\dawns\\Desktop\\annotation\\annotation'\n",
    "#clean_data(directory)\n",
    "annotation_cas = []\n",
    "text = 'GreenFood_10.txt'\n",
    "text_dir = directory + '/' + text\n",
    "cas = load_cas(text_dir)"
   ]
  },
  {
   "cell_type": "code",
   "execution_count": 37,
   "metadata": {},
   "outputs": [
    {
     "name": "stdout",
     "output_type": "stream",
     "text": [
      "Type(name=uima.tcas.DocumentAnnotation)\n",
      "Type(name=de.tudarmstadt.ukp.dkpro.core.api.segmentation.type.LexicalPhrase)\n",
      "Type(name=de.tudarmstadt.ukp.dkpro.core.api.semantics.type.SemArgLink)\n",
      "Type(name=de.tudarmstadt.ukp.dkpro.core.api.segmentation.type.Compound)\n",
      "Type(name=de.tudarmstadt.ukp.dkpro.core.api.segmentation.type.Lemma)\n",
      "Type(name=de.tudarmstadt.ukp.dkpro.core.api.segmentation.type.Stem)\n",
      "Type(name=webanno.custom.Error)\n",
      "Type(name=de.tudarmstadt.ukp.dkpro.core.api.segmentation.type.Token)\n",
      "Type(name=de.tudarmstadt.ukp.dkpro.core.api.syntax.type.dependency.Dependency)\n",
      "Type(name=de.tudarmstadt.ukp.dkpro.core.api.transform.type.SofaChangeAnnotation)\n",
      "Type(name=de.tudarmstadt.ukp.dkpro.core.api.lexmorph.type.morph.Morpheme)\n",
      "Type(name=de.tudarmstadt.ukp.clarin.webanno.api.type.LayerDefinition)\n",
      "Type(name=de.tudarmstadt.ukp.dkpro.core.api.segmentation.type.Sentence)\n",
      "Type(name=de.tudarmstadt.ukp.dkpro.core.api.segmentation.type.SurfaceForm)\n",
      "Type(name=de.tudarmstadt.ukp.dkpro.core.api.coref.type.CoreferenceChain)\n",
      "Type(name=de.tudarmstadt.ukp.dkpro.core.api.semantics.type.SemArg)\n",
      "Type(name=de.tudarmstadt.ukp.dkpro.core.api.metadata.type.TagDescription)\n",
      "Type(name=de.tudarmstadt.ukp.dkpro.core.api.semantics.type.SemanticField)\n",
      "Type(name=de.tudarmstadt.ukp.dkpro.core.api.lexmorph.type.morph.MorphologicalFeatures)\n",
      "Type(name=de.tudarmstadt.ukp.dkpro.core.api.syntax.type.PennTree)\n",
      "Type(name=de.tudarmstadt.ukp.dkpro.core.api.syntax.type.constituent.Constituent)\n",
      "Type(name=de.tudarmstadt.ukp.dkpro.core.api.segmentation.type.Split)\n",
      "Type(name=de.tudarmstadt.ukp.dkpro.core.api.metadata.type.TagsetDescription)\n",
      "Type(name=de.tudarmstadt.ukp.dkpro.core.api.semantics.type.SemanticPredicate)\n",
      "Type(name=org.dkpro.core.api.xml.type.XmlNode)\n",
      "Type(name=de.tudarmstadt.ukp.dkpro.core.api.ner.type.NamedEntity)\n",
      "Type(name=de.tudarmstadt.ukp.dkpro.core.api.segmentation.type.NGram)\n",
      "Type(name=org.dkpro.core.api.xml.type.XmlDocument)\n",
      "Type(name=de.tudarmstadt.ukp.clarin.webanno.api.type.FeatureDefinition)\n",
      "Type(name=de.tudarmstadt.ukp.dkpro.core.api.segmentation.type.StopWord)\n",
      "Type(name=de.tudarmstadt.ukp.dkpro.core.api.semantics.type.WordSense)\n",
      "Type(name=de.tudarmstadt.ukp.dkpro.core.api.lexmorph.type.pos.POS)\n",
      "Type(name=webanno.custom.Connection)\n",
      "Type(name=de.tudarmstadt.ukp.dkpro.core.api.semantics.type.SemPred)\n",
      "Type(name=de.tudarmstadt.ukp.dkpro.core.api.segmentation.type.Div)\n",
      "Type(name=org.dkpro.core.api.xml.type.XmlAttribute)\n",
      "Type(name=de.tudarmstadt.ukp.dkpro.core.api.semantics.type.SemanticArgument)\n",
      "Type(name=de.tudarmstadt.ukp.dkpro.core.api.segmentation.type.TokenForm)\n",
      "Type(name=de.tudarmstadt.ukp.dkpro.core.api.coref.type.CoreferenceLink)\n",
      "Type(name=de.tudarmstadt.ukp.dkpro.core.api.structure.type.Field)\n",
      "Type(name=de.tudarmstadt.ukp.dkpro.core.api.metadata.type.MetaDataStringField)\n",
      "Type(name=de.tudarmstadt.ukp.dkpro.core.api.syntax.type.chunk.Chunk)\n",
      "Type(name=de.tudarmstadt.ukp.dkpro.core.api.syntax.type.constituent.SQ)\n",
      "Type(name=de.tudarmstadt.ukp.dkpro.core.api.ner.type.Language)\n",
      "Type(name=de.tudarmstadt.ukp.dkpro.core.api.syntax.type.constituent.UCP)\n",
      "Type(name=de.tudarmstadt.ukp.dkpro.core.api.syntax.type.dependency.NPADVMOD)\n",
      "Type(name=de.tudarmstadt.ukp.dkpro.core.api.ner.type.FacDesc)\n",
      "Type(name=de.tudarmstadt.ukp.dkpro.core.api.lexmorph.type.pos.POS_X)\n",
      "Type(name=de.tudarmstadt.ukp.dkpro.core.api.ner.type.Law)\n",
      "Type(name=de.tudarmstadt.ukp.dkpro.core.api.segmentation.type.Paragraph)\n",
      "Type(name=de.tudarmstadt.ukp.dkpro.core.api.ner.type.Product)\n",
      "Type(name=de.tudarmstadt.ukp.dkpro.core.api.syntax.type.dependency.INFMOD)\n",
      "Type(name=de.tudarmstadt.ukp.dkpro.core.api.syntax.type.chunk.VC)\n",
      "Type(name=de.tudarmstadt.ukp.dkpro.core.api.syntax.type.dependency.PUNCT)\n",
      "Type(name=de.tudarmstadt.ukp.dkpro.core.api.syntax.type.constituent.WHNP)\n",
      "Type(name=de.tudarmstadt.ukp.dkpro.core.api.syntax.type.constituent.SBARQ)\n",
      "Type(name=de.tudarmstadt.ukp.dkpro.core.api.ner.type.Cardinal)\n",
      "Type(name=de.tudarmstadt.ukp.dkpro.core.api.syntax.type.constituent.ADVP)\n",
      "Type(name=de.tudarmstadt.ukp.dkpro.core.api.syntax.type.chunk.ADVC)\n",
      "Type(name=de.tudarmstadt.ukp.dkpro.core.api.ner.type.Ordinal)\n",
      "Type(name=de.tudarmstadt.ukp.dkpro.core.api.syntax.type.dependency.NSUBJPASS)\n",
      "Type(name=de.tudarmstadt.ukp.dkpro.core.api.syntax.type.dependency.COMPLM)\n",
      "Type(name=de.tudarmstadt.ukp.dkpro.core.api.syntax.type.chunk.ADJC)\n",
      "Type(name=de.tudarmstadt.ukp.dkpro.core.api.ner.type.Animal)\n",
      "Type(name=de.tudarmstadt.ukp.dkpro.core.api.syntax.type.constituent.WHADJP)\n",
      "Type(name=de.tudarmstadt.ukp.dkpro.core.api.syntax.type.chunk.PRT)\n",
      "Type(name=de.tudarmstadt.ukp.dkpro.core.api.ner.type.Gpe)\n",
      "Type(name=de.tudarmstadt.ukp.dkpro.core.api.ner.type.WorkOfArt)\n",
      "Type(name=de.tudarmstadt.ukp.dkpro.core.api.syntax.type.dependency.PCOMP)\n",
      "Type(name=de.tudarmstadt.ukp.dkpro.core.api.syntax.type.constituent.S)\n",
      "Type(name=de.tudarmstadt.ukp.dkpro.core.api.syntax.type.constituent.NX)\n",
      "Type(name=de.tudarmstadt.ukp.dkpro.core.api.ner.type.GpeDesc)\n",
      "Type(name=de.tudarmstadt.ukp.dkpro.core.api.syntax.type.constituent.NAC)\n",
      "Type(name=de.tudarmstadt.ukp.dkpro.core.api.syntax.type.dependency.CC)\n",
      "Type(name=de.tudarmstadt.ukp.dkpro.core.api.lexmorph.type.pos.POS_NUM)\n",
      "Type(name=de.tudarmstadt.ukp.dkpro.core.api.syntax.type.dependency.PURPCL)\n",
      "Type(name=de.tudarmstadt.ukp.dkpro.core.api.lexmorph.type.pos.POS_CONJ)\n",
      "Type(name=de.tudarmstadt.ukp.dkpro.core.api.syntax.type.dependency.PARTMOD)\n",
      "Type(name=de.tudarmstadt.ukp.dkpro.core.api.syntax.type.dependency.XSUBJ)\n",
      "Type(name=de.tudarmstadt.ukp.dkpro.core.api.syntax.type.dependency.NSUBJ)\n",
      "Type(name=de.tudarmstadt.ukp.dkpro.core.api.syntax.type.dependency.DET)\n",
      "Type(name=de.tudarmstadt.ukp.dkpro.core.api.lexmorph.type.pos.POS_NOUN)\n",
      "Type(name=de.tudarmstadt.ukp.dkpro.core.api.segmentation.type.LinkingMorpheme)\n",
      "Type(name=de.tudarmstadt.ukp.dkpro.core.api.syntax.type.dependency.ABBREV)\n",
      "Type(name=de.tudarmstadt.ukp.dkpro.core.api.syntax.type.constituent.CONJP)\n",
      "Type(name=de.tudarmstadt.ukp.dkpro.core.api.metadata.type.DocumentMetaData)\n",
      "Type(name=org.dkpro.core.api.xml.type.XmlElement)\n",
      "Type(name=de.tudarmstadt.ukp.dkpro.core.api.syntax.type.constituent.WHPP)\n",
      "Type(name=de.tudarmstadt.ukp.dkpro.core.api.ner.type.Nationality)\n",
      "Type(name=de.tudarmstadt.ukp.dkpro.core.api.syntax.type.dependency.QUANTMOD)\n",
      "Type(name=de.tudarmstadt.ukp.dkpro.core.api.syntax.type.chunk.CONCJ)\n",
      "Type(name=de.tudarmstadt.ukp.dkpro.core.api.segmentation.type.Document)\n",
      "Type(name=de.tudarmstadt.ukp.dkpro.core.api.syntax.type.chunk.NC)\n",
      "Type(name=de.tudarmstadt.ukp.dkpro.core.api.syntax.type.chunk.O)\n",
      "Type(name=de.tudarmstadt.ukp.dkpro.core.api.syntax.type.dependency.REF)\n",
      "Type(name=de.tudarmstadt.ukp.dkpro.core.api.syntax.type.constituent.PP)\n",
      "Type(name=de.tudarmstadt.ukp.dkpro.core.api.syntax.type.dependency.XCOMP)\n",
      "Type(name=de.tudarmstadt.ukp.dkpro.core.api.syntax.type.dependency.POSSESSIVE)\n",
      "Type(name=de.tudarmstadt.ukp.dkpro.core.api.lexmorph.type.pos.POS_PUNCT)\n",
      "Type(name=de.tudarmstadt.ukp.dkpro.core.api.syntax.type.chunk.INTJ)\n",
      "Type(name=de.tudarmstadt.ukp.dkpro.core.api.syntax.type.dependency.MARK)\n",
      "Type(name=de.tudarmstadt.ukp.dkpro.core.api.syntax.type.dependency.CSUBJPASS)\n",
      "Type(name=de.tudarmstadt.ukp.dkpro.core.api.ner.type.Person)\n",
      "Type(name=de.tudarmstadt.ukp.dkpro.core.api.syntax.type.dependency.NUMBER)\n",
      "Type(name=de.tudarmstadt.ukp.dkpro.core.api.syntax.type.constituent.PRT)\n",
      "Type(name=de.tudarmstadt.ukp.dkpro.core.api.syntax.type.dependency.TMOD)\n",
      "Type(name=de.tudarmstadt.ukp.dkpro.core.api.syntax.type.constituent.INTJ)\n",
      "Type(name=de.tudarmstadt.ukp.dkpro.core.api.ner.type.ContactInfo)\n",
      "Type(name=de.tudarmstadt.ukp.dkpro.core.api.syntax.type.chunk.LST)\n",
      "Type(name=de.tudarmstadt.ukp.dkpro.core.api.ner.type.Fac)\n",
      "Type(name=de.tudarmstadt.ukp.dkpro.core.api.lexmorph.type.pos.POS_PRON)\n",
      "Type(name=de.tudarmstadt.ukp.dkpro.core.api.lexmorph.type.pos.POS_ADP)\n",
      "Type(name=de.tudarmstadt.ukp.dkpro.core.api.syntax.type.constituent.NP)\n",
      "Type(name=de.tudarmstadt.ukp.dkpro.core.api.syntax.type.dependency.PRECONJ)\n",
      "Type(name=de.tudarmstadt.ukp.dkpro.core.api.syntax.type.dependency.CONJP)\n",
      "Type(name=de.tudarmstadt.ukp.dkpro.core.api.lexmorph.type.pos.POS_SYM)\n",
      "Type(name=de.tudarmstadt.ukp.dkpro.core.api.syntax.type.constituent.ADJP)\n",
      "Type(name=de.tudarmstadt.ukp.dkpro.core.api.syntax.type.dependency.CONJ_YET)\n",
      "Type(name=de.tudarmstadt.ukp.dkpro.core.api.ner.type.Plant)\n",
      "Type(name=de.tudarmstadt.ukp.dkpro.core.api.lexmorph.type.pos.POS_PART)\n",
      "Type(name=de.tudarmstadt.ukp.dkpro.core.api.lexmorph.type.pos.POS_DET)\n",
      "Type(name=de.tudarmstadt.ukp.dkpro.core.api.syntax.type.constituent.SBAR)\n",
      "Type(name=de.tudarmstadt.ukp.dkpro.core.api.ner.type.Quantity)\n",
      "Type(name=de.tudarmstadt.ukp.dkpro.core.api.ner.type.Date)\n",
      "Type(name=de.tudarmstadt.ukp.dkpro.core.api.syntax.type.dependency.ATTR)\n",
      "Type(name=de.tudarmstadt.ukp.dkpro.core.api.syntax.type.dependency.PREDET)\n",
      "Type(name=de.tudarmstadt.ukp.dkpro.core.api.ner.type.Organization)\n",
      "Type(name=de.tudarmstadt.ukp.dkpro.core.api.segmentation.type.CompoundPart)\n",
      "Type(name=de.tudarmstadt.ukp.dkpro.core.api.syntax.type.dependency.PREPC)\n",
      "Type(name=de.tudarmstadt.ukp.dkpro.core.api.ner.type.OrgDesc)\n",
      "Type(name=de.tudarmstadt.ukp.dkpro.core.api.segmentation.type.Heading)\n",
      "Type(name=de.tudarmstadt.ukp.dkpro.core.api.ner.type.Game)\n",
      "Type(name=de.tudarmstadt.ukp.dkpro.core.api.ner.type.Substance)\n",
      "Type(name=de.tudarmstadt.ukp.dkpro.core.api.ner.type.Disease)\n",
      "Type(name=de.tudarmstadt.ukp.dkpro.core.api.lexmorph.type.pos.POS_VERB)\n",
      "Type(name=de.tudarmstadt.ukp.dkpro.core.api.syntax.type.dependency.MEASURE)\n",
      "Type(name=de.tudarmstadt.ukp.dkpro.core.api.syntax.type.constituent.X)\n",
      "Type(name=de.tudarmstadt.ukp.dkpro.core.api.syntax.type.dependency.ACOMP)\n",
      "Type(name=de.tudarmstadt.ukp.dkpro.core.api.lexmorph.type.pos.POS_PROPN)\n",
      "Type(name=de.tudarmstadt.ukp.dkpro.core.api.syntax.type.dependency.ROOT)\n",
      "Type(name=de.tudarmstadt.ukp.dkpro.core.api.syntax.type.dependency.ADVCL)\n",
      "Type(name=de.tudarmstadt.ukp.dkpro.core.api.syntax.type.dependency.AUX0)\n",
      "Type(name=de.tudarmstadt.ukp.dkpro.core.api.ner.type.PerDesc)\n",
      "Type(name=de.tudarmstadt.ukp.dkpro.core.api.syntax.type.dependency.MWE)\n",
      "Type(name=de.tudarmstadt.ukp.dkpro.core.api.syntax.type.dependency.POBJ)\n",
      "Type(name=de.tudarmstadt.ukp.dkpro.core.api.syntax.type.dependency.IOBJ)\n",
      "Type(name=de.tudarmstadt.ukp.dkpro.core.api.syntax.type.constituent.PARN)\n",
      "Type(name=de.tudarmstadt.ukp.dkpro.core.api.syntax.type.dependency.NUM)\n",
      "Type(name=de.tudarmstadt.ukp.dkpro.core.api.syntax.type.dependency.APPOS)\n",
      "Type(name=de.tudarmstadt.ukp.dkpro.core.api.syntax.type.dependency.DOBJ)\n",
      "Type(name=de.tudarmstadt.ukp.dkpro.core.api.syntax.type.constituent.FRAG)\n",
      "Type(name=de.tudarmstadt.ukp.dkpro.core.api.syntax.type.dependency.PARATAXIS)\n",
      "Type(name=de.tudarmstadt.ukp.dkpro.core.api.ner.type.Norp)\n",
      "Type(name=de.tudarmstadt.ukp.dkpro.core.api.syntax.type.dependency.CSUBJ)\n",
      "Type(name=de.tudarmstadt.ukp.dkpro.core.api.syntax.type.dependency.CCOMP)\n",
      "Type(name=de.tudarmstadt.ukp.dkpro.core.api.ner.type.ProductDesc)\n",
      "Type(name=de.tudarmstadt.ukp.dkpro.core.api.ner.type.Time)\n",
      "Type(name=de.tudarmstadt.ukp.dkpro.core.api.syntax.type.constituent.PRP)\n",
      "Type(name=de.tudarmstadt.ukp.dkpro.core.api.syntax.type.dependency.AGENT)\n",
      "Type(name=de.tudarmstadt.ukp.dkpro.core.api.syntax.type.dependency.AUXPASS)\n",
      "Type(name=de.tudarmstadt.ukp.dkpro.core.api.syntax.type.dependency.RCMOD)\n",
      "Type(name=de.tudarmstadt.ukp.dkpro.core.api.syntax.type.constituent.ROOT)\n",
      "Type(name=de.tudarmstadt.ukp.dkpro.core.api.lexmorph.type.pos.POS_INTJ)\n",
      "Type(name=de.tudarmstadt.ukp.dkpro.core.api.syntax.type.dependency.POSS)\n",
      "Type(name=de.tudarmstadt.ukp.dkpro.core.api.syntax.type.dependency.ADVMOD)\n",
      "Type(name=de.tudarmstadt.ukp.dkpro.core.api.lexmorph.type.pos.POS_SCONJ)\n",
      "Type(name=de.tudarmstadt.ukp.dkpro.core.api.syntax.type.dependency.DEP)\n",
      "Type(name=de.tudarmstadt.ukp.dkpro.core.api.syntax.type.dependency.NN)\n",
      "Type(name=de.tudarmstadt.ukp.dkpro.core.api.syntax.type.dependency.PRT)\n",
      "Type(name=de.tudarmstadt.ukp.dkpro.core.api.syntax.type.constituent.RRC)\n",
      "Type(name=de.tudarmstadt.ukp.dkpro.core.api.lexmorph.type.pos.POS_ADJ)\n",
      "Type(name=de.tudarmstadt.ukp.dkpro.core.api.syntax.type.constituent.WHADVP)\n",
      "Type(name=de.tudarmstadt.ukp.dkpro.core.api.syntax.type.dependency.REL)\n",
      "Type(name=de.tudarmstadt.ukp.dkpro.core.api.ner.type.Location)\n",
      "Type(name=de.tudarmstadt.ukp.dkpro.core.api.syntax.type.dependency.AMOD)\n",
      "Type(name=de.tudarmstadt.ukp.dkpro.core.api.syntax.type.chunk.PC)\n",
      "Type(name=de.tudarmstadt.ukp.dkpro.core.api.ner.type.Percent)\n",
      "Type(name=de.tudarmstadt.ukp.dkpro.core.api.syntax.type.dependency.PRED)\n",
      "Type(name=org.dkpro.core.api.xml.type.XmlTextNode)\n",
      "Type(name=de.tudarmstadt.ukp.dkpro.core.api.syntax.type.dependency.COP)\n",
      "Type(name=de.tudarmstadt.ukp.dkpro.core.api.syntax.type.dependency.PREP)\n",
      "Type(name=de.tudarmstadt.ukp.dkpro.core.api.syntax.type.constituent.SINV)\n",
      "Type(name=de.tudarmstadt.ukp.dkpro.core.api.ner.type.Money)\n",
      "Type(name=de.tudarmstadt.ukp.dkpro.core.api.syntax.type.constituent.VP)\n",
      "Type(name=de.tudarmstadt.ukp.dkpro.core.api.syntax.type.dependency.CONJ)\n",
      "Type(name=de.tudarmstadt.ukp.dkpro.core.api.syntax.type.constituent.LST)\n",
      "Type(name=de.tudarmstadt.ukp.dkpro.core.api.ner.type.Event)\n",
      "Type(name=de.tudarmstadt.ukp.dkpro.core.api.syntax.type.dependency.EXPL)\n",
      "Type(name=de.tudarmstadt.ukp.dkpro.core.api.syntax.type.dependency.NEG)\n",
      "Type(name=de.tudarmstadt.ukp.dkpro.core.api.syntax.type.constituent.QP)\n",
      "Type(name=de.tudarmstadt.ukp.dkpro.core.api.lexmorph.type.pos.POS_AUX)\n",
      "Type(name=de.tudarmstadt.ukp.dkpro.core.api.lexmorph.type.pos.POS_ADV)\n",
      "Type(name=de.tudarmstadt.ukp.dkpro.core.api.lexmorph.type.pos.tweet.POS_NPV)\n",
      "Type(name=de.tudarmstadt.ukp.dkpro.core.api.lexmorph.type.pos.tweet.POS_DM)\n",
      "Type(name=de.tudarmstadt.ukp.dkpro.core.api.lexmorph.type.pos.tweet.POS_INT)\n",
      "Type(name=de.tudarmstadt.ukp.dkpro.core.api.lexmorph.type.pos.tweet.POS_URL)\n",
      "Type(name=de.tudarmstadt.ukp.dkpro.core.api.lexmorph.type.pos.tweet.POS_EMO)\n",
      "Type(name=de.tudarmstadt.ukp.dkpro.core.api.lexmorph.type.pos.tweet.POS_AT)\n",
      "Type(name=de.tudarmstadt.ukp.dkpro.core.api.lexmorph.type.pos.tweet.POS_NNV)\n",
      "Type(name=de.tudarmstadt.ukp.dkpro.core.api.lexmorph.type.pos.tweet.POS_HASH)\n"
     ]
    }
   ],
   "source": [
    "# check all the types\n",
    "for t in cas.typesystem.get_types():\n",
    "    print(t)"
   ]
  },
  {
   "cell_type": "code",
   "execution_count": 105,
   "metadata": {},
   "outputs": [],
   "source": [
    "# Selecting annotations\n",
    "#error_location=[]\n",
    "for sentence in cas.select('de.tudarmstadt.ukp.dkpro.core.api.segmentation.type.Sentence'):\n",
    "    sentence_begin = sentence.begin\n",
    "    for error in cas.select_covered('webanno.custom.Error', sentence):\n",
    "        print(error.get_covered_text())\n",
    "        print(error.begin)\n",
    "        print(error.end)\n",
    "       \n",
    "        #error_location.append((error.begin,error.end,error.get_covered_text()))\n",
    "#print(error_location)"
   ]
  },
  {
   "cell_type": "code",
   "execution_count": 86,
   "metadata": {},
   "outputs": [
    {
     "data": {
      "text/plain": [
       "str"
      ]
     },
     "execution_count": 86,
     "metadata": {},
     "output_type": "execute_result"
    }
   ],
   "source": [
    "type(error.get_covered_text())"
   ]
  },
  {
   "cell_type": "code",
   "execution_count": 90,
   "metadata": {},
   "outputs": [
    {
     "data": {
      "text/plain": [
       "5"
      ]
     },
     "execution_count": 90,
     "metadata": {},
     "output_type": "execute_result"
    }
   ],
   "source": [
    "len(error.get_covered_text())"
   ]
  },
  {
   "cell_type": "code",
   "execution_count": 94,
   "metadata": {},
   "outputs": [
    {
     "name": "stdout",
     "output_type": "stream",
     "text": [
      "{CD而}\n"
     ]
    }
   ],
   "source": [
    "print(error.get_covered_text())"
   ]
  },
  {
   "cell_type": "code",
   "execution_count": 12,
   "metadata": {},
   "outputs": [
    {
     "data": {
      "text/html": [
       "<div>\n",
       "<style scoped>\n",
       "    .dataframe tbody tr th:only-of-type {\n",
       "        vertical-align: middle;\n",
       "    }\n",
       "\n",
       "    .dataframe tbody tr th {\n",
       "        vertical-align: top;\n",
       "    }\n",
       "\n",
       "    .dataframe thead th {\n",
       "        text-align: right;\n",
       "    }\n",
       "</style>\n",
       "<table border=\"1\" class=\"dataframe\">\n",
       "  <thead>\n",
       "    <tr style=\"text-align: right;\">\n",
       "      <th></th>\n",
       "      <th>Title</th>\n",
       "      <th>Error_Annotation</th>\n",
       "    </tr>\n",
       "  </thead>\n",
       "  <tbody>\n",
       "    <tr>\n",
       "      <th>0</th>\n",
       "      <td>GreenFood_1.txt</td>\n",
       "      <td>GreenFood_1.txt</td>\n",
       "    </tr>\n",
       "    <tr>\n",
       "      <th>1</th>\n",
       "      <td>GreenFood_10.txt</td>\n",
       "      <td>GreenFood_10.txt</td>\n",
       "    </tr>\n",
       "    <tr>\n",
       "      <th>2</th>\n",
       "      <td>GreenFood_100.txt</td>\n",
       "      <td>GreenFood_100.txt</td>\n",
       "    </tr>\n",
       "    <tr>\n",
       "      <th>3</th>\n",
       "      <td>GreenFood_101.txt</td>\n",
       "      <td>GreenFood_101.txt</td>\n",
       "    </tr>\n",
       "    <tr>\n",
       "      <th>4</th>\n",
       "      <td>GreenFood_102.txt</td>\n",
       "      <td>GreenFood_102.txt</td>\n",
       "    </tr>\n",
       "    <tr>\n",
       "      <th>...</th>\n",
       "      <td>...</td>\n",
       "      <td>...</td>\n",
       "    </tr>\n",
       "    <tr>\n",
       "      <th>3626</th>\n",
       "      <td>Multi_995.txt</td>\n",
       "      <td>Multi_995.txt</td>\n",
       "    </tr>\n",
       "    <tr>\n",
       "      <th>3627</th>\n",
       "      <td>Multi_996.txt</td>\n",
       "      <td>Multi_996.txt</td>\n",
       "    </tr>\n",
       "    <tr>\n",
       "      <th>3628</th>\n",
       "      <td>Multi_997.txt</td>\n",
       "      <td>Multi_997.txt</td>\n",
       "    </tr>\n",
       "    <tr>\n",
       "      <th>3629</th>\n",
       "      <td>Multi_998.txt</td>\n",
       "      <td>Multi_998.txt</td>\n",
       "    </tr>\n",
       "    <tr>\n",
       "      <th>3630</th>\n",
       "      <td>Multi_999.txt</td>\n",
       "      <td>Multi_999.txt</td>\n",
       "    </tr>\n",
       "  </tbody>\n",
       "</table>\n",
       "<p>3631 rows × 2 columns</p>\n",
       "</div>"
      ],
      "text/plain": [
       "                  Title   Error_Annotation\n",
       "0       GreenFood_1.txt    GreenFood_1.txt\n",
       "1      GreenFood_10.txt   GreenFood_10.txt\n",
       "2     GreenFood_100.txt  GreenFood_100.txt\n",
       "3     GreenFood_101.txt  GreenFood_101.txt\n",
       "4     GreenFood_102.txt  GreenFood_102.txt\n",
       "...                 ...                ...\n",
       "3626      Multi_995.txt      Multi_995.txt\n",
       "3627      Multi_996.txt      Multi_996.txt\n",
       "3628      Multi_997.txt      Multi_997.txt\n",
       "3629      Multi_998.txt      Multi_998.txt\n",
       "3630      Multi_999.txt      Multi_999.txt\n",
       "\n",
       "[3631 rows x 2 columns]"
      ]
     },
     "execution_count": 12,
     "metadata": {},
     "output_type": "execute_result"
    }
   ],
   "source": [
    "import pandas as pd\n",
    "import numpy as np\n",
    "directory = r'C:\\Users\\dawns\\Desktop\\annotation\\annotation'\n",
    "df = pd.DataFrame()\n",
    "filenames=os.listdir(r'C:\\Users\\dawns\\Desktop\\annotation\\annotation') #遍历只有一层目录的文件\n",
    "# 当文件中既有文件又有文件夹时–os.walk()   \n",
    "#print(filenames) \n",
    "# 把文件夹代号转为dataframe首列\n",
    "df['Title']= pd.DataFrame(filenames)\n",
    "df['Error_Annotation']=df['Title']\n",
    "df"
   ]
  },
  {
   "cell_type": "code",
   "execution_count": 26,
   "metadata": {},
   "outputs": [
    {
     "ename": "KeyboardInterrupt",
     "evalue": "",
     "output_type": "error",
     "traceback": [
      "\u001b[1;31m---------------------------------------------------------------------------\u001b[0m",
      "\u001b[1;31mKeyboardInterrupt\u001b[0m                         Traceback (most recent call last)",
      "\u001b[1;32m~\\AppData\\Local\\Temp/ipykernel_8564/3941896743.py\u001b[0m in \u001b[0;36m<module>\u001b[1;34m\u001b[0m\n\u001b[0;32m      3\u001b[0m \u001b[1;32mfor\u001b[0m \u001b[0mtext\u001b[0m \u001b[1;32min\u001b[0m \u001b[0mfilenames\u001b[0m\u001b[1;33m:\u001b[0m\u001b[1;33m\u001b[0m\u001b[1;33m\u001b[0m\u001b[0m\n\u001b[0;32m      4\u001b[0m     \u001b[0mtext_dir\u001b[0m \u001b[1;33m=\u001b[0m \u001b[0mdirectory\u001b[0m \u001b[1;33m+\u001b[0m \u001b[1;34m'/'\u001b[0m \u001b[1;33m+\u001b[0m \u001b[0mtext\u001b[0m\u001b[1;33m\u001b[0m\u001b[1;33m\u001b[0m\u001b[0m\n\u001b[1;32m----> 5\u001b[1;33m     \u001b[0mcas\u001b[0m \u001b[1;33m=\u001b[0m \u001b[0mload_cas\u001b[0m\u001b[1;33m(\u001b[0m\u001b[0mtext_dir\u001b[0m\u001b[1;33m)\u001b[0m\u001b[1;33m\u001b[0m\u001b[1;33m\u001b[0m\u001b[0m\n\u001b[0m\u001b[0;32m      6\u001b[0m     \u001b[0merror_location\u001b[0m\u001b[1;33m=\u001b[0m\u001b[1;33m[\u001b[0m\u001b[1;33m]\u001b[0m\u001b[1;33m\u001b[0m\u001b[1;33m\u001b[0m\u001b[0m\n\u001b[0;32m      7\u001b[0m     \u001b[1;32mfor\u001b[0m \u001b[0msentence\u001b[0m \u001b[1;32min\u001b[0m \u001b[0mcas\u001b[0m\u001b[1;33m.\u001b[0m\u001b[0mselect\u001b[0m\u001b[1;33m(\u001b[0m\u001b[1;34m'de.tudarmstadt.ukp.dkpro.core.api.segmentation.type.Sentence'\u001b[0m\u001b[1;33m)\u001b[0m\u001b[1;33m:\u001b[0m\u001b[1;33m\u001b[0m\u001b[1;33m\u001b[0m\u001b[0m\n",
      "\u001b[1;32m~\\AppData\\Local\\Temp/ipykernel_8564/3507366854.py\u001b[0m in \u001b[0;36mload_cas\u001b[1;34m(text_directory)\u001b[0m\n\u001b[0;32m      4\u001b[0m         \u001b[0mtypesystem\u001b[0m \u001b[1;33m=\u001b[0m \u001b[0mload_typesystem\u001b[0m\u001b[1;33m(\u001b[0m\u001b[0mf\u001b[0m\u001b[1;33m)\u001b[0m\u001b[1;33m\u001b[0m\u001b[1;33m\u001b[0m\u001b[0m\n\u001b[0;32m      5\u001b[0m     \u001b[1;32mwith\u001b[0m \u001b[0mopen\u001b[0m\u001b[1;33m(\u001b[0m\u001b[0mtext_directory\u001b[0m\u001b[1;33m+\u001b[0m\u001b[1;34m'/zhengwu.xmi'\u001b[0m\u001b[1;33m,\u001b[0m \u001b[1;34m'rb'\u001b[0m\u001b[1;33m)\u001b[0m \u001b[1;32mas\u001b[0m \u001b[0mf\u001b[0m\u001b[1;33m:\u001b[0m\u001b[1;33m\u001b[0m\u001b[1;33m\u001b[0m\u001b[0m\n\u001b[1;32m----> 6\u001b[1;33m         \u001b[0mcas\u001b[0m \u001b[1;33m=\u001b[0m \u001b[0mload_cas_from_xmi\u001b[0m\u001b[1;33m(\u001b[0m\u001b[0mf\u001b[0m\u001b[1;33m,\u001b[0m \u001b[0mtypesystem\u001b[0m\u001b[1;33m=\u001b[0m\u001b[0mtypesystem\u001b[0m\u001b[1;33m)\u001b[0m\u001b[1;33m\u001b[0m\u001b[1;33m\u001b[0m\u001b[0m\n\u001b[0m\u001b[0;32m      7\u001b[0m     \u001b[1;32mreturn\u001b[0m \u001b[0mcas\u001b[0m\u001b[1;33m\u001b[0m\u001b[1;33m\u001b[0m\u001b[0m\n",
      "\u001b[1;32md:\\anaconda\\lib\\site-packages\\cassis\\xmi.py\u001b[0m in \u001b[0;36mload_cas_from_xmi\u001b[1;34m(source, typesystem, lenient, trusted)\u001b[0m\n\u001b[0;32m     99\u001b[0m             \u001b[1;32mreturn\u001b[0m \u001b[0mdeserializer\u001b[0m\u001b[1;33m.\u001b[0m\u001b[0mdeserialize\u001b[0m\u001b[1;33m(\u001b[0m\u001b[0msrc\u001b[0m\u001b[1;33m,\u001b[0m \u001b[0mtypesystem\u001b[0m\u001b[1;33m=\u001b[0m\u001b[0mtypesystem\u001b[0m\u001b[1;33m,\u001b[0m \u001b[0mlenient\u001b[0m\u001b[1;33m=\u001b[0m\u001b[0mlenient\u001b[0m\u001b[1;33m,\u001b[0m \u001b[0mtrusted\u001b[0m\u001b[1;33m=\u001b[0m\u001b[0mtrusted\u001b[0m\u001b[1;33m)\u001b[0m\u001b[1;33m\u001b[0m\u001b[1;33m\u001b[0m\u001b[0m\n\u001b[0;32m    100\u001b[0m     \u001b[1;32melse\u001b[0m\u001b[1;33m:\u001b[0m\u001b[1;33m\u001b[0m\u001b[1;33m\u001b[0m\u001b[0m\n\u001b[1;32m--> 101\u001b[1;33m         \u001b[1;32mreturn\u001b[0m \u001b[0mdeserializer\u001b[0m\u001b[1;33m.\u001b[0m\u001b[0mdeserialize\u001b[0m\u001b[1;33m(\u001b[0m\u001b[0msource\u001b[0m\u001b[1;33m,\u001b[0m \u001b[0mtypesystem\u001b[0m\u001b[1;33m=\u001b[0m\u001b[0mtypesystem\u001b[0m\u001b[1;33m,\u001b[0m \u001b[0mlenient\u001b[0m\u001b[1;33m=\u001b[0m\u001b[0mlenient\u001b[0m\u001b[1;33m,\u001b[0m \u001b[0mtrusted\u001b[0m\u001b[1;33m=\u001b[0m\u001b[0mtrusted\u001b[0m\u001b[1;33m)\u001b[0m\u001b[1;33m\u001b[0m\u001b[1;33m\u001b[0m\u001b[0m\n\u001b[0m\u001b[0;32m    102\u001b[0m \u001b[1;33m\u001b[0m\u001b[0m\n\u001b[0;32m    103\u001b[0m \u001b[1;33m\u001b[0m\u001b[0m\n",
      "\u001b[1;32md:\\anaconda\\lib\\site-packages\\cassis\\xmi.py\u001b[0m in \u001b[0;36mdeserialize\u001b[1;34m(self, source, typesystem, lenient, trusted)\u001b[0m\n\u001b[0;32m    181\u001b[0m                         \u001b[1;31m# If a type was not found, ignore it if lenient, else raise an exception\u001b[0m\u001b[1;33m\u001b[0m\u001b[1;33m\u001b[0m\u001b[0m\n\u001b[0;32m    182\u001b[0m                         \u001b[1;32mtry\u001b[0m\u001b[1;33m:\u001b[0m\u001b[1;33m\u001b[0m\u001b[1;33m\u001b[0m\u001b[0m\n\u001b[1;32m--> 183\u001b[1;33m                             \u001b[0mfs\u001b[0m \u001b[1;33m=\u001b[0m \u001b[0mself\u001b[0m\u001b[1;33m.\u001b[0m\u001b[0m_parse_feature_structure\u001b[0m\u001b[1;33m(\u001b[0m\u001b[0mtypesystem\u001b[0m\u001b[1;33m,\u001b[0m \u001b[0melem\u001b[0m\u001b[1;33m,\u001b[0m \u001b[0mchildren\u001b[0m\u001b[1;33m)\u001b[0m\u001b[1;33m\u001b[0m\u001b[1;33m\u001b[0m\u001b[0m\n\u001b[0m\u001b[0;32m    184\u001b[0m                             \u001b[0mfeature_structures\u001b[0m\u001b[1;33m[\u001b[0m\u001b[0mfs\u001b[0m\u001b[1;33m.\u001b[0m\u001b[0mxmiID\u001b[0m\u001b[1;33m]\u001b[0m \u001b[1;33m=\u001b[0m \u001b[0mfs\u001b[0m\u001b[1;33m\u001b[0m\u001b[1;33m\u001b[0m\u001b[0m\n\u001b[0;32m    185\u001b[0m                         \u001b[1;32mexcept\u001b[0m \u001b[0mTypeNotFoundError\u001b[0m \u001b[1;32mas\u001b[0m \u001b[0me\u001b[0m\u001b[1;33m:\u001b[0m\u001b[1;33m\u001b[0m\u001b[1;33m\u001b[0m\u001b[0m\n",
      "\u001b[1;32md:\\anaconda\\lib\\site-packages\\cassis\\xmi.py\u001b[0m in \u001b[0;36m_parse_feature_structure\u001b[1;34m(self, typesystem, elem, children)\u001b[0m\n\u001b[0;32m    377\u001b[0m \u001b[1;33m\u001b[0m\u001b[0m\n\u001b[0;32m    378\u001b[0m         \u001b[0mself\u001b[0m\u001b[1;33m.\u001b[0m\u001b[0m_max_xmi_id\u001b[0m \u001b[1;33m=\u001b[0m \u001b[0mmax\u001b[0m\u001b[1;33m(\u001b[0m\u001b[0mattributes\u001b[0m\u001b[1;33m[\u001b[0m\u001b[1;34m\"xmiID\"\u001b[0m\u001b[1;33m]\u001b[0m\u001b[1;33m,\u001b[0m \u001b[0mself\u001b[0m\u001b[1;33m.\u001b[0m\u001b[0m_max_xmi_id\u001b[0m\u001b[1;33m)\u001b[0m\u001b[1;33m\u001b[0m\u001b[1;33m\u001b[0m\u001b[0m\n\u001b[1;32m--> 379\u001b[1;33m         \u001b[1;32mreturn\u001b[0m \u001b[0mAnnotationType\u001b[0m\u001b[1;33m(\u001b[0m\u001b[1;33m**\u001b[0m\u001b[0mattributes\u001b[0m\u001b[1;33m)\u001b[0m\u001b[1;33m\u001b[0m\u001b[1;33m\u001b[0m\u001b[0m\n\u001b[0m\u001b[0;32m    380\u001b[0m \u001b[1;33m\u001b[0m\u001b[0m\n\u001b[0;32m    381\u001b[0m     \u001b[1;32mdef\u001b[0m \u001b[0m_parse_primitive_list\u001b[0m\u001b[1;33m(\u001b[0m\u001b[0mself\u001b[0m\u001b[1;33m,\u001b[0m \u001b[0mtype_\u001b[0m\u001b[1;33m:\u001b[0m \u001b[0mType\u001b[0m\u001b[1;33m,\u001b[0m \u001b[0mvalue\u001b[0m\u001b[1;33m:\u001b[0m \u001b[0mUnion\u001b[0m\u001b[1;33m[\u001b[0m\u001b[0mstr\u001b[0m\u001b[1;33m,\u001b[0m \u001b[0mList\u001b[0m\u001b[1;33m[\u001b[0m\u001b[0mstr\u001b[0m\u001b[1;33m]\u001b[0m\u001b[1;33m]\u001b[0m\u001b[1;33m)\u001b[0m\u001b[1;33m:\u001b[0m\u001b[1;33m\u001b[0m\u001b[1;33m\u001b[0m\u001b[0m\n",
      "\u001b[1;32md:\\anaconda\\lib\\site-packages\\cassis\\typesystem.py\u001b[0m in \u001b[0;36m__call__\u001b[1;34m(self, **kwargs)\u001b[0m\n\u001b[0;32m    539\u001b[0m         \"\"\"\n\u001b[0;32m    540\u001b[0m         \u001b[1;32mif\u001b[0m \u001b[0mself\u001b[0m\u001b[1;33m.\u001b[0m\u001b[0m_constructor\u001b[0m \u001b[1;32mis\u001b[0m \u001b[1;32mNone\u001b[0m\u001b[1;33m:\u001b[0m\u001b[1;33m\u001b[0m\u001b[1;33m\u001b[0m\u001b[0m\n\u001b[1;32m--> 541\u001b[1;33m             \u001b[0mself\u001b[0m\u001b[1;33m.\u001b[0m\u001b[0m_constructor\u001b[0m \u001b[1;33m=\u001b[0m \u001b[0mself\u001b[0m\u001b[1;33m.\u001b[0m\u001b[0m_constructor_fn\u001b[0m\u001b[1;33m(\u001b[0m\u001b[1;33m)\u001b[0m\u001b[1;33m\u001b[0m\u001b[1;33m\u001b[0m\u001b[0m\n\u001b[0m\u001b[0;32m    542\u001b[0m \u001b[1;33m\u001b[0m\u001b[0m\n\u001b[0;32m    543\u001b[0m         \u001b[1;32mreturn\u001b[0m \u001b[0mself\u001b[0m\u001b[1;33m.\u001b[0m\u001b[0m_constructor\u001b[0m\u001b[1;33m(\u001b[0m\u001b[1;33m**\u001b[0m\u001b[0mkwargs\u001b[0m\u001b[1;33m)\u001b[0m\u001b[1;33m\u001b[0m\u001b[1;33m\u001b[0m\u001b[0m\n",
      "\u001b[1;32md:\\anaconda\\lib\\site-packages\\cassis\\typesystem.py\u001b[0m in \u001b[0;36m<lambda>\u001b[1;34m()\u001b[0m\n\u001b[0;32m    524\u001b[0m         \u001b[1;31m# When creating large type systems, almost no types are used so\u001b[0m\u001b[1;33m\u001b[0m\u001b[1;33m\u001b[0m\u001b[0m\n\u001b[0;32m    525\u001b[0m         \u001b[1;31m# creating them on the fly is on average better\u001b[0m\u001b[1;33m\u001b[0m\u001b[1;33m\u001b[0m\u001b[0m\n\u001b[1;32m--> 526\u001b[1;33m         self._constructor_fn = lambda: attr.make_class(\n\u001b[0m\u001b[0;32m    527\u001b[0m             \u001b[0mname\u001b[0m\u001b[1;33m,\u001b[0m \u001b[0mfields\u001b[0m\u001b[1;33m,\u001b[0m \u001b[0mbases\u001b[0m\u001b[1;33m=\u001b[0m\u001b[1;33m(\u001b[0m\u001b[0mFeatureStructure\u001b[0m\u001b[1;33m,\u001b[0m\u001b[1;33m)\u001b[0m\u001b[1;33m,\u001b[0m \u001b[0mslots\u001b[0m\u001b[1;33m=\u001b[0m\u001b[1;32mTrue\u001b[0m\u001b[1;33m,\u001b[0m \u001b[0meq\u001b[0m\u001b[1;33m=\u001b[0m\u001b[1;32mFalse\u001b[0m\u001b[1;33m,\u001b[0m \u001b[0morder\u001b[0m\u001b[1;33m=\u001b[0m\u001b[1;32mFalse\u001b[0m\u001b[1;33m\u001b[0m\u001b[1;33m\u001b[0m\u001b[0m\n\u001b[0;32m    528\u001b[0m         )\n",
      "\u001b[1;32md:\\anaconda\\lib\\site-packages\\attr\\_make.py\u001b[0m in \u001b[0;36mmake_class\u001b[1;34m(name, attrs, bases, **attributes_arguments)\u001b[0m\n\u001b[0;32m   2956\u001b[0m     )\n\u001b[0;32m   2957\u001b[0m \u001b[1;33m\u001b[0m\u001b[0m\n\u001b[1;32m-> 2958\u001b[1;33m     \u001b[1;32mreturn\u001b[0m \u001b[0m_attrs\u001b[0m\u001b[1;33m(\u001b[0m\u001b[0mthese\u001b[0m\u001b[1;33m=\u001b[0m\u001b[0mcls_dict\u001b[0m\u001b[1;33m,\u001b[0m \u001b[1;33m**\u001b[0m\u001b[0mattributes_arguments\u001b[0m\u001b[1;33m)\u001b[0m\u001b[1;33m(\u001b[0m\u001b[0mtype_\u001b[0m\u001b[1;33m)\u001b[0m\u001b[1;33m\u001b[0m\u001b[1;33m\u001b[0m\u001b[0m\n\u001b[0m\u001b[0;32m   2959\u001b[0m \u001b[1;33m\u001b[0m\u001b[0m\n\u001b[0;32m   2960\u001b[0m \u001b[1;33m\u001b[0m\u001b[0m\n",
      "\u001b[1;32md:\\anaconda\\lib\\site-packages\\attr\\_make.py\u001b[0m in \u001b[0;36mwrap\u001b[1;34m(cls)\u001b[0m\n\u001b[0;32m   1548\u001b[0m             \u001b[0mcls\u001b[0m\u001b[1;33m,\u001b[0m \u001b[0minit\u001b[0m\u001b[1;33m,\u001b[0m \u001b[0mauto_detect\u001b[0m\u001b[1;33m,\u001b[0m \u001b[1;33m(\u001b[0m\u001b[1;34m\"__init__\"\u001b[0m\u001b[1;33m,\u001b[0m\u001b[1;33m)\u001b[0m\u001b[1;33m\u001b[0m\u001b[1;33m\u001b[0m\u001b[0m\n\u001b[0;32m   1549\u001b[0m         ):\n\u001b[1;32m-> 1550\u001b[1;33m             \u001b[0mbuilder\u001b[0m\u001b[1;33m.\u001b[0m\u001b[0madd_init\u001b[0m\u001b[1;33m(\u001b[0m\u001b[1;33m)\u001b[0m\u001b[1;33m\u001b[0m\u001b[1;33m\u001b[0m\u001b[0m\n\u001b[0m\u001b[0;32m   1551\u001b[0m         \u001b[1;32melse\u001b[0m\u001b[1;33m:\u001b[0m\u001b[1;33m\u001b[0m\u001b[1;33m\u001b[0m\u001b[0m\n\u001b[0;32m   1552\u001b[0m             \u001b[0mbuilder\u001b[0m\u001b[1;33m.\u001b[0m\u001b[0madd_attrs_init\u001b[0m\u001b[1;33m(\u001b[0m\u001b[1;33m)\u001b[0m\u001b[1;33m\u001b[0m\u001b[1;33m\u001b[0m\u001b[0m\n",
      "\u001b[1;32md:\\anaconda\\lib\\site-packages\\attr\\_make.py\u001b[0m in \u001b[0;36madd_init\u001b[1;34m(self)\u001b[0m\n\u001b[0;32m    949\u001b[0m     \u001b[1;32mdef\u001b[0m \u001b[0madd_init\u001b[0m\u001b[1;33m(\u001b[0m\u001b[0mself\u001b[0m\u001b[1;33m)\u001b[0m\u001b[1;33m:\u001b[0m\u001b[1;33m\u001b[0m\u001b[1;33m\u001b[0m\u001b[0m\n\u001b[0;32m    950\u001b[0m         self._cls_dict[\"__init__\"] = self._add_method_dunders(\n\u001b[1;32m--> 951\u001b[1;33m             _make_init(\n\u001b[0m\u001b[0;32m    952\u001b[0m                 \u001b[0mself\u001b[0m\u001b[1;33m.\u001b[0m\u001b[0m_cls\u001b[0m\u001b[1;33m,\u001b[0m\u001b[1;33m\u001b[0m\u001b[1;33m\u001b[0m\u001b[0m\n\u001b[0;32m    953\u001b[0m                 \u001b[0mself\u001b[0m\u001b[1;33m.\u001b[0m\u001b[0m_attrs\u001b[0m\u001b[1;33m,\u001b[0m\u001b[1;33m\u001b[0m\u001b[1;33m\u001b[0m\u001b[0m\n",
      "\u001b[1;32md:\\anaconda\\lib\\site-packages\\attr\\_make.py\u001b[0m in \u001b[0;36m_make_init\u001b[1;34m(cls, attrs, pre_init, post_init, frozen, slots, cache_hash, base_attr_map, is_exc, has_global_on_setattr, attrs_init)\u001b[0m\n\u001b[0;32m   2035\u001b[0m             \u001b[0mneeds_cached_setattr\u001b[0m \u001b[1;33m=\u001b[0m \u001b[1;32mTrue\u001b[0m\u001b[1;33m\u001b[0m\u001b[1;33m\u001b[0m\u001b[0m\n\u001b[0;32m   2036\u001b[0m \u001b[1;33m\u001b[0m\u001b[0m\n\u001b[1;32m-> 2037\u001b[1;33m     \u001b[0munique_filename\u001b[0m \u001b[1;33m=\u001b[0m \u001b[0m_generate_unique_filename\u001b[0m\u001b[1;33m(\u001b[0m\u001b[0mcls\u001b[0m\u001b[1;33m,\u001b[0m \u001b[1;34m\"init\"\u001b[0m\u001b[1;33m)\u001b[0m\u001b[1;33m\u001b[0m\u001b[1;33m\u001b[0m\u001b[0m\n\u001b[0m\u001b[0;32m   2038\u001b[0m \u001b[1;33m\u001b[0m\u001b[0m\n\u001b[0;32m   2039\u001b[0m     script, globs, annotations = _attrs_to_init_script(\n",
      "\u001b[1;32md:\\anaconda\\lib\\site-packages\\attr\\_make.py\u001b[0m in \u001b[0;36m_generate_unique_filename\u001b[1;34m(cls, func_name)\u001b[0m\n\u001b[0;32m   1616\u001b[0m         \u001b[1;31m# the linecache with a dummy line.  The caller can then\u001b[0m\u001b[1;33m\u001b[0m\u001b[1;33m\u001b[0m\u001b[0m\n\u001b[0;32m   1617\u001b[0m         \u001b[1;31m# set this value correctly.\u001b[0m\u001b[1;33m\u001b[0m\u001b[1;33m\u001b[0m\u001b[0m\n\u001b[1;32m-> 1618\u001b[1;33m         \u001b[0mcache_line\u001b[0m \u001b[1;33m=\u001b[0m \u001b[1;33m(\u001b[0m\u001b[1;36m1\u001b[0m\u001b[1;33m,\u001b[0m \u001b[1;32mNone\u001b[0m\u001b[1;33m,\u001b[0m \u001b[1;33m(\u001b[0m\u001b[0mstr\u001b[0m\u001b[1;33m(\u001b[0m\u001b[0munique_id\u001b[0m\u001b[1;33m)\u001b[0m\u001b[1;33m,\u001b[0m\u001b[1;33m)\u001b[0m\u001b[1;33m,\u001b[0m \u001b[0munique_filename\u001b[0m\u001b[1;33m)\u001b[0m\u001b[1;33m\u001b[0m\u001b[1;33m\u001b[0m\u001b[0m\n\u001b[0m\u001b[0;32m   1619\u001b[0m         if (\n\u001b[0;32m   1620\u001b[0m             \u001b[0mlinecache\u001b[0m\u001b[1;33m.\u001b[0m\u001b[0mcache\u001b[0m\u001b[1;33m.\u001b[0m\u001b[0msetdefault\u001b[0m\u001b[1;33m(\u001b[0m\u001b[0munique_filename\u001b[0m\u001b[1;33m,\u001b[0m \u001b[0mcache_line\u001b[0m\u001b[1;33m)\u001b[0m\u001b[1;33m\u001b[0m\u001b[1;33m\u001b[0m\u001b[0m\n",
      "\u001b[1;32md:\\anaconda\\lib\\uuid.py\u001b[0m in \u001b[0;36m__str__\u001b[1;34m(self)\u001b[0m\n\u001b[0;32m    280\u001b[0m         \u001b[0mhex\u001b[0m \u001b[1;33m=\u001b[0m \u001b[1;34m'%032x'\u001b[0m \u001b[1;33m%\u001b[0m \u001b[0mself\u001b[0m\u001b[1;33m.\u001b[0m\u001b[0mint\u001b[0m\u001b[1;33m\u001b[0m\u001b[1;33m\u001b[0m\u001b[0m\n\u001b[0;32m    281\u001b[0m         return '%s-%s-%s-%s-%s' % (\n\u001b[1;32m--> 282\u001b[1;33m             hex[:8], hex[8:12], hex[12:16], hex[16:20], hex[20:])\n\u001b[0m\u001b[0;32m    283\u001b[0m \u001b[1;33m\u001b[0m\u001b[0m\n\u001b[0;32m    284\u001b[0m     \u001b[1;33m@\u001b[0m\u001b[0mproperty\u001b[0m\u001b[1;33m\u001b[0m\u001b[1;33m\u001b[0m\u001b[0m\n",
      "\u001b[1;31mKeyboardInterrupt\u001b[0m: "
     ]
    }
   ],
   "source": [
    "\n",
    "df1 = pd.DataFrame()\n",
    "for text in filenames:\n",
    "    text_dir = directory + '/' + text\n",
    "    cas = load_cas(text_dir)\n",
    "    error_location=[]\n",
    "    for sentence in cas.select('de.tudarmstadt.ukp.dkpro.core.api.segmentation.type.Sentence'):\n",
    "        sentence_begin = sentence.begin\n",
    "        for error in cas.select_covered('webanno.custom.Error', sentence):\n",
    "            #if len(error.get_covered_text())==0:\n",
    "                #df1= df1.append('0')\n",
    "            if len(error.get_covered_text())!=0:\n",
    "                error_location.append((error.begin,error.end,error.get_covered_text()))\n",
    "            #df1=df1.append(error_location)\n",
    "                \n",
    "                #cover.append('0')\n",
    "            \n",
    "                #error_location.append((error.begin,error.end,error.get_covered_text()))\n",
    "        #print(error_location)\n",
    "                #cover.append(error_location)\n",
    "                \n",
    "                     \n",
    "                #cover.append((error.begin,error.end,error.get_covered_text()))\n",
    "                #print(cover)\n",
    "\n",
    "\n",
    "    "
   ]
  },
  {
   "cell_type": "code",
   "execution_count": 32,
   "metadata": {},
   "outputs": [],
   "source": [
    "without_error=[]\n",
    "for text in filenames:\n",
    "    text_dir = directory + '/' + text\n",
    "    cas = load_cas(text_dir)\n",
    "    for sentence in cas.select('de.tudarmstadt.ukp.dkpro.core.api.segmentation.type.Sentence'):\n",
    "        sentence_begin = sentence.begin\n",
    "        if len(error.get_covered_text())==0:\n",
    "            without_error.append(text)\n",
    "            print(text)\n",
    "            \n"
   ]
  },
  {
   "cell_type": "code",
   "execution_count": 34,
   "metadata": {},
   "outputs": [
    {
     "name": "stdout",
     "output_type": "stream",
     "text": [
      "[]\n"
     ]
    }
   ],
   "source": [
    "print(without_error)"
   ]
  },
  {
   "cell_type": "code",
   "execution_count": 53,
   "metadata": {},
   "outputs": [],
   "source": [
    "with_error=[]\n",
    "for text in filenames:\n",
    "    text_dir = directory + '/' + text\n",
    "    cas = load_cas(text_dir)\n",
    "    for sentence in cas.select('de.tudarmstadt.ukp.dkpro.core.api.segmentation.type.Sentence'):\n",
    "        sentence_begin = sentence.begin\n",
    "        if len(error.get_covered_text())!=0:\n",
    "            with_error.append(text)\n",
    "            #print(text)"
   ]
  },
  {
   "cell_type": "code",
   "execution_count": 56,
   "metadata": {},
   "outputs": [
    {
     "name": "stdout",
     "output_type": "stream",
     "text": [
      "55278\n",
      "3631\n"
     ]
    }
   ],
   "source": [
    "print(len(with_error))\n",
    "print(len(list(set(with_error))))\n",
    "# 3631 包含错误的吗？不应该啊"
   ]
  },
  {
   "cell_type": "code",
   "execution_count": null,
   "metadata": {},
   "outputs": [],
   "source": []
  },
  {
   "cell_type": "code",
   "execution_count": null,
   "metadata": {},
   "outputs": [],
   "source": []
  },
  {
   "cell_type": "code",
   "execution_count": 35,
   "metadata": {},
   "outputs": [],
   "source": [
    "directory = r'C:\\Users\\dawns\\Desktop\\annotation\\annotation'\n",
    "#clean_data(directory)\n",
    "annotation_cas = []\n",
    "text = 'GreenFood_1.txt'\n",
    "text_dir = directory + '/' + text\n",
    "cas = load_cas(text_dir)"
   ]
  },
  {
   "cell_type": "code",
   "execution_count": 69,
   "metadata": {},
   "outputs": [],
   "source": [
    "df1 = pd.DataFrame()"
   ]
  },
  {
   "cell_type": "code",
   "execution_count": 70,
   "metadata": {},
   "outputs": [
    {
     "name": "stderr",
     "output_type": "stream",
     "text": [
      "C:\\Users\\dawns\\AppData\\Local\\Temp/ipykernel_8564/4085794001.py:13: FutureWarning: The frame.append method is deprecated and will be removed from pandas in a future version. Use pandas.concat instead.\n",
      "  df1=df1.append(connective_error)\n"
     ]
    },
    {
     "name": "stdout",
     "output_type": "stream",
     "text": [
      "                                  0\n",
      "0  begin=471, end=478,error=都先{CJX}\n",
      "1     begin=602, end=606,error=[B即]\n"
     ]
    },
    {
     "name": "stderr",
     "output_type": "stream",
     "text": [
      "C:\\Users\\dawns\\AppData\\Local\\Temp/ipykernel_8564/4085794001.py:13: FutureWarning: The frame.append method is deprecated and will be removed from pandas in a future version. Use pandas.concat instead.\n",
      "  df1=df1.append(connective_error)\n"
     ]
    },
    {
     "name": "stdout",
     "output_type": "stream",
     "text": [
      "                                  0\n",
      "0  begin=471, end=478,error=都先{CJX}\n",
      "1     begin=602, end=606,error=[B即]\n",
      "0    begin=262, end=267,error={CD而}\n",
      "                                  0\n",
      "0  begin=471, end=478,error=都先{CJX}\n",
      "1     begin=602, end=606,error=[B即]\n",
      "0    begin=262, end=267,error={CD而}\n"
     ]
    },
    {
     "name": "stderr",
     "output_type": "stream",
     "text": [
      "C:\\Users\\dawns\\AppData\\Local\\Temp/ipykernel_8564/4085794001.py:13: FutureWarning: The frame.append method is deprecated and will be removed from pandas in a future version. Use pandas.concat instead.\n",
      "  df1=df1.append(connective_error)\n"
     ]
    }
   ],
   "source": [
    "\n",
    "#L1 = ['GreenFood_1.txt','GreenFood_100.txt','GreenFood_101.txt']\n",
    "#for text in L1:\n",
    "    \n",
    "    text_dir = directory + '/' + text\n",
    "    cas = load_cas(text_dir)\n",
    "    connective_error=[]\n",
    "    for sentence in cas.select('de.tudarmstadt.ukp.dkpro.core.api.segmentation.type.Sentence'):\n",
    "        sentence_begin = sentence.begin\n",
    "        for error in cas.select_covered('webanno.custom.Error', sentence):\n",
    "            #print(error.get_covered_text())\n",
    "            #print(error.begin)\n",
    "            #print(error.end)\n",
    "            connective_error.append('begin={0}, end={1},error={2}'.format(error.begin, error.end,error.get_covered_text()))\n",
    "    df1=df1.append(connective_error)\n",
    "    print(df1)\n",
    "            #print(text,': begin={0}, end={1},error={2}'.format(error.begin, error.end,error.get_covered_text()))\n",
    "\n"
   ]
  },
  {
   "cell_type": "code",
   "execution_count": 71,
   "metadata": {},
   "outputs": [
    {
     "name": "stdout",
     "output_type": "stream",
     "text": [
      "                                  0\n",
      "0  begin=471, end=478,error=都先{CJX}\n",
      "1     begin=602, end=606,error=[B即]\n",
      "0    begin=262, end=267,error={CD而}\n"
     ]
    }
   ],
   "source": [
    "print(df1)"
   ]
  },
  {
   "cell_type": "code",
   "execution_count": 51,
   "metadata": {},
   "outputs": [
    {
     "data": {
      "text/plain": [
       "['begin=471, end=478,error=都先{CJX}', 'begin=602, end=606,error=[B即]']"
      ]
     },
     "execution_count": 51,
     "metadata": {},
     "output_type": "execute_result"
    }
   ],
   "source": [
    "connective_error"
   ]
  },
  {
   "cell_type": "code",
   "execution_count": null,
   "metadata": {},
   "outputs": [],
   "source": []
  },
  {
   "cell_type": "code",
   "execution_count": 46,
   "metadata": {},
   "outputs": [
    {
     "name": "stdout",
     "output_type": "stream",
     "text": [
      "d.t.u.d.c.a.s.t.Sentence(begin=0, end=98)\n",
      "d.t.u.d.c.a.s.t.Sentence(begin=98, end=178)\n",
      "d.t.u.d.c.a.s.t.Sentence(begin=178, end=211)\n",
      "d.t.u.d.c.a.s.t.Sentence(begin=211, end=252)\n",
      "d.t.u.d.c.a.s.t.Sentence(begin=252, end=280)\n",
      "d.t.u.d.c.a.s.t.Sentence(begin=280, end=283)\n",
      "d.t.u.d.c.a.s.t.Sentence(begin=283, end=337)\n",
      "d.t.u.d.c.a.s.t.Sentence(begin=337, end=362)\n",
      "d.t.u.d.c.a.s.t.Sentence(begin=362, end=416)\n",
      "d.t.u.d.c.a.s.t.Sentence(begin=416, end=431)\n",
      "d.t.u.d.c.a.s.t.Sentence(begin=431, end=445)\n",
      "d.t.u.d.c.a.s.t.Sentence(begin=445, end=453)\n",
      "d.t.u.d.c.a.s.t.Sentence(begin=453, end=510)\n",
      "d.t.u.d.c.a.s.t.Sentence(begin=510, end=582)\n",
      "d.t.u.d.c.a.s.t.Sentence(begin=582, end=652)\n",
      "d.t.u.d.c.a.s.t.Sentence(begin=652, end=684)\n",
      "d.t.u.d.c.a.s.t.Sentence(begin=684, end=715)\n",
      "d.t.u.d.c.a.s.t.Sentence(begin=715, end=725)\n"
     ]
    }
   ],
   "source": [
    "for sentence in cas.select('de.tudarmstadt.ukp.dkpro.core.api.segmentation.type.Sentence'):\n",
    "    print(sentence)"
   ]
  },
  {
   "cell_type": "code",
   "execution_count": null,
   "metadata": {},
   "outputs": [],
   "source": []
  }
 ],
 "metadata": {
  "kernelspec": {
   "display_name": "Python 3.9.7 ('base')",
   "language": "python",
   "name": "python3"
  },
  "language_info": {
   "codemirror_mode": {
    "name": "ipython",
    "version": 3
   },
   "file_extension": ".py",
   "mimetype": "text/x-python",
   "name": "python",
   "nbconvert_exporter": "python",
   "pygments_lexer": "ipython3",
   "version": "3.9.7"
  },
  "orig_nbformat": 4,
  "vscode": {
   "interpreter": {
    "hash": "5179d32cf6ec497baf3f8a3ef987cc77c5d2dc691fdde20a56316522f61a7323"
   }
  }
 },
 "nbformat": 4,
 "nbformat_minor": 2
}
