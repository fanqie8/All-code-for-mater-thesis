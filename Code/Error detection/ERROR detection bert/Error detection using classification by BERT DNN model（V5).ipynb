{
 "cells": [
  {
   "cell_type": "code",
   "execution_count": 1,
   "metadata": {},
   "outputs": [
    {
     "name": "stderr",
     "output_type": "stream",
     "text": [
      "d:\\anaconda\\envs\\py36\\lib\\site-packages\\tensorflow\\python\\framework\\dtypes.py:526: FutureWarning: Passing (type, 1) or '1type' as a synonym of type is deprecated; in a future version of numpy, it will be understood as (type, (1,)) / '(1,)type'.\n",
      "  _np_qint8 = np.dtype([(\"qint8\", np.int8, 1)])\n",
      "d:\\anaconda\\envs\\py36\\lib\\site-packages\\tensorflow\\python\\framework\\dtypes.py:527: FutureWarning: Passing (type, 1) or '1type' as a synonym of type is deprecated; in a future version of numpy, it will be understood as (type, (1,)) / '(1,)type'.\n",
      "  _np_quint8 = np.dtype([(\"quint8\", np.uint8, 1)])\n",
      "d:\\anaconda\\envs\\py36\\lib\\site-packages\\tensorflow\\python\\framework\\dtypes.py:528: FutureWarning: Passing (type, 1) or '1type' as a synonym of type is deprecated; in a future version of numpy, it will be understood as (type, (1,)) / '(1,)type'.\n",
      "  _np_qint16 = np.dtype([(\"qint16\", np.int16, 1)])\n",
      "d:\\anaconda\\envs\\py36\\lib\\site-packages\\tensorflow\\python\\framework\\dtypes.py:529: FutureWarning: Passing (type, 1) or '1type' as a synonym of type is deprecated; in a future version of numpy, it will be understood as (type, (1,)) / '(1,)type'.\n",
      "  _np_quint16 = np.dtype([(\"quint16\", np.uint16, 1)])\n",
      "d:\\anaconda\\envs\\py36\\lib\\site-packages\\tensorflow\\python\\framework\\dtypes.py:530: FutureWarning: Passing (type, 1) or '1type' as a synonym of type is deprecated; in a future version of numpy, it will be understood as (type, (1,)) / '(1,)type'.\n",
      "  _np_qint32 = np.dtype([(\"qint32\", np.int32, 1)])\n",
      "d:\\anaconda\\envs\\py36\\lib\\site-packages\\tensorflow\\python\\framework\\dtypes.py:535: FutureWarning: Passing (type, 1) or '1type' as a synonym of type is deprecated; in a future version of numpy, it will be understood as (type, (1,)) / '(1,)type'.\n",
      "  np_resource = np.dtype([(\"resource\", np.ubyte, 1)])\n"
     ]
    },
    {
     "name": "stdout",
     "output_type": "stream",
     "text": [
      "1.13.1\n",
      "['d:\\\\anaconda\\\\envs\\\\py36\\\\lib\\\\site-packages\\\\tensorflow_estimator\\\\python\\\\estimator\\\\api', 'd:\\\\anaconda\\\\envs\\\\py36\\\\lib\\\\site-packages\\\\tensorflow', 'd:\\\\anaconda\\\\envs\\\\py36\\\\lib\\\\site-packages\\\\tensorflow\\\\_api\\\\v1']\n",
      "True\n",
      "True\n",
      "Default GPU Device: /device:GPU:0\n"
     ]
    }
   ],
   "source": [
    "import tensorflow as tf\n",
    "\n",
    "print(tf.__version__)  # 查看tensorflow版本\n",
    "print(tf.__path__)     # 查看tensorflow安装路径\n",
    "\n",
    "a = tf.test.is_built_with_cuda()  # 判断CUDA是否可以用\n",
    "b = tf.test.is_gpu_available(\n",
    "    cuda_only=False,\n",
    "    min_cuda_compute_capability=None\n",
    ")  # 判断GPU是否可以用\n",
    "\n",
    "print(a) # 显示True表示CUDA可用\n",
    "print(b) # 显示True表示GPU可用\n",
    "\n",
    "# 查看驱动名称\n",
    "if tf.test.gpu_device_name():\n",
    "    print('Default GPU Device: {}'.format(tf.test.gpu_device_name()))\n",
    "else:\n",
    "    print(\"Please install GPU version of TF\")"
   ]
  },
  {
   "cell_type": "code",
   "execution_count": 2,
   "metadata": {},
   "outputs": [
    {
     "name": "stderr",
     "output_type": "stream",
     "text": [
      "Using TensorFlow backend.\n"
     ]
    }
   ],
   "source": [
    "import numpy as np\n",
    "import pandas as pd\n",
    "from sklearn.model_selection import train_test_split\n",
    "from keras import metrics\n",
    "import keras_metrics as km"
   ]
  },
  {
   "cell_type": "code",
   "execution_count": 3,
   "metadata": {},
   "outputs": [
    {
     "data": {
      "text/html": [
       "<div>\n",
       "<style scoped>\n",
       "    .dataframe tbody tr th:only-of-type {\n",
       "        vertical-align: middle;\n",
       "    }\n",
       "\n",
       "    .dataframe tbody tr th {\n",
       "        vertical-align: top;\n",
       "    }\n",
       "\n",
       "    .dataframe thead th {\n",
       "        text-align: right;\n",
       "    }\n",
       "</style>\n",
       "<table border=\"1\" class=\"dataframe\">\n",
       "  <thead>\n",
       "    <tr style=\"text-align: right;\">\n",
       "      <th></th>\n",
       "      <th>Unnamed: 0</th>\n",
       "      <th>Unnamed: 0.1</th>\n",
       "      <th>sentence</th>\n",
       "      <th>location_list</th>\n",
       "      <th>type_list</th>\n",
       "      <th>error_list</th>\n",
       "      <th>contentnew</th>\n",
       "    </tr>\n",
       "  </thead>\n",
       "  <tbody>\n",
       "    <tr>\n",
       "      <th>0</th>\n",
       "      <td>0</td>\n",
       "      <td>0</td>\n",
       "      <td>[BD《]绿色绿色与饥饿[BD》]如果要我在绿色食品与饥饿{CQ中}做出选择的话，我会毫不犹...</td>\n",
       "      <td>d.t.u.d.c.a.s.t.Sentence(begin=0, end=98)</td>\n",
       "      <td>0</td>\n",
       "      <td>0</td>\n",
       "      <td>《绿色绿色与饥饿》如果要我在绿色食品与饥饿做出选择的话，我会毫不犹豫的选择饥饿，大家也应该在...</td>\n",
       "    </tr>\n",
       "    <tr>\n",
       "      <th>1</th>\n",
       "      <td>1</td>\n",
       "      <td>1</td>\n",
       "      <td>是的[BQ，]虽然科技在发展，人们的需求也越来越多，但是我认为，与其将时间浪费在减少生产量来...</td>\n",
       "      <td>d.t.u.d.c.a.s.t.Sentence(begin=98, end=178)</td>\n",
       "      <td>0</td>\n",
       "      <td>0</td>\n",
       "      <td>是的虽然科技在发展，人们的需求也越来越多，但是我认为，与其将时间浪费在减少生产量来制造绿色食...</td>\n",
       "    </tr>\n",
       "    <tr>\n",
       "      <th>2</th>\n",
       "      <td>2</td>\n",
       "      <td>2</td>\n",
       "      <td>“少而精”，这正是绿色食品的特点，也是那些“吃饱撑着”的人的观点。</td>\n",
       "      <td>d.t.u.d.c.a.s.t.Sentence(begin=178, end=211)</td>\n",
       "      <td>0</td>\n",
       "      <td>0</td>\n",
       "      <td>“少而精”，这正是绿色食品的特点，也是那些“吃饱撑着”的人的观点。</td>\n",
       "    </tr>\n",
       "    <tr>\n",
       "      <th>3</th>\n",
       "      <td>3</td>\n",
       "      <td>3</td>\n",
       "      <td>现在普遍饮用的并不定绿色食品，而是短文里所说的所谓“吃了会有害于人体健康”的食品。</td>\n",
       "      <td>d.t.u.d.c.a.s.t.Sentence(begin=211, end=252)</td>\n",
       "      <td>0</td>\n",
       "      <td>0</td>\n",
       "      <td>现在普遍饮用的并不定绿色食品，而是短文里所说的所谓“吃了会有害于人体健康”的食品。</td>\n",
       "    </tr>\n",
       "    <tr>\n",
       "      <th>4</th>\n",
       "      <td>4</td>\n",
       "      <td>4</td>\n",
       "      <td>但是，究竟有多少人是因为吃了这些食品而死亡（生病）的呢？</td>\n",
       "      <td>d.t.u.d.c.a.s.t.Sentence(begin=252, end=280)</td>\n",
       "      <td>0</td>\n",
       "      <td>0</td>\n",
       "      <td>但是，究竟有多少人是因为吃了这些食品而死亡（生病）的呢？</td>\n",
       "    </tr>\n",
       "    <tr>\n",
       "      <th>...</th>\n",
       "      <td>...</td>\n",
       "      <td>...</td>\n",
       "      <td>...</td>\n",
       "      <td>...</td>\n",
       "      <td>...</td>\n",
       "      <td>...</td>\n",
       "      <td>...</td>\n",
       "    </tr>\n",
       "    <tr>\n",
       "      <th>25957</th>\n",
       "      <td>25957</td>\n",
       "      <td>25957</td>\n",
       "      <td>对于我来说[F説][BQ，]学习汉语的苦[B告]是经历人为的障碍[F礙]，而不像其他的外国人...</td>\n",
       "      <td>d.t.u.d.c.a.s.t.Sentence(begin=455, end=531)</td>\n",
       "      <td>0</td>\n",
       "      <td>0</td>\n",
       "      <td>对于我来说学习汉语的告是经历人为的障碍，而不像其他的外国人因不是他们的母语而遇到了语语转换的困难。</td>\n",
       "    </tr>\n",
       "    <tr>\n",
       "      <th>25958</th>\n",
       "      <td>25958</td>\n",
       "      <td>25958</td>\n",
       "      <td>学习汉语的乐处可真多。</td>\n",
       "      <td>d.t.u.d.c.a.s.t.Sentence(begin=531, end=542)</td>\n",
       "      <td>0</td>\n",
       "      <td>0</td>\n",
       "      <td>学习汉语的乐处可真多。</td>\n",
       "    </tr>\n",
       "    <tr>\n",
       "      <th>25959</th>\n",
       "      <td>25959</td>\n",
       "      <td>25959</td>\n",
       "      <td>在看国语电影时[F時]，能了解电影剧情和对白而不需靠字幕和翻译。</td>\n",
       "      <td>d.t.u.d.c.a.s.t.Sentence(begin=542, end=574)</td>\n",
       "      <td>0</td>\n",
       "      <td>0</td>\n",
       "      <td>在看国语电影时，能了解电影剧情和对白而不需靠字幕和翻译。</td>\n",
       "    </tr>\n",
       "    <tr>\n",
       "      <th>25960</th>\n",
       "      <td>25960</td>\n",
       "      <td>25960</td>\n",
       "      <td>和别人以汉语来交谈的亲切感等等。</td>\n",
       "      <td>d.t.u.d.c.a.s.t.Sentence(begin=574, end=590)</td>\n",
       "      <td>0</td>\n",
       "      <td>0</td>\n",
       "      <td>和别人以汉语来交谈的亲切感等等。</td>\n",
       "    </tr>\n",
       "    <tr>\n",
       "      <th>25961</th>\n",
       "      <td>25961</td>\n",
       "      <td>25961</td>\n",
       "      <td>(101F)(155J)\"}</td>\n",
       "      <td>d.t.u.d.c.a.s.t.Sentence(begin=590, end=604)</td>\n",
       "      <td>0</td>\n",
       "      <td>0</td>\n",
       "      <td>(101F)(155J)\"}</td>\n",
       "    </tr>\n",
       "  </tbody>\n",
       "</table>\n",
       "<p>25962 rows × 7 columns</p>\n",
       "</div>"
      ],
      "text/plain": [
       "       Unnamed: 0  Unnamed: 0.1  \\\n",
       "0               0             0   \n",
       "1               1             1   \n",
       "2               2             2   \n",
       "3               3             3   \n",
       "4               4             4   \n",
       "...           ...           ...   \n",
       "25957       25957         25957   \n",
       "25958       25958         25958   \n",
       "25959       25959         25959   \n",
       "25960       25960         25960   \n",
       "25961       25961         25961   \n",
       "\n",
       "                                                sentence  \\\n",
       "0      [BD《]绿色绿色与饥饿[BD》]如果要我在绿色食品与饥饿{CQ中}做出选择的话，我会毫不犹...   \n",
       "1      是的[BQ，]虽然科技在发展，人们的需求也越来越多，但是我认为，与其将时间浪费在减少生产量来...   \n",
       "2                      “少而精”，这正是绿色食品的特点，也是那些“吃饱撑着”的人的观点。   \n",
       "3              现在普遍饮用的并不定绿色食品，而是短文里所说的所谓“吃了会有害于人体健康”的食品。   \n",
       "4                           但是，究竟有多少人是因为吃了这些食品而死亡（生病）的呢？   \n",
       "...                                                  ...   \n",
       "25957  对于我来说[F説][BQ，]学习汉语的苦[B告]是经历人为的障碍[F礙]，而不像其他的外国人...   \n",
       "25958                                        学习汉语的乐处可真多。   \n",
       "25959                   在看国语电影时[F時]，能了解电影剧情和对白而不需靠字幕和翻译。   \n",
       "25960                                   和别人以汉语来交谈的亲切感等等。   \n",
       "25961                                     (101F)(155J)\"}   \n",
       "\n",
       "                                      location_list  type_list error_list  \\\n",
       "0         d.t.u.d.c.a.s.t.Sentence(begin=0, end=98)          0          0   \n",
       "1       d.t.u.d.c.a.s.t.Sentence(begin=98, end=178)          0          0   \n",
       "2      d.t.u.d.c.a.s.t.Sentence(begin=178, end=211)          0          0   \n",
       "3      d.t.u.d.c.a.s.t.Sentence(begin=211, end=252)          0          0   \n",
       "4      d.t.u.d.c.a.s.t.Sentence(begin=252, end=280)          0          0   \n",
       "...                                             ...        ...        ...   \n",
       "25957  d.t.u.d.c.a.s.t.Sentence(begin=455, end=531)          0          0   \n",
       "25958  d.t.u.d.c.a.s.t.Sentence(begin=531, end=542)          0          0   \n",
       "25959  d.t.u.d.c.a.s.t.Sentence(begin=542, end=574)          0          0   \n",
       "25960  d.t.u.d.c.a.s.t.Sentence(begin=574, end=590)          0          0   \n",
       "25961  d.t.u.d.c.a.s.t.Sentence(begin=590, end=604)          0          0   \n",
       "\n",
       "                                              contentnew  \n",
       "0      《绿色绿色与饥饿》如果要我在绿色食品与饥饿做出选择的话，我会毫不犹豫的选择饥饿，大家也应该在...  \n",
       "1      是的虽然科技在发展，人们的需求也越来越多，但是我认为，与其将时间浪费在减少生产量来制造绿色食...  \n",
       "2                      “少而精”，这正是绿色食品的特点，也是那些“吃饱撑着”的人的观点。  \n",
       "3              现在普遍饮用的并不定绿色食品，而是短文里所说的所谓“吃了会有害于人体健康”的食品。  \n",
       "4                           但是，究竟有多少人是因为吃了这些食品而死亡（生病）的呢？  \n",
       "...                                                  ...  \n",
       "25957  对于我来说学习汉语的告是经历人为的障碍，而不像其他的外国人因不是他们的母语而遇到了语语转换的困难。  \n",
       "25958                                        学习汉语的乐处可真多。  \n",
       "25959                       在看国语电影时，能了解电影剧情和对白而不需靠字幕和翻译。  \n",
       "25960                                   和别人以汉语来交谈的亲切感等等。  \n",
       "25961                                     (101F)(155J)\"}  \n",
       "\n",
       "[25962 rows x 7 columns]"
      ]
     },
     "execution_count": 3,
     "metadata": {},
     "output_type": "execute_result"
    }
   ],
   "source": [
    "df = pd.read_csv(r'C:\\Users\\dawns\\Desktop\\Master thesis\\data\\Clearning data for error detection.csv')\n",
    "df"
   ]
  },
  {
   "cell_type": "code",
   "execution_count": 4,
   "metadata": {},
   "outputs": [],
   "source": [
    "#df =df.head(100).copy()\n",
    "#df"
   ]
  },
  {
   "cell_type": "code",
   "execution_count": 5,
   "metadata": {},
   "outputs": [],
   "source": [
    "import os\n",
    "# 是否使用GPU训练\n",
    "os.environ[\"CUDA_VISIBLE_DEVICES\"] = \"4,5,6,7,8\""
   ]
  },
  {
   "cell_type": "code",
   "execution_count": 6,
   "metadata": {},
   "outputs": [
    {
     "name": "stdout",
     "output_type": "stream",
     "text": [
      "0    23537\n",
      "1     2425\n",
      "Name: type_list, dtype: int64\n"
     ]
    }
   ],
   "source": [
    "count = df.loc[:, 'type_list'].value_counts()\n",
    "count\n",
    "print(count)"
   ]
  },
  {
   "cell_type": "code",
   "execution_count": 7,
   "metadata": {},
   "outputs": [],
   "source": [
    "x_train, x_test, y_train, y_test = train_test_split(df['sentence'], df['type_list'], test_size=0.2)\n"
   ]
  },
  {
   "cell_type": "code",
   "execution_count": 8,
   "metadata": {},
   "outputs": [
    {
     "name": "stdout",
     "output_type": "stream",
     "text": [
      "       label                                               text\n",
      "9868       0                                   这期间我一直在语言学院学习汉语。\n",
      "17872      0                                           多多关照一下吧!\n",
      "4959       0                       从中{CC从此}我们可以看出少食[BD，]对人健康有利。\n",
      "10891      1  或者做每一件事之前，想一想怎样[F樣]做这[F這]件事才不会失败呢，{CD又}或者当这[F這...\n",
      "6275       0                                所以用天然肥的人、买绿色食品的人很少。\n",
      "       label                                               text\n",
      "16277      0                       我觉得一个人得了不可治疗的病给很多周围人带来极大的痛苦。\n",
      "2552       0  而且每个人们都很想在这世界上活着享受现代化的文明，所以当然吃的东西也很讲究，我妈妈也是以前买...\n",
      "14575      1  因为[F為]我的先生只{CC1只要}想利用{CJ-dy这段}时[F時]间{CD去}多休息,所...\n",
      "11062      1                   比如{CC假如}，我考过进入大学的考试，但我没有考{CD得}上。\n",
      "4722       0  问题在于{CC2在}化肥的使用方式[BQ，]不要过多地{CC的}使用它，而{CJ-zy要}适...\n",
      "              label      text_len\n",
      "count  20769.000000  20769.000000\n",
      "mean       0.093505     37.044875\n",
      "std        0.291145     28.407990\n",
      "min        0.000000      2.000000\n",
      "25%        0.000000     19.000000\n",
      "50%        0.000000     30.000000\n",
      "75%        0.000000     47.000000\n",
      "max        1.000000    436.000000\n"
     ]
    }
   ],
   "source": [
    "# train test set build\n",
    "train_df = pd.DataFrame({'label': y_train, 'text': x_train})\n",
    "test_df = pd.DataFrame({'label': y_test, 'text': x_test})\n",
    "print(train_df.head())\n",
    "print(test_df.head())\n",
    "train_df['text_len'] = train_df['text'].apply(lambda x: len(x))\n",
    "print(train_df.describe())"
   ]
  },
  {
   "cell_type": "code",
   "execution_count": 9,
   "metadata": {},
   "outputs": [],
   "source": [
    "#训练数据集文本长度百分之75分位点为46，所以padding 取46（先用 100 试一试）"
   ]
  },
  {
   "cell_type": "code",
   "execution_count": 10,
   "metadata": {},
   "outputs": [],
   "source": [
    "import numpy as np\n",
    "from keras.utils import to_categorical\n",
    "from keras.models import Model\n",
    "from keras.optimizers import Adam\n",
    "from keras.layers import Input, BatchNormalization, Dense\n",
    "from bert.extract_feature import BertVector"
   ]
  },
  {
   "cell_type": "code",
   "execution_count": 11,
   "metadata": {},
   "outputs": [
    {
     "name": "stderr",
     "output_type": "stream",
     "text": [
      "I:\u001b[33mBERT_VEC\u001b[0m:[graph:opt: 48]:model config: e:\\All codes\\Master code\\ERROR detection bert\\chinese_L-12_H-768_A-12\\bert_config.json\n",
      "I:\u001b[33mBERT_VEC\u001b[0m:[graph:opt: 54]:build graph...\n"
     ]
    },
    {
     "name": "stdout",
     "output_type": "stream",
     "text": [
      "\n",
      "WARNING: The TensorFlow contrib module will not be included in TensorFlow 2.0.\n",
      "For more information, please see:\n",
      "  * https://github.com/tensorflow/community/blob/master/rfcs/20180907-contrib-sunset.md\n",
      "  * https://github.com/tensorflow/addons\n",
      "If you depend on functionality not listed there, please file an issue.\n",
      "\n"
     ]
    },
    {
     "name": "stderr",
     "output_type": "stream",
     "text": [
      "I:\u001b[33mBERT_VEC\u001b[0m:[graph:opt:128]:load parameters from checkpoint...\n",
      "I:\u001b[33mBERT_VEC\u001b[0m:[graph:opt:130]:freeze...\n",
      "I:\u001b[33mBERT_VEC\u001b[0m:[graph:opt:133]:optimize...\n",
      "I:\u001b[33mBERT_VEC\u001b[0m:[graph:opt:144]:write graph to a tmp file: ./tmp_graph11\n"
     ]
    },
    {
     "name": "stdout",
     "output_type": "stream",
     "text": [
      "begin encoding\n",
      "end encoding\n",
      "x_train:  (20769, 768)\n"
     ]
    }
   ],
   "source": [
    "# 读取文件并进行转换\n",
    "bert_model = BertVector(pooling_strategy=\"REDUCE_MEAN\", max_seq_len=46)\n",
    "print('begin encoding')\n",
    "f = lambda text: bert_model.encode([text])[\"encodes\"][0]\n",
    "train_df['x'] = train_df['text'].apply(f)\n",
    "test_df['x'] = test_df['text'].apply(f)\n",
    "print('end encoding')\n",
    "\n",
    "x_train = np.array([vec for vec in train_df['x']])\n",
    "x_test = np.array([vec for vec in test_df['x']])\n",
    "y_train = np.array([vec for vec in train_df['label']])\n",
    "y_test = np.array([vec for vec in test_df['label']])\n",
    "print('x_train: ', x_train.shape)\n",
    "\n",
    "# Convert class vectors to binary class matrices.\n",
    "num_classes = 2\n",
    "y_train = to_categorical(y_train, num_classes)\n",
    "y_test = to_categorical(y_test, num_classes)\n"
   ]
  },
  {
   "cell_type": "code",
   "execution_count": 12,
   "metadata": {},
   "outputs": [],
   "source": [
    "\n",
    "#print(type(x_train))\n",
    "#print('y_train: ', y_train.shape)\n",
    "#print(type(y_train))\n",
    "#print('x_test: ', x_test.shape)\n",
    "#print(type(x_test))\n",
    "#print('y_test: ', y_test.shape)\n",
    "#print(type(y_test))       "
   ]
  },
  {
   "cell_type": "code",
   "execution_count": 13,
   "metadata": {},
   "outputs": [],
   "source": [
    "# 这一步保存所有通过Bert提取的向量，后续直接加载避免重复工作\n",
    "np.save('x_train.npy',x_train)\n",
    "np.save('y_train.npy',y_train)\n",
    "np.save('x_test.npy',x_test)\n",
    "np.save('y_test.npy',y_test)   "
   ]
  },
  {
   "cell_type": "code",
   "execution_count": 14,
   "metadata": {},
   "outputs": [],
   "source": [
    "a = np.load('x_train.npy')\n",
    "b = np.load('y_train.npy')\n",
    "c = np.load('x_test.npy')\n",
    "d = np.load('y_test.npy')"
   ]
  },
  {
   "cell_type": "code",
   "execution_count": 15,
   "metadata": {},
   "outputs": [
    {
     "name": "stdout",
     "output_type": "stream",
     "text": [
      "Model: \"model_1\"\n",
      "_________________________________________________________________\n",
      "Layer (type)                 Output Shape              Param #   \n",
      "=================================================================\n",
      "input_1 (InputLayer)         (None, 768)               0         \n",
      "_________________________________________________________________\n",
      "dense_1 (Dense)              (None, 32)                24608     \n",
      "_________________________________________________________________\n",
      "batch_normalization_1 (Batch (None, 32)                128       \n",
      "_________________________________________________________________\n",
      "dense_2 (Dense)              (None, 2)                 66        \n",
      "=================================================================\n",
      "Total params: 24,802\n",
      "Trainable params: 24,738\n",
      "Non-trainable params: 64\n",
      "_________________________________________________________________\n",
      "None\n",
      "tracking <tf.Variable 'Variable:0' shape=() dtype=int32> tp\n",
      "tracking <tf.Variable 'Variable_1:0' shape=() dtype=int32> fp\n",
      "tracking <tf.Variable 'Variable_2:0' shape=() dtype=int32> tp\n",
      "tracking <tf.Variable 'Variable_3:0' shape=() dtype=int32> fn\n",
      "tracking <tf.Variable 'Variable_4:0' shape=() dtype=int32> tp\n",
      "tracking <tf.Variable 'Variable_5:0' shape=() dtype=int32> fp\n",
      "tracking <tf.Variable 'Variable_6:0' shape=() dtype=int32> tp\n",
      "tracking <tf.Variable 'Variable_7:0' shape=() dtype=int32> fn\n",
      "Epoch 1/20\n",
      "20769/20769 [==============================] - 3s 134us/step - loss: 0.4704 - f1_score: 0.8046 - precision: 0.9509 - recall: 0.7036\n",
      "Epoch 2/20\n",
      "20769/20769 [==============================] - 2s 112us/step - loss: 0.2255 - f1_score: 0.9576 - precision: 0.9314 - recall: 0.9853\n",
      "Epoch 3/20\n",
      "20769/20769 [==============================] - 2s 107us/step - loss: 0.1960 - f1_score: 0.9583 - precision: 0.9325 - recall: 0.9855\n",
      "Epoch 4/20\n",
      "20769/20769 [==============================] - 2s 110us/step - loss: 0.1887 - f1_score: 0.9623 - precision: 0.9398 - recall: 0.9859\n",
      "Epoch 5/20\n",
      "20769/20769 [==============================] - 2s 108us/step - loss: 0.1846 - f1_score: 0.9597 - precision: 0.9384 - recall: 0.9820\n",
      "Epoch 6/20\n",
      "20769/20769 [==============================] - 2s 108us/step - loss: 0.1794 - f1_score: 0.9601 - precision: 0.9370 - recall: 0.9843\n",
      "Epoch 7/20\n",
      "20769/20769 [==============================] - 2s 111us/step - loss: 0.1741 - f1_score: 0.9616 - precision: 0.9408 - recall: 0.9833\n",
      "Epoch 8/20\n",
      "20769/20769 [==============================] - 2s 110us/step - loss: 0.1699 - f1_score: 0.9637 - precision: 0.9458 - recall: 0.9823\n",
      "Epoch 9/20\n",
      "20769/20769 [==============================] - 2s 103us/step - loss: 0.1652 - f1_score: 0.9644 - precision: 0.9441 - recall: 0.9855\n",
      "Epoch 10/20\n",
      "20769/20769 [==============================] - 2s 97us/step - loss: 0.1616 - f1_score: 0.9652 - precision: 0.9464 - recall: 0.9848\n",
      "Epoch 11/20\n",
      "20769/20769 [==============================] - 2s 103us/step - loss: 0.1561 - f1_score: 0.9672 - precision: 0.9497 - recall: 0.9853\n",
      "Epoch 12/20\n",
      "20769/20769 [==============================] - 2s 102us/step - loss: 0.1534 - f1_score: 0.9651 - precision: 0.9499 - recall: 0.9809\n",
      "Epoch 13/20\n",
      "20769/20769 [==============================] - 2s 99us/step - loss: 0.1472 - f1_score: 0.9688 - precision: 0.9526 - recall: 0.9856\n",
      "Epoch 14/20\n",
      "20769/20769 [==============================] - 2s 100us/step - loss: 0.1437 - f1_score: 0.9694 - precision: 0.9557 - recall: 0.9836\n",
      "Epoch 15/20\n",
      "20769/20769 [==============================] - 2s 108us/step - loss: 0.1387 - f1_score: 0.9704 - precision: 0.9554 - recall: 0.9858\n",
      "Epoch 16/20\n",
      "20769/20769 [==============================] - 2s 104us/step - loss: 0.1323 - f1_score: 0.9708 - precision: 0.9568 - recall: 0.9852\n",
      "Epoch 17/20\n",
      "20769/20769 [==============================] - 2s 100us/step - loss: 0.1279 - f1_score: 0.9734 - precision: 0.9614 - recall: 0.9857\n",
      "Epoch 18/20\n",
      "20769/20769 [==============================] - 2s 104us/step - loss: 0.1215 - f1_score: 0.9740 - precision: 0.9614 - recall: 0.9870\n",
      "Epoch 19/20\n",
      "20769/20769 [==============================] - 2s 107us/step - loss: 0.1196 - f1_score: 0.9737 - precision: 0.9624 - recall: 0.9853\n",
      "Epoch 20/20\n",
      "20769/20769 [==============================] - 2s 105us/step - loss: 0.1113 - f1_score: 0.9770 - precision: 0.9663 - recall: 0.9878\n"
     ]
    }
   ],
   "source": [
    "from tensorflow import keras\n",
    "import keras_metrics as km\n",
    "# 创建DNN模型\n",
    "x_in = Input(shape=(768, ))\n",
    "x_out = Dense(32, activation=\"relu\")(x_in)\n",
    "x_out = BatchNormalization()(x_out)\n",
    "x_out = Dense(num_classes, activation=\"sigmoid\")(x_out)\n",
    "model = Model(inputs=x_in, outputs=x_out)\n",
    "print(model.summary())\n",
    "     \n",
    "model.compile(loss='binary_crossentropy',\n",
    "              optimizer=Adam(),\n",
    "              metrics=[km.f1_score(), km.binary_precision(), km.binary_recall()])    #km.f1_score()\n",
    "\n",
    "# 模型训练、评估以及保存\n",
    "history = model.fit(x_train, y_train, batch_size=100, epochs=20)\n",
    "model.save('Bert_DNN(2).h5')\n",
    "#print(model.evaluate(x_test, y_test))"
   ]
  },
  {
   "cell_type": "code",
   "execution_count": 16,
   "metadata": {},
   "outputs": [
    {
     "name": "stdout",
     "output_type": "stream",
     "text": [
      "5193/5193 [==============================] - 1s 179us/step\n",
      "[0.23988026891878614, 0.9434397220611572, 0.9490828514099121, 0.937951385974884]\n"
     ]
    }
   ],
   "source": [
    "print(model.evaluate(x_test, y_test))"
   ]
  },
  {
   "cell_type": "code",
   "execution_count": 17,
   "metadata": {},
   "outputs": [
    {
     "name": "stdout",
     "output_type": "stream",
     "text": [
      "[[9.9888551e-01 6.8011880e-04]\n",
      " [9.9529380e-01 3.8178563e-03]\n",
      " [3.2152152e-01 6.2408853e-01]\n",
      " ...\n",
      " [2.6602587e-01 6.6998321e-01]\n",
      " [2.9663730e-01 7.1588254e-01]\n",
      " [9.9999225e-01 8.8837151e-06]]\n"
     ]
    },
    {
     "data": {
      "text/plain": [
       "numpy.ndarray"
      ]
     },
     "execution_count": 17,
     "metadata": {},
     "output_type": "execute_result"
    }
   ],
   "source": [
    "# 计算y——pred并计算打印最大概率对应的标签\n",
    "import numpy as np\n",
    "y_pred= model.predict(x_test)\n",
    "print(y_pred)\n",
    "Predicted=np.argmax(y_pred, axis=1)\n",
    "len(Predicted)\n",
    "type(Predicted)\n",
    "\n"
   ]
  },
  {
   "cell_type": "code",
   "execution_count": 18,
   "metadata": {},
   "outputs": [
    {
     "name": "stdout",
     "output_type": "stream",
     "text": [
      "[[1. 0.]\n",
      " [1. 0.]\n",
      " [0. 1.]\n",
      " ...\n",
      " [1. 0.]\n",
      " [1. 0.]\n",
      " [1. 0.]]\n",
      "[0 0 1 ... 0 0 0]\n",
      "5193 <class 'numpy.ndarray'>\n"
     ]
    }
   ],
   "source": [
    "#计算 y—test 最大概率对应的标签\n",
    "print(y_test)\n",
    "Tested =  np.argmax(y_test, 1)\n",
    "print(Tested)\n",
    "print(len(Tested),type(Tested))"
   ]
  },
  {
   "cell_type": "code",
   "execution_count": 19,
   "metadata": {},
   "outputs": [
    {
     "name": "stdout",
     "output_type": "stream",
     "text": [
      "              precision    recall  f1-score   support\n",
      "\n",
      "           0       0.95      0.94      0.95      4710\n",
      "           1       0.50      0.54      0.51       483\n",
      "\n",
      "    accuracy                           0.91      5193\n",
      "   macro avg       0.72      0.74      0.73      5193\n",
      "weighted avg       0.91      0.91      0.91      5193\n",
      "\n"
     ]
    }
   ],
   "source": [
    "# y_pred 和 y——test 转为numpy 并画出 confusion matrix\n",
    "from sklearn.metrics import classification_report\n",
    "print(classification_report(Tested, Predicted))"
   ]
  },
  {
   "cell_type": "code",
   "execution_count": 20,
   "metadata": {},
   "outputs": [
    {
     "data": {
      "text/plain": [
       "Text(0.5, 24.0, 'Predicted label')"
      ]
     },
     "execution_count": 20,
     "metadata": {},
     "output_type": "execute_result"
    },
    {
     "data": {
      "image/png": "[encoded data removed]",
      "text/plain": [
       "<Figure size 360x360 with 2 Axes>"
      ]
     },
     "metadata": {
      "needs_background": "light"
     },
     "output_type": "display_data"
    }
   ],
   "source": [
    "import matplotlib.pyplot as plt\n",
    "import seaborn as sns\n",
    "from sklearn.metrics import confusion_matrix\n",
    "cm = confusion_matrix(Tested, Predicted)\n",
    "plt.figure(figsize=(5,5))\n",
    "sns.heatmap(cm, annot=True, fmt=\"d\")\n",
    "plt.title('Confusion matrix')\n",
    "plt.ylabel('Actual label')\n",
    "plt.xlabel('Predicted label')"
   ]
  }
 ],
 "metadata": {
  "kernelspec": {
   "display_name": "Python 3.6.13 ('py36')",
   "language": "python",
   "name": "python3"
  },
  "language_info": {
   "codemirror_mode": {
    "name": "ipython",
    "version": 3
   },
   "file_extension": ".py",
   "mimetype": "text/x-python",
   "name": "python",
   "nbconvert_exporter": "python",
   "pygments_lexer": "ipython3",
   "version": "3.6.13 |Anaconda, Inc.| (default, Mar 16 2021, 11:37:27) [MSC v.1916 64 bit (AMD64)]"
  },
  "orig_nbformat": 4,
  "vscode": {
   "interpreter": {
    "hash": "0e236bb1f9c7382727396d1b74c40d965c7dbb40be27cb97f4a2299e11c3d996"
   }
  }
 },
 "nbformat": 4,
 "nbformat_minor": 2
}
