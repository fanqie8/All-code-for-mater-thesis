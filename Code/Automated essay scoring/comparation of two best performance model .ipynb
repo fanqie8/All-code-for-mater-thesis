{
 "cells": [
  {
   "cell_type": "code",
   "execution_count": 1,
   "metadata": {},
   "outputs": [],
   "source": [
    "import pandas as pd\n",
    "import numpy as np\n",
    "import matplotlib.pyplot as plt\n",
    "import re\n",
    "import jieba\n",
    "from sklearn.model_selection import train_test_split\n",
    "from sklearn.feature_extraction.text import TfidfVectorizer, CountVectorizer\n",
    "from sklearn import metrics\n",
    "import joblib\n",
    "from scipy import sparse\n",
    "from sklearn.ensemble import RandomForestRegressor\n",
    "import matplotlib.pyplot as plt\n",
    "from sklearn.metrics import ConfusionMatrixDisplay\n",
    "from sklearn import ensemble\n",
    "from sklearn.model_selection import GridSearchCV\n",
    "import xgboost as xgb\n",
    "from sklearn import model_selection\n",
    "from sklearn.model_selection import cross_val_score,cross_validate, KFold\n",
    "from sklearn.metrics import mean_squared_error \n",
    "from sklearn.multiclass import OneVsRestClassifier\n",
    "from sklearn.model_selection import GridSearchCV\n",
    "from sklearn import svm\n",
    "from sklearn.metrics import mean_absolute_error\n",
    "from sklearn.metrics import r2_score\n",
    "from sklearn.metrics import roc_curve, auc, classification_report,accuracy_score,precision_score,f1_score,recall_score,cohen_kappa_score,multilabel_confusion_matrix,make_scorer"
   ]
  },
  {
   "cell_type": "code",
   "execution_count": 2,
   "metadata": {},
   "outputs": [
    {
     "data": {
      "text/plain": [
       "(3668, 19)"
      ]
     },
     "execution_count": 2,
     "metadata": {},
     "output_type": "execute_result"
    }
   ],
   "source": [
    "# load data \n",
    "dataframe = pd.read_csv(r'C:\\Users\\dawns\\Desktop\\Master thesis\\data\\Features_level.csv')\n",
    "#data=dataframe[['CONTENT_NEW','','SCORE']].copy()\n",
    "df_data=dataframe[['CONTENT_NEW','WORDCUT','SCORE','LEVEL','Tokens','level1_tokens','level2_tokens','level3_tokens','level4_tokens','level5_tokens','level6_tokens','level7_tokens','char_num','high_level','primary_level','Connective_ratio','connective_SCORE','pre','connective_numbers']].copy()\n",
    "df_data.shape"
   ]
  },
  {
   "cell_type": "code",
   "execution_count": 3,
   "metadata": {},
   "outputs": [],
   "source": [
    "# Generating 'y' for classification as well as regression\n",
    "y = df_data['SCORE']"
   ]
  },
  {
   "cell_type": "code",
   "execution_count": 4,
   "metadata": {},
   "outputs": [],
   "source": [
    "\n",
    "# generating x \n",
    "pre = df_data['pre']\n",
    "# Tokenization\n",
    "def preprocessing_sentence(x):\n",
    "    words = jieba.cut(str(x).strip())\n",
    "    return ' '.join(words)"
   ]
  },
  {
   "cell_type": "code",
   "execution_count": 5,
   "metadata": {},
   "outputs": [
    {
     "data": {
      "text/plain": [
       "(3668, 36035)"
      ]
     },
     "execution_count": 5,
     "metadata": {},
     "output_type": "execute_result"
    }
   ],
   "source": [
    "# load tf-idf vector\n",
    "vector = joblib.load(r'E:\\All codes\\Master code\\vector.pkl') \n",
    "vector.shape\n"
   ]
  },
  {
   "cell_type": "code",
   "execution_count": 6,
   "metadata": {},
   "outputs": [
    {
     "name": "stdout",
     "output_type": "stream",
     "text": [
      "(3668, 1)\n",
      "(3668, 36035)\n",
      "=============\n",
      "(3668, 36036)\n"
     ]
    }
   ],
   "source": [
    "# 特征合并 feature concatenate \n",
    "feature_set1 = df_data[['connective_SCORE',]]\n",
    "feature_set2 = vector\n",
    "print(feature_set1.shape)\n",
    "print(feature_set2.shape)\n",
    "train_features = sparse.hstack((feature_set2, feature_set1))\n",
    "print('=============')\n",
    "print(train_features.shape)"
   ]
  },
  {
   "cell_type": "code",
   "execution_count": 7,
   "metadata": {},
   "outputs": [
    {
     "name": "stdout",
     "output_type": "stream",
     "text": [
      "(2934, 36036)\n",
      "(2934,)\n"
     ]
    }
   ],
   "source": [
    "# 划分训练集 ，测试集 train_test split\n",
    "x_train, x_test, y_train, y_test = train_test_split(train_features, y, test_size=0.2)\n",
    "print(x_train.shape)\n",
    "print(y_train.shape)"
   ]
  },
  {
   "cell_type": "code",
   "execution_count": 8,
   "metadata": {},
   "outputs": [
    {
     "name": "stdout",
     "output_type": "stream",
     "text": [
      "Train Accuracy: 0.9897750511247444\n",
      "================================================\n",
      "Test Accuracy: 0.27520435967302453\n",
      "================================================\n",
      "acc_for_each_class:\n",
      " [1.         1.         0.         0.19230769 0.20930233 0.19626168\n",
      " 0.35055351 0.29850746 0.12       0.20689655 0.39285714 0.        ]\n",
      "================================================\n",
      "qwkappa:\n",
      " 0.5396810013434027\n",
      "================================================\n",
      "Weighted precision 0.2591504233910066\n",
      "Weighted recall 0.27520435967302453\n",
      "Weighted f1-score 0.2555745542647669\n",
      "================================================\n"
     ]
    }
   ],
   "source": [
    "# support vector machine classfier\n",
    "model = OneVsRestClassifier(svm.SVC(kernel='rbf',gamma='scale'))#linear\n",
    "clt = model.fit(x_train,y_train)\n",
    "y_pred = clt.predict(x_test)\n",
    "test_score = accuracy_score(y_test, y_pred)\n",
    "train_score = clt.score(x_train, y_train)\n",
    "print(\"Train Accuracy:\", train_score)\n",
    "print(\"================================================\")\n",
    "print(\"Test Accuracy:\", test_score)\n",
    "print(\"================================================\")\n",
    "acc_for_each_class = metrics.precision_score(y_test,y_pred,average=None)\n",
    "print(\"acc_for_each_class:\\n\",acc_for_each_class)\n",
    "print(\"================================================\")\n",
    "qwkappa = cohen_kappa_score(y_test,y_pred,weights='quadratic')\n",
    "print(\"qwkappa:\\n\",qwkappa)\n",
    "print(\"================================================\")\n",
    "print('Weighted precision', precision_score(y_test, y_pred, average='weighted'))\n",
    "print('Weighted recall', recall_score(y_test, y_pred, average='weighted'))\n",
    "print('Weighted f1-score', f1_score(y_test, y_pred, average='weighted'))\n",
    "print(\"================================================\")"
   ]
  },
  {
   "cell_type": "code",
   "execution_count": 9,
   "metadata": {},
   "outputs": [
    {
     "name": "stdout",
     "output_type": "stream",
     "text": [
      "classification report: \n",
      "               precision    recall  f1-score   support\n",
      "\n",
      "          40       1.00      0.40      0.57         5\n",
      "          45       1.00      0.17      0.29         6\n",
      "          50       0.00      0.00      0.00        15\n",
      "          55       0.19      0.09      0.13        53\n",
      "          60       0.21      0.23      0.22        78\n",
      "          65       0.20      0.23      0.21        93\n",
      "          70       0.35      0.55      0.43       172\n",
      "          75       0.30      0.21      0.25        94\n",
      "          80       0.12      0.08      0.10        73\n",
      "          85       0.21      0.16      0.18        76\n",
      "          90       0.39      0.40      0.40        55\n",
      "          95       0.00      0.00      0.00        14\n",
      "\n",
      "    accuracy                           0.28       734\n",
      "   macro avg       0.33      0.21      0.23       734\n",
      "weighted avg       0.26      0.28      0.26       734\n",
      "\n"
     ]
    }
   ],
   "source": [
    "classification_rep = classification_report(y_test,y_pred)\n",
    "print(\"classification report: \\n\",classification_rep)"
   ]
  },
  {
   "cell_type": "code",
   "execution_count": 10,
   "metadata": {},
   "outputs": [
    {
     "name": "stdout",
     "output_type": "stream",
     "text": [
      "[[ 2  0  0  1  0  0  2  0  0  0  0  0]\n",
      " [ 0  1  0  0  5  0  0  0  0  0  0  0]\n",
      " [ 0  0  0  2  5  1  7  0  0  0  0  0]\n",
      " [ 0  0  1  5 14  9 19  2  3  0  0  0]\n",
      " [ 0  0  4  4 18 22 22  2  4  1  1  0]\n",
      " [ 0  0  1  8 19 21 29  7  6  2  0  0]\n",
      " [ 0  0  0  3 13 19 95 20 11  4  7  0]\n",
      " [ 0  0  0  1  2 12 42 20  3 11  2  1]\n",
      " [ 0  0  0  2  5 10 22  8  6 12  7  1]\n",
      " [ 0  0  0  0  2 10 23  6  8 12 14  1]\n",
      " [ 0  0  0  0  3  2  8  1  7 11 22  1]\n",
      " [ 0  0  0  0  0  1  2  1  2  5  3  0]]\n"
     ]
    }
   ],
   "source": [
    "confusion_mat = metrics.confusion_matrix(y_test, y_pred)\n",
    "print(confusion_mat)\n"
   ]
  },
  {
   "cell_type": "code",
   "execution_count": 11,
   "metadata": {},
   "outputs": [
    {
     "data": {
      "image/png": "[encoded data removed]",
      "text/plain": [
       "<Figure size 432x288 with 2 Axes>"
      ]
     },
     "metadata": {
      "needs_background": "light"
     },
     "output_type": "display_data"
    }
   ],
   "source": [
    "ConfusionMatrixDisplay.from_predictions(y_test, y_pred)\n",
    "plt.show()"
   ]
  },
  {
   "cell_type": "code",
   "execution_count": 12,
   "metadata": {},
   "outputs": [
    {
     "name": "stdout",
     "output_type": "stream",
     "text": [
      "R2: 0.39629813659518875\n",
      "mean_squared_error: 75.6668967391132\n",
      "mean_absolute_error: 6.865654771269504\n"
     ]
    }
   ],
   "source": [
    "#xgboost  xgboost处理回归\n",
    "model = xgb.XGBRegressor()\n",
    "params = {'n_estimators': [160], 'learning_rate': [0.1]}\n",
    "model.fit(x_train, y_train)\n",
    "y_pred = model.predict(x_test)\n",
    "print('R2:',r2_score(y_test,y_pred))\n",
    "print('mean_squared_error:',mean_squared_error(y_test,y_pred))\n",
    "print('mean_absolute_error:',mean_absolute_error(y_test,y_pred))"
   ]
  },
  {
   "cell_type": "code",
   "execution_count": 13,
   "metadata": {},
   "outputs": [
    {
     "name": "stdout",
     "output_type": "stream",
     "text": [
      "0    45.341347\n",
      "dtype: float32\n",
      "0    99.933044\n",
      "dtype: float32\n",
      "qwkappa:\n",
      " 0.5903029053721327\n"
     ]
    }
   ],
   "source": [
    "df= pd.DataFrame(y_pred)\n",
    "print(df.min())\n",
    "print(df.max())\n",
    "df[(df >= 95)]=95\n",
    "df[(df >= 90) & (df <95)]=90\n",
    "df[(df >= 85) & (df < 90)]=85\n",
    "df[(df >= 80) & (df < 85)]=80\n",
    "df[(df >= 75) & (df < 80)]=75\n",
    "df[(df >= 70) & (df < 75)]=70\n",
    "df[(df >= 65) & (df < 70)]=65\n",
    "df[(df >= 60) & (df < 65)]=60\n",
    "df[(df >= 55) & (df < 60)]=55\n",
    "df[(df >= 50) & (df < 55)]=50\n",
    "df[(df >= 45) & (df < 50)]=45\n",
    "df[ (df < 45)]=40\n",
    "qwkappa = cohen_kappa_score(y_test,y_pred,weights='quadratic')\n",
    "print(\"qwkappa:\\n\",qwkappa)"
   ]
  },
  {
   "cell_type": "code",
   "execution_count": 14,
   "metadata": {},
   "outputs": [
    {
     "name": "stdout",
     "output_type": "stream",
     "text": [
      "classification report: \n",
      "               precision    recall  f1-score   support\n",
      "\n",
      "          40       0.00      0.00      0.00         5\n",
      "          45       0.30      0.50      0.37         6\n",
      "          50       0.29      0.27      0.28        15\n",
      "          55       0.32      0.23      0.26        53\n",
      "          60       0.21      0.21      0.21        78\n",
      "          65       0.15      0.25      0.19        93\n",
      "          70       0.32      0.35      0.34       172\n",
      "          75       0.18      0.29      0.22        94\n",
      "          80       0.14      0.14      0.14        73\n",
      "          85       0.27      0.11      0.15        76\n",
      "          90       0.43      0.05      0.10        55\n",
      "          95       0.00      0.00      0.00        14\n",
      "\n",
      "    accuracy                           0.23       734\n",
      "   macro avg       0.22      0.20      0.19       734\n",
      "weighted avg       0.25      0.23      0.22       734\n",
      "\n"
     ]
    },
    {
     "name": "stderr",
     "output_type": "stream",
     "text": [
      "d:\\anaconda\\lib\\site-packages\\sklearn\\metrics\\_classification.py:1327: UndefinedMetricWarning: Precision and F-score are ill-defined and being set to 0.0 in labels with no predicted samples. Use `zero_division` parameter to control this behavior.\n",
      "  _warn_prf(average, modifier, msg_start, len(result))\n",
      "d:\\anaconda\\lib\\site-packages\\sklearn\\metrics\\_classification.py:1327: UndefinedMetricWarning: Precision and F-score are ill-defined and being set to 0.0 in labels with no predicted samples. Use `zero_division` parameter to control this behavior.\n",
      "  _warn_prf(average, modifier, msg_start, len(result))\n",
      "d:\\anaconda\\lib\\site-packages\\sklearn\\metrics\\_classification.py:1327: UndefinedMetricWarning: Precision and F-score are ill-defined and being set to 0.0 in labels with no predicted samples. Use `zero_division` parameter to control this behavior.\n",
      "  _warn_prf(average, modifier, msg_start, len(result))\n"
     ]
    }
   ],
   "source": [
    "classification_rep = classification_report(y_test,y_pred)\n",
    "print(\"classification report: \\n\",classification_rep)"
   ]
  },
  {
   "cell_type": "code",
   "execution_count": 15,
   "metadata": {},
   "outputs": [
    {
     "name": "stdout",
     "output_type": "stream",
     "text": [
      "[[ 0  1  2  2  0  0  0  0  0  0  0  0]\n",
      " [ 0  3  2  0  0  1  0  0  0  0  0  0]\n",
      " [ 0  0  4  1  9  0  0  1  0  0  0  0]\n",
      " [ 0  3  3 12 13 15  4  3  0  0  0  0]\n",
      " [ 0  2  2  7 16 21 21  8  1  0  0  0]\n",
      " [ 0  1  1  7 21 23 23 10  6  1  0  0]\n",
      " [ 0  0  0  3  9 52 61 39  7  1  0  0]\n",
      " [ 0  0  0  1  1 16 36 27 10  3  0  0]\n",
      " [ 0  0  0  4  4 10 19 21 10  4  1  0]\n",
      " [ 0  0  0  1  2 10 13 19 21  8  2  0]\n",
      " [ 0  0  0  0  0  2 12 13 14  9  3  2]\n",
      " [ 0  0  0  0  0  0  0  6  3  4  1  0]]\n"
     ]
    }
   ],
   "source": [
    "confusion_mat = metrics.confusion_matrix(y_test, y_pred)\n",
    "print(confusion_mat)"
   ]
  },
  {
   "cell_type": "code",
   "execution_count": 16,
   "metadata": {},
   "outputs": [
    {
     "name": "stdout",
     "output_type": "stream",
     "text": [
      "acc_for_each_class:\n",
      " [0.         0.3        0.28571429 0.31578947 0.21333333 0.15333333\n",
      " 0.32275132 0.18367347 0.13888889 0.26666667 0.42857143 0.        ]\n",
      "================================================\n",
      "Test Accuracy: 0.22752043596730245\n"
     ]
    },
    {
     "name": "stderr",
     "output_type": "stream",
     "text": [
      "d:\\anaconda\\lib\\site-packages\\sklearn\\metrics\\_classification.py:1327: UndefinedMetricWarning: Precision is ill-defined and being set to 0.0 in labels with no predicted samples. Use `zero_division` parameter to control this behavior.\n",
      "  _warn_prf(average, modifier, msg_start, len(result))\n"
     ]
    }
   ],
   "source": [
    "acc_for_each_class = metrics.precision_score(y_test,y_pred,average=None)\n",
    "print(\"acc_for_each_class:\\n\",acc_for_each_class)\n",
    "test_score = accuracy_score(y_test, y_pred)\n",
    "print(\"================================================\")\n",
    "print(\"Test Accuracy:\", test_score)"
   ]
  },
  {
   "cell_type": "code",
   "execution_count": 17,
   "metadata": {},
   "outputs": [
    {
     "data": {
      "image/png": "[encoded data removed]",
      "text/plain": [
       "<Figure size 432x288 with 2 Axes>"
      ]
     },
     "metadata": {
      "needs_background": "light"
     },
     "output_type": "display_data"
    }
   ],
   "source": [
    "\n",
    "ConfusionMatrixDisplay.from_predictions(y_test, y_pred)\n",
    "plt.show()"
   ]
  }
 ],
 "metadata": {
  "kernelspec": {
   "display_name": "Python 3.9.7 ('base')",
   "language": "python",
   "name": "python3"
  },
  "language_info": {
   "codemirror_mode": {
    "name": "ipython",
    "version": 3
   },
   "file_extension": ".py",
   "mimetype": "text/x-python",
   "name": "python",
   "nbconvert_exporter": "python",
   "pygments_lexer": "ipython3",
   "version": "3.9.7"
  },
  "orig_nbformat": 4,
  "vscode": {
   "interpreter": {
    "hash": "5179d32cf6ec497baf3f8a3ef987cc77c5d2dc691fdde20a56316522f61a7323"
   }
  }
 },
 "nbformat": 4,
 "nbformat_minor": 2
}
