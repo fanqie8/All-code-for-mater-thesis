{
 "cells": [
  {
   "cell_type": "code",
   "execution_count": 1,
   "id": "97c0e706",
   "metadata": {},
   "outputs": [],
   "source": [
    "import pandas as pd\n",
    "import numpy as np\n",
    "import matplotlib.pyplot as plt\n",
    "import re\n",
    "import jieba\n",
    "from sklearn.model_selection import train_test_split\n",
    "from sklearn.feature_extraction.text import TfidfVectorizer, CountVectorizer\n",
    "from sklearn import metrics\n",
    "import joblib\n",
    "from scipy import sparse\n",
    "from sklearn.ensemble import RandomForestRegressor\n",
    "from sklearn import ensemble\n",
    "from sklearn.model_selection import GridSearchCV\n",
    "import xgboost as xgb\n",
    "from sklearn import model_selection\n",
    "from sklearn.model_selection import cross_val_score,cross_validate, KFold\n",
    "from sklearn.metrics import mean_squared_error \n",
    "from sklearn.metrics import mean_absolute_error\n",
    "from sklearn.metrics import r2_score"
   ]
  },
  {
   "cell_type": "code",
   "execution_count": 2,
   "id": "0f7b97f5",
   "metadata": {},
   "outputs": [],
   "source": [
    "# load data \n",
    "dataframe = pd.read_csv(r'C:\\Users\\dawns\\Desktop\\Master thesis\\data\\Features_level.csv')\n",
    "#data=dataframe[['CONTENT_NEW','','SCORE']].copy()\n",
    "df_data=dataframe[['CONTENT_NEW','WORDCUT','SCORE','LEVEL','Tokens','level1_tokens','level2_tokens','level3_tokens','level4_tokens','level5_tokens','level6_tokens','level7_tokens','char_num','high_level','primary_level','Connective_ratio','connective_SCORE','pre','connective_numbers']].copy()\n",
    "df_data.head()\n",
    "\n",
    "# Generating 'y' for classification as well as regression\n",
    "y = df_data['SCORE']\n",
    "#y\n",
    "\n",
    "# generating x \n",
    "pre = df_data['pre']"
   ]
  },
  {
   "cell_type": "code",
   "execution_count": 3,
   "id": "511e2e6b",
   "metadata": {},
   "outputs": [],
   "source": [
    "# load your model\n",
    "ngram_vector = joblib.load('ngram_vector.pkl') "
   ]
  },
  {
   "cell_type": "code",
   "execution_count": 4,
   "id": "d6738597",
   "metadata": {},
   "outputs": [],
   "source": [
    "feature_set2 = ngram_vector"
   ]
  },
  {
   "cell_type": "code",
   "execution_count": 5,
   "id": "4c2ddf2b",
   "metadata": {},
   "outputs": [
    {
     "name": "stdout",
     "output_type": "stream",
     "text": [
      "(2934, 1000)\n",
      "(2934,)\n"
     ]
    }
   ],
   "source": [
    "# 划分训练集 ，测试集 train_test split\n",
    "x_train, x_test, y_train, y_test = train_test_split(feature_set2, y, test_size=0.2)\n",
    "print(x_train.shape)\n",
    "print(y_train.shape)\n"
   ]
  },
  {
   "cell_type": "code",
   "execution_count": 6,
   "id": "b2e87b6a",
   "metadata": {},
   "outputs": [
    {
     "name": "stdout",
     "output_type": "stream",
     "text": [
      "neg_mean_absolute_error: 7.9568731615484065\n",
      "neg_mean_squared_error: 100.82679522010855\n",
      "r2: 0.24277222182076474\n"
     ]
    }
   ],
   "source": [
    "# linear regression 线性回归\n",
    "from sklearn.linear_model import LinearRegression\n",
    "linear_regressor = LinearRegression()\n",
    "linear_regressor.fit(x_train, y_train)\n",
    "y_pred = linear_regressor.predict(x_test)\n",
    "r2 = r2_score(y_test,y_pred)\n",
    "neg_mean_absolute_error = mean_absolute_error(y_test,y_pred)\n",
    "neg_mean_squared_error = mean_squared_error(y_test,y_pred)\n",
    "print('neg_mean_absolute_error:',neg_mean_absolute_error)\n",
    "print('neg_mean_squared_error:',neg_mean_squared_error)\n",
    "print('r2:',r2)"
   ]
  },
  {
   "cell_type": "code",
   "execution_count": 7,
   "id": "5dc75f6d",
   "metadata": {},
   "outputs": [
    {
     "name": "stdout",
     "output_type": "stream",
     "text": [
      "[array([ 0.04727751,  0.22055785,  0.24767033, -0.06170641,  0.16501311,\n",
      "        0.05140916,  0.05939736,  0.01199606,  0.1541229 , -0.02603074])]\n",
      "0.08697071332685952\n"
     ]
    }
   ],
   "source": [
    "# 交叉验证 cross validation linear\n",
    "cv_scores =[]\n",
    "scores = cross_val_score(linear_regressor,x_train,y_train,cv=10,scoring='r2')\n",
    "cv_scores.append(scores)\n",
    "print(cv_scores)\n",
    "print(scores.mean())"
   ]
  },
  {
   "cell_type": "code",
   "execution_count": 8,
   "id": "87bfa02d",
   "metadata": {},
   "outputs": [
    {
     "name": "stdout",
     "output_type": "stream",
     "text": [
      "r2: 0.3344740590134736\n",
      "mean_squared_error: 88.61646349909174\n",
      "mean_absolute_error: 7.476505449591281\n"
     ]
    }
   ],
   "source": [
    "\n",
    "# 随机森林 random forest\n",
    "\n",
    "rf = ensemble.RandomForestRegressor()\n",
    "params = {'n_estimators': [100], 'max_depth':[100], 'max_features':[10]}\n",
    "rf.fit(x_train, y_train)\n",
    "y_pred = rf.predict(x_test)\n",
    "print('r2:',r2_score(y_test,y_pred))\n",
    "print('mean_squared_error:',mean_squared_error(y_test,y_pred))\n",
    "print('mean_absolute_error:',mean_absolute_error(y_test,y_pred))"
   ]
  },
  {
   "cell_type": "code",
   "execution_count": 9,
   "id": "0fcd263c",
   "metadata": {},
   "outputs": [
    {
     "name": "stdout",
     "output_type": "stream",
     "text": [
      "[array([0.2971366 , 0.29938175, 0.30071637, 0.33634757, 0.34382737,\n",
      "       0.28159808, 0.32035894, 0.28489681, 0.31750289, 0.28245211])]\n",
      "0.3064218487228514\n"
     ]
    }
   ],
   "source": [
    "# randomforest regressor\n",
    "cv_scores =[]\n",
    "scores = cross_val_score(rf,x_train,y_train,cv=10,scoring='r2')\n",
    "cv_scores.append(scores)\n",
    "print(cv_scores)\n",
    "print(scores.mean())"
   ]
  },
  {
   "cell_type": "code",
   "execution_count": 10,
   "id": "6f529097",
   "metadata": {},
   "outputs": [
    {
     "name": "stdout",
     "output_type": "stream",
     "text": [
      "R2: 0.3382893504518767\n",
      "mean_squared_error: 88.1084477875051\n",
      "mean_absolute_error: 7.45931051082767\n"
     ]
    }
   ],
   "source": [
    "#xgboost  xgboost处理回归\n",
    "model = xgb.XGBRegressor()\n",
    "params = {'n_estimators': [160], 'learning_rate': [0.1]}\n",
    "model.fit(x_train, y_train)\n",
    "y_pred = model.predict(x_test)\n",
    "print('R2:',r2_score(y_test,y_pred))\n",
    "print('mean_squared_error:',mean_squared_error(y_test,y_pred))\n",
    "print('mean_absolute_error:',mean_absolute_error(y_test,y_pred))"
   ]
  },
  {
   "cell_type": "code",
   "execution_count": 11,
   "id": "d811d40f",
   "metadata": {},
   "outputs": [
    {
     "name": "stdout",
     "output_type": "stream",
     "text": [
      "[array([0.24066173, 0.25806655, 0.28470676, 0.27834026, 0.283613  ,\n",
      "       0.20927234, 0.3088947 , 0.28543814, 0.26874066, 0.2496645 ])]\n",
      "0.26673986391409077\n"
     ]
    }
   ],
   "source": [
    "#xgboost\n",
    "cv_scores =[]\n",
    "scores = cross_val_score(model,x_train,y_train,cv=10,scoring='r2')\n",
    "cv_scores.append(scores)\n",
    "print(cv_scores)\n",
    "print(scores.mean())"
   ]
  },
  {
   "cell_type": "code",
   "execution_count": null,
   "id": "a218fe2c",
   "metadata": {},
   "outputs": [],
   "source": []
  },
  {
   "cell_type": "code",
   "execution_count": null,
   "id": "6ff88688",
   "metadata": {},
   "outputs": [],
   "source": []
  }
 ],
 "metadata": {
  "kernelspec": {
   "display_name": "Python 3 (ipykernel)",
   "language": "python",
   "name": "python3"
  },
  "language_info": {
   "codemirror_mode": {
    "name": "ipython",
    "version": 3
   },
   "file_extension": ".py",
   "mimetype": "text/x-python",
   "name": "python",
   "nbconvert_exporter": "python",
   "pygments_lexer": "ipython3",
   "version": "3.9.7"
  }
 },
 "nbformat": 4,
 "nbformat_minor": 5
}
