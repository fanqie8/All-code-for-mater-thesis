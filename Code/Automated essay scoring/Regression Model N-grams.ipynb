{
 "cells": [
  {
   "cell_type": "code",
   "execution_count": 1,
   "id": "83f311f7",
   "metadata": {},
   "outputs": [],
   "source": [
    "import pandas as pd\n",
    "import numpy as np\n",
    "import matplotlib.pyplot as plt\n",
    "import re\n",
    "import jieba\n",
    "from sklearn.model_selection import train_test_split\n",
    "from sklearn.feature_extraction.text import TfidfVectorizer, CountVectorizer\n",
    "from sklearn import metrics\n",
    "import joblib\n",
    "from scipy import sparse\n",
    "from sklearn.ensemble import RandomForestRegressor\n",
    "from sklearn import ensemble\n",
    "from sklearn.model_selection import GridSearchCV\n",
    "import xgboost as xgb\n",
    "from sklearn import model_selection\n",
    "from sklearn.model_selection import cross_val_score,cross_validate, KFold\n",
    "from sklearn.metrics import mean_squared_error \n",
    "from sklearn.metrics import mean_absolute_error\n",
    "from sklearn.metrics import r2_score\n",
    "from sklearn.metrics import roc_curve, auc, classification_report,accuracy_score,precision_score,f1_score,recall_score,cohen_kappa_score,multilabel_confusion_matrix,make_scorer"
   ]
  },
  {
   "cell_type": "code",
   "execution_count": 2,
   "id": "b7a4b250",
   "metadata": {},
   "outputs": [],
   "source": [
    "# load data \n",
    "dataframe = pd.read_csv(r'C:\\Users\\dawns\\Desktop\\Master thesis\\data\\Features_level.csv')\n",
    "#data=dataframe[['CONTENT_NEW','','SCORE']].copy()\n",
    "df_data=dataframe[['CONTENT_NEW','WORDCUT','SCORE','LEVEL','Tokens','level1_tokens','level2_tokens','level3_tokens','level4_tokens','level5_tokens','level6_tokens','level7_tokens','char_num','high_level','primary_level','Connective_ratio','connective_SCORE','pre','connective_numbers']].copy()\n",
    "df_data.head()\n",
    "\n",
    "# Generating 'y' for classification as well as regression\n",
    "y = df_data['SCORE']\n",
    "#y\n",
    "\n",
    "# generating x \n",
    "pre = df_data['pre']\n"
   ]
  },
  {
   "cell_type": "code",
   "execution_count": 3,
   "id": "84142651",
   "metadata": {},
   "outputs": [
    {
     "name": "stdout",
     "output_type": "stream",
     "text": [
      "(3668,)\n",
      "(3668, 1000)\n"
     ]
    }
   ],
   "source": [
    "#ngrams Vectorizer\n",
    "print(pre.shape)\n",
    "cv = CountVectorizer(ngram_range=(1, 3), max_features=1000)\n",
    "ngram_vector = cv.fit_transform(pre)\n",
    "print(ngram_vector.shape)\n",
    "\n",
    "\n"
   ]
  },
  {
   "cell_type": "code",
   "execution_count": null,
   "id": "bd5ccd5d",
   "metadata": {},
   "outputs": [],
   "source": []
  },
  {
   "cell_type": "code",
   "execution_count": 4,
   "id": "6bf6b45a",
   "metadata": {},
   "outputs": [
    {
     "name": "stdout",
     "output_type": "stream",
     "text": [
      "<class 'scipy.sparse._csr.csr_matrix'>\n"
     ]
    }
   ],
   "source": [
    "#保存ngrams特征 save ngrams features\n",
    "print(type(ngram_vector))\n",
    "\n",
    "# save your model in disk\n",
    "joblib.dump(ngram_vector, 'ngram_vector.pkl') \n",
    "\n",
    "# load your model\n",
    "ngram_vector = joblib.load('ngram_vector.pkl') "
   ]
  },
  {
   "cell_type": "code",
   "execution_count": 5,
   "id": "0ce36187",
   "metadata": {},
   "outputs": [
    {
     "name": "stdout",
     "output_type": "stream",
     "text": [
      "(3668, 1)\n",
      "(3668, 1000)\n",
      "=============\n",
      "(3668, 1001)\n"
     ]
    }
   ],
   "source": [
    "# 特征合并 feature concatenate \n",
    "feature_set1 = df_data[['connective_SCORE',]]\n",
    "feature_set2 = ngram_vector\n",
    "print(feature_set1.shape)\n",
    "print(feature_set2.shape)\n",
    "train_features = sparse.hstack((feature_set2, feature_set1))\n",
    "print('=============')\n",
    "print(train_features.shape)\n"
   ]
  },
  {
   "cell_type": "code",
   "execution_count": 6,
   "id": "03082609",
   "metadata": {},
   "outputs": [
    {
     "name": "stdout",
     "output_type": "stream",
     "text": [
      "(2934, 1001)\n",
      "(2934,)\n"
     ]
    }
   ],
   "source": [
    "# 划分训练集 ，测试集 train_test split\n",
    "x_train, x_test, y_train, y_test = train_test_split(train_features, y, test_size=0.2)\n",
    "print(x_train.shape)\n",
    "print(y_train.shape)\n"
   ]
  },
  {
   "cell_type": "code",
   "execution_count": 7,
   "id": "85cd94fb",
   "metadata": {},
   "outputs": [
    {
     "name": "stdout",
     "output_type": "stream",
     "text": [
      "neg_mean_absolute_error: 8.003773964009833\n",
      "neg_mean_squared_error: 104.232860841904\n",
      "r2: 0.1782694578227767\n"
     ]
    }
   ],
   "source": [
    "# linear regression 线性回归\n",
    "from sklearn.linear_model import LinearRegression\n",
    "linear_regressor = LinearRegression()\n",
    "linear_regressor.fit(x_train, y_train)\n",
    "y_pred = linear_regressor.predict(x_test)\n",
    "r2 = r2_score(y_test,y_pred)\n",
    "neg_mean_absolute_error = mean_absolute_error(y_test,y_pred)\n",
    "neg_mean_squared_error = mean_squared_error(y_test,y_pred)\n",
    "print('neg_mean_absolute_error:',neg_mean_absolute_error)\n",
    "print('neg_mean_squared_error:',neg_mean_squared_error)\n",
    "print('r2:',r2)"
   ]
  },
  {
   "cell_type": "code",
   "execution_count": 8,
   "id": "ef706872",
   "metadata": {},
   "outputs": [
    {
     "name": "stdout",
     "output_type": "stream",
     "text": [
      "0    48.210641\n",
      "dtype: float64\n",
      "0    119.867285\n",
      "dtype: float64\n"
     ]
    }
   ],
   "source": [
    "df= pd.DataFrame(y_pred)\n",
    "print(df.min())\n",
    "print(df.max())"
   ]
  },
  {
   "cell_type": "code",
   "execution_count": 9,
   "id": "2ba9a087",
   "metadata": {},
   "outputs": [
    {
     "name": "stdout",
     "output_type": "stream",
     "text": [
      "0    48.210641\n",
      "dtype: float64\n",
      "0    119.867285\n",
      "dtype: float64\n"
     ]
    }
   ],
   "source": [
    "df= pd.DataFrame(y_pred)\n",
    "print(df.min())\n",
    "print(df.max())\n",
    "df[(df >= 95)]=95\n",
    "df[(df >= 90) & (df <95)]=90\n",
    "df[(df >= 85) & (df < 90)]=85\n",
    "df[(df >= 80) & (df < 85)]=80\n",
    "df[(df >= 75) & (df < 80)]=75\n",
    "df[(df >= 70) & (df < 75)]=70\n",
    "df[(df >= 65) & (df < 70)]=65\n",
    "df[(df >= 60) & (df < 65)]=60\n",
    "df[(df >= 55) & (df < 60)]=55\n",
    "df[(df >= 50) & (df < 55)]=50\n",
    "df[(df >= 45) & (df < 50)]=45\n",
    "df[ (df < 45)]=40\n"
   ]
  },
  {
   "cell_type": "code",
   "execution_count": 10,
   "id": "1c506ec2",
   "metadata": {},
   "outputs": [
    {
     "data": {
      "text/plain": [
       "array([60., 80., 75., 70., 70., 65., 60., 70., 70., 85., 65., 60., 60.,\n",
       "       60., 70., 70., 75., 70., 65., 80., 65., 85., 90., 75., 70., 70.,\n",
       "       65., 70., 90., 70., 75., 60., 75., 65., 55., 75., 60., 65., 70.,\n",
       "       65., 80., 85., 70., 80., 75., 60., 55., 60., 65., 55., 80., 70.,\n",
       "       60., 85., 65., 80., 85., 90., 80., 55., 50., 55., 75., 90., 95.,\n",
       "       60., 60., 90., 70., 75., 65., 70., 65., 70., 70., 55., 60., 70.,\n",
       "       75., 75., 55., 70., 60., 60., 80., 75., 55., 85., 70., 70., 60.,\n",
       "       60., 80., 65., 90., 65., 65., 60., 70., 70., 60., 70., 75., 75.,\n",
       "       80., 60., 70., 60., 60., 70., 60., 75., 70., 55., 50., 60., 50.,\n",
       "       65., 60., 60., 75., 60., 70., 60., 50., 70., 60., 55., 75., 65.,\n",
       "       70., 75., 70., 75., 85., 75., 50., 60., 65., 75., 65., 65., 65.,\n",
       "       65., 70., 70., 65., 70., 50., 65., 75., 55., 60., 65., 60., 85.,\n",
       "       55., 70., 50., 70., 65., 70., 75., 70., 55., 60., 75., 70., 65.,\n",
       "       80., 60., 80., 55., 80., 65., 75., 65., 60., 65., 80., 75., 75.,\n",
       "       65., 65., 65., 80., 75., 70., 80., 65., 70., 60., 65., 60., 65.,\n",
       "       55., 70., 75., 65., 60., 60., 75., 75., 60., 60., 60., 65., 55.,\n",
       "       60., 75., 80., 75., 85., 65., 70., 80., 60., 75., 70., 60., 75.,\n",
       "       85., 65., 85., 65., 75., 80., 85., 55., 75., 90., 65., 75., 55.,\n",
       "       75., 85., 65., 75., 75., 65., 80., 50., 80., 70., 60., 65., 70.,\n",
       "       65., 75., 60., 65., 75., 60., 65., 60., 80., 60., 60., 75., 75.,\n",
       "       65., 65., 75., 65., 85., 55., 80., 75., 75., 60., 50., 65., 70.,\n",
       "       85., 75., 50., 80., 80., 75., 70., 60., 75., 45., 95., 85., 90.,\n",
       "       55., 65., 85., 70., 75., 70., 65., 70., 65., 50., 55., 70., 65.,\n",
       "       75., 55., 70., 55., 55., 75., 55., 75., 50., 65., 70., 80., 70.,\n",
       "       75., 75., 60., 75., 65., 75., 70., 55., 85., 60., 65., 75., 60.,\n",
       "       70., 60., 75., 55., 60., 80., 85., 50., 85., 75., 75., 65., 70.,\n",
       "       85., 65., 80., 55., 70., 75., 45., 70., 55., 95., 70., 65., 55.,\n",
       "       65., 55., 65., 55., 75., 60., 65., 65., 45., 70., 70., 70., 70.,\n",
       "       70., 65., 70., 75., 65., 85., 70., 70., 75., 80., 70., 70., 75.,\n",
       "       75., 70., 75., 80., 75., 60., 55., 60., 65., 65., 60., 70., 60.,\n",
       "       85., 60., 75., 60., 65., 65., 65., 85., 75., 70., 70., 75., 80.,\n",
       "       70., 95., 75., 65., 65., 65., 70., 75., 60., 55., 80., 50., 60.,\n",
       "       55., 60., 65., 80., 80., 75., 70., 95., 65., 55., 65., 70., 50.,\n",
       "       70., 70., 70., 70., 85., 60., 65., 65., 65., 60., 65., 55., 80.,\n",
       "       65., 85., 50., 65., 85., 75., 65., 90., 65., 60., 70., 55., 70.,\n",
       "       55., 55., 60., 65., 65., 75., 90., 70., 60., 70., 60., 70., 65.,\n",
       "       70., 65., 65., 80., 90., 70., 75., 80., 85., 75., 70., 65., 55.,\n",
       "       70., 75., 85., 75., 85., 65., 70., 75., 95., 60., 70., 65., 70.,\n",
       "       70., 65., 65., 60., 95., 50., 60., 95., 65., 65., 65., 60., 80.,\n",
       "       95., 60., 65., 60., 60., 75., 75., 65., 65., 65., 65., 65., 65.,\n",
       "       60., 95., 70., 60., 65., 90., 50., 90., 85., 60., 75., 70., 65.,\n",
       "       60., 65., 55., 70., 65., 55., 55., 75., 85., 90., 70., 70., 70.,\n",
       "       50., 70., 60., 75., 75., 60., 70., 60., 70., 80., 65., 60., 80.,\n",
       "       80., 65., 60., 75., 65., 70., 70., 80., 70., 70., 70., 70., 75.,\n",
       "       70., 60., 55., 60., 75., 55., 55., 65., 75., 65., 75., 60., 75.,\n",
       "       65., 70., 95., 75., 65., 65., 65., 60., 75., 70., 65., 80., 65.,\n",
       "       75., 60., 75., 80., 65., 65., 80., 55., 60., 70., 70., 70., 85.,\n",
       "       85., 65., 80., 65., 75., 75., 60., 80., 60., 70., 50., 75., 60.,\n",
       "       85., 65., 85., 55., 55., 70., 80., 90., 60., 55., 80., 65., 60.,\n",
       "       70., 75., 65., 80., 60., 85., 80., 80., 70., 55., 60., 75., 60.,\n",
       "       60., 65., 80., 65., 70., 75., 70., 65., 70., 70., 75., 70., 65.,\n",
       "       95., 80., 65., 85., 65., 60., 60., 75., 70., 65., 55., 65., 95.,\n",
       "       65., 75., 70., 80., 70., 65., 65., 70., 60., 75., 75., 70., 75.,\n",
       "       80., 65., 70., 65., 85., 70., 65., 65., 80., 60., 70., 70., 75.,\n",
       "       80., 55., 55., 80., 65., 65., 75., 80., 75., 70., 75., 65., 65.,\n",
       "       55., 55., 75., 75., 80., 95., 65., 60., 65., 85., 65., 65., 65.,\n",
       "       70., 65., 55., 70., 65., 85.])"
      ]
     },
     "execution_count": 10,
     "metadata": {},
     "output_type": "execute_result"
    }
   ],
   "source": [
    "y_pred"
   ]
  },
  {
   "cell_type": "code",
   "execution_count": 11,
   "id": "cb33abf6",
   "metadata": {},
   "outputs": [
    {
     "name": "stdout",
     "output_type": "stream",
     "text": [
      "qwkappa:\n",
      " 0.521325957952848\n"
     ]
    }
   ],
   "source": [
    "qwkappa = cohen_kappa_score(y_test,y_pred,weights='quadratic')\n",
    "print(\"qwkappa:\\n\",qwkappa)"
   ]
  },
  {
   "cell_type": "code",
   "execution_count": 42,
   "id": "4e45f428",
   "metadata": {},
   "outputs": [
    {
     "name": "stdout",
     "output_type": "stream",
     "text": [
      "[array([ 0.14358933,  0.1093418 ,  0.20649301,  0.10630298,  0.2310016 ,\n",
      "        0.0067015 ,  0.13485366, -0.02066288,  0.20402745,  0.09947789])]\n",
      "0.12211263463382278\n"
     ]
    }
   ],
   "source": [
    "# 交叉验证 cross validation linear\n",
    "cv_scores =[]\n",
    "scores = cross_val_score(linear_regressor,x_train,y_train,cv=10,scoring='r2')\n",
    "cv_scores.append(scores)\n",
    "print(cv_scores)\n",
    "print(scores.mean())\n"
   ]
  },
  {
   "cell_type": "code",
   "execution_count": 12,
   "id": "67208408",
   "metadata": {},
   "outputs": [
    {
     "name": "stdout",
     "output_type": "stream",
     "text": [
      "r2: 0.34573556017957596\n",
      "mean_squared_error: 82.99053133514985\n",
      "mean_absolute_error: 7.071798365122614\n"
     ]
    }
   ],
   "source": [
    "\n",
    "# 随机森林 random forest\n",
    "\n",
    "rf = ensemble.RandomForestRegressor()\n",
    "params = {'n_estimators': [100], 'max_depth':[100], 'max_features':[10]}\n",
    "rf.fit(x_train, y_train)\n",
    "y_pred = rf.predict(x_test)\n",
    "print('r2:',r2_score(y_test,y_pred))\n",
    "print('mean_squared_error:',mean_squared_error(y_test,y_pred))\n",
    "print('mean_absolute_error:',mean_absolute_error(y_test,y_pred))\n"
   ]
  },
  {
   "cell_type": "code",
   "execution_count": 13,
   "id": "7b6a09a9",
   "metadata": {},
   "outputs": [
    {
     "name": "stdout",
     "output_type": "stream",
     "text": [
      "0    50.1\n",
      "dtype: float64\n",
      "0    88.15\n",
      "dtype: float64\n",
      "qwkappa:\n",
      " 0.4762137775850117\n"
     ]
    }
   ],
   "source": [
    "df= pd.DataFrame(y_pred)\n",
    "print(df.min())\n",
    "print(df.max())\n",
    "df[(df >= 95)]=95\n",
    "df[(df >= 90) & (df <95)]=90\n",
    "df[(df >= 85) & (df < 90)]=85\n",
    "df[(df >= 80) & (df < 85)]=80\n",
    "df[(df >= 75) & (df < 80)]=75\n",
    "df[(df >= 70) & (df < 75)]=70\n",
    "df[(df >= 65) & (df < 70)]=65\n",
    "df[(df >= 60) & (df < 65)]=60\n",
    "df[(df >= 55) & (df < 60)]=55\n",
    "df[(df >= 50) & (df < 55)]=50\n",
    "df[(df >= 45) & (df < 50)]=45\n",
    "df[ (df < 45)]=40\n",
    "qwkappa = cohen_kappa_score(y_test,y_pred,weights='quadratic')\n",
    "print(\"qwkappa:\\n\",qwkappa)\n"
   ]
  },
  {
   "cell_type": "code",
   "execution_count": 43,
   "id": "507ae2fc",
   "metadata": {},
   "outputs": [
    {
     "name": "stdout",
     "output_type": "stream",
     "text": [
      "[array([0.34288368, 0.37797672, 0.33201683, 0.32030635, 0.39741044,\n",
      "       0.30673296, 0.37009986, 0.359065  , 0.39029593, 0.32710491])]\n",
      "0.3523892687262017\n"
     ]
    }
   ],
   "source": [
    "# randomforest regressor\n",
    "cv_scores =[]\n",
    "scores = cross_val_score(rf,x_train,y_train,cv=10,scoring='r2')\n",
    "cv_scores.append(scores)\n",
    "print(cv_scores)\n",
    "print(scores.mean())"
   ]
  },
  {
   "cell_type": "code",
   "execution_count": 14,
   "id": "1be8e5c2",
   "metadata": {},
   "outputs": [
    {
     "name": "stdout",
     "output_type": "stream",
     "text": [
      "R2: 0.3180124044019982\n",
      "mean_squared_error: 86.50709021904672\n",
      "mean_absolute_error: 7.203212291083479\n"
     ]
    }
   ],
   "source": [
    "#xgboost  xgboost处理回归\n",
    "model = xgb.XGBRegressor()\n",
    "params = {'n_estimators': [160], 'learning_rate': [0.1]}\n",
    "model.fit(x_train, y_train)\n",
    "y_pred = model.predict(x_test)\n",
    "print('R2:',r2_score(y_test,y_pred))\n",
    "print('mean_squared_error:',mean_squared_error(y_test,y_pred))\n",
    "print('mean_absolute_error:',mean_absolute_error(y_test,y_pred))\n"
   ]
  },
  {
   "cell_type": "code",
   "execution_count": 15,
   "id": "691e315c",
   "metadata": {},
   "outputs": [
    {
     "name": "stdout",
     "output_type": "stream",
     "text": [
      "0    42.975655\n",
      "dtype: float32\n",
      "0    93.980515\n",
      "dtype: float32\n",
      "qwkappa:\n",
      " 0.5043740870850772\n"
     ]
    }
   ],
   "source": [
    "df= pd.DataFrame(y_pred)\n",
    "print(df.min())\n",
    "print(df.max())\n",
    "df[(df >= 95)]=95\n",
    "df[(df >= 90) & (df <95)]=90\n",
    "df[(df >= 85) & (df < 90)]=85\n",
    "df[(df >= 80) & (df < 85)]=80\n",
    "df[(df >= 75) & (df < 80)]=75\n",
    "df[(df >= 70) & (df < 75)]=70\n",
    "df[(df >= 65) & (df < 70)]=65\n",
    "df[(df >= 60) & (df < 65)]=60\n",
    "df[(df >= 55) & (df < 60)]=55\n",
    "df[(df >= 50) & (df < 55)]=50\n",
    "df[(df >= 45) & (df < 50)]=45\n",
    "df[ (df < 45)]=40\n",
    "qwkappa = cohen_kappa_score(y_test,y_pred,weights='quadratic')\n",
    "print(\"qwkappa:\\n\",qwkappa)"
   ]
  },
  {
   "cell_type": "code",
   "execution_count": 18,
   "id": "79ddec0a",
   "metadata": {
    "scrolled": true
   },
   "outputs": [
    {
     "name": "stdout",
     "output_type": "stream",
     "text": [
      "(734,)\n",
      "<class 'numpy.ndarray'>\n",
      "(734,)\n",
      "3661    65\n",
      "578     90\n",
      "629     85\n",
      "473     90\n",
      "857     70\n",
      "        ..\n",
      "1670    70\n",
      "2023    60\n",
      "1676    75\n",
      "89      85\n",
      "2963    70\n",
      "Name: SCORE, Length: 734, dtype: int64\n"
     ]
    }
   ],
   "source": [
    "print(y_pred.shape)\n",
    "print(type(y_pred))\n",
    "print(y_test.shape)\n",
    "print(y_test)"
   ]
  },
  {
   "cell_type": "code",
   "execution_count": 44,
   "id": "555c611f",
   "metadata": {},
   "outputs": [
    {
     "name": "stdout",
     "output_type": "stream",
     "text": [
      "[array([0.334737  , 0.37429865, 0.28518211, 0.26621921, 0.36092308,\n",
      "       0.29057575, 0.34972406, 0.29749909, 0.338318  , 0.26185855])]\n",
      "0.3159335493712757\n"
     ]
    }
   ],
   "source": [
    "#xgboost\n",
    "cv_scores =[]\n",
    "scores = cross_val_score(model,x_train,y_train,cv=10,scoring='r2')\n",
    "cv_scores.append(scores)\n",
    "print(cv_scores)\n",
    "print(scores.mean())"
   ]
  },
  {
   "cell_type": "code",
   "execution_count": 44,
   "id": "61fb38fa",
   "metadata": {},
   "outputs": [
    {
     "data": {
      "text/html": [
       "<div>\n",
       "<style scoped>\n",
       "    .dataframe tbody tr th:only-of-type {\n",
       "        vertical-align: middle;\n",
       "    }\n",
       "\n",
       "    .dataframe tbody tr th {\n",
       "        vertical-align: top;\n",
       "    }\n",
       "\n",
       "    .dataframe thead th {\n",
       "        text-align: right;\n",
       "    }\n",
       "</style>\n",
       "<table border=\"1\" class=\"dataframe\">\n",
       "  <thead>\n",
       "    <tr style=\"text-align: right;\">\n",
       "      <th></th>\n",
       "      <th>0</th>\n",
       "      <th>result</th>\n",
       "    </tr>\n",
       "  </thead>\n",
       "  <tbody>\n",
       "    <tr>\n",
       "      <th>0</th>\n",
       "      <td>71.429034</td>\n",
       "      <td>71.429034</td>\n",
       "    </tr>\n",
       "    <tr>\n",
       "      <th>1</th>\n",
       "      <td>71.372675</td>\n",
       "      <td>71.372675</td>\n",
       "    </tr>\n",
       "    <tr>\n",
       "      <th>2</th>\n",
       "      <td>65.495903</td>\n",
       "      <td>65.495903</td>\n",
       "    </tr>\n",
       "    <tr>\n",
       "      <th>3</th>\n",
       "      <td>83.370579</td>\n",
       "      <td>83.370579</td>\n",
       "    </tr>\n",
       "    <tr>\n",
       "      <th>4</th>\n",
       "      <td>82.374619</td>\n",
       "      <td>82.374619</td>\n",
       "    </tr>\n",
       "    <tr>\n",
       "      <th>...</th>\n",
       "      <td>...</td>\n",
       "      <td>...</td>\n",
       "    </tr>\n",
       "    <tr>\n",
       "      <th>729</th>\n",
       "      <td>65.205320</td>\n",
       "      <td>65.205320</td>\n",
       "    </tr>\n",
       "    <tr>\n",
       "      <th>730</th>\n",
       "      <td>60.930959</td>\n",
       "      <td>60.930959</td>\n",
       "    </tr>\n",
       "    <tr>\n",
       "      <th>731</th>\n",
       "      <td>65.985023</td>\n",
       "      <td>65.985023</td>\n",
       "    </tr>\n",
       "    <tr>\n",
       "      <th>732</th>\n",
       "      <td>79.202493</td>\n",
       "      <td>79.202493</td>\n",
       "    </tr>\n",
       "    <tr>\n",
       "      <th>733</th>\n",
       "      <td>67.427521</td>\n",
       "      <td>67.427521</td>\n",
       "    </tr>\n",
       "  </tbody>\n",
       "</table>\n",
       "<p>734 rows × 2 columns</p>\n",
       "</div>"
      ],
      "text/plain": [
       "             0     result\n",
       "0    71.429034  71.429034\n",
       "1    71.372675  71.372675\n",
       "2    65.495903  65.495903\n",
       "3    83.370579  83.370579\n",
       "4    82.374619  82.374619\n",
       "..         ...        ...\n",
       "729  65.205320  65.205320\n",
       "730  60.930959  60.930959\n",
       "731  65.985023  65.985023\n",
       "732  79.202493  79.202493\n",
       "733  67.427521  67.427521\n",
       "\n",
       "[734 rows x 2 columns]"
      ]
     },
     "execution_count": 44,
     "metadata": {},
     "output_type": "execute_result"
    }
   ],
   "source": [
    "\n",
    "df= pd.DataFrame(y_pred)\n",
    "df\n"
   ]
  }
 ],
 "metadata": {
  "kernelspec": {
   "display_name": "Python 3.9.7 ('base')",
   "language": "python",
   "name": "python3"
  },
  "language_info": {
   "codemirror_mode": {
    "name": "ipython",
    "version": 3
   },
   "file_extension": ".py",
   "mimetype": "text/x-python",
   "name": "python",
   "nbconvert_exporter": "python",
   "pygments_lexer": "ipython3",
   "version": "3.9.7 (default, Sep 16 2021, 16:59:28) [MSC v.1916 64 bit (AMD64)]"
  },
  "vscode": {
   "interpreter": {
    "hash": "5179d32cf6ec497baf3f8a3ef987cc77c5d2dc691fdde20a56316522f61a7323"
   }
  }
 },
 "nbformat": 4,
 "nbformat_minor": 5
}
