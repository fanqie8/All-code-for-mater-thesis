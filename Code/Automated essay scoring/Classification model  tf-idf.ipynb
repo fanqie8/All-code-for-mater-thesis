{
 "cells": [
  {
   "cell_type": "code",
   "execution_count": 1,
   "id": "b5c3129d",
   "metadata": {},
   "outputs": [],
   "source": [
    "import pandas as pd\n",
    "import numpy as np\n",
    "import matplotlib.pyplot as plt\n",
    "import re\n",
    "import jieba\n",
    "from sklearn.model_selection import train_test_split\n",
    "from sklearn.feature_extraction.text import TfidfVectorizer, CountVectorizer\n",
    "from sklearn.metrics import roc_curve, auc, classification_report,accuracy_score,precision_score,f1_score,recall_score,cohen_kappa_score,multilabel_confusion_matrix,make_scorer\n",
    "from sklearn.linear_model import LogisticRegression\n",
    "from sklearn import metrics\n",
    "from sklearn import metrics\n",
    "import joblib\n",
    "from scipy import sparse\n",
    "from sklearn import ensemble\n",
    "from sklearn.ensemble import RandomForestClassifier\n",
    "from sklearn.multiclass import OneVsRestClassifier\n",
    "from sklearn.preprocessing import MultiLabelBinarizer\n",
    "from sklearn.model_selection import GridSearchCV\n",
    "from sklearn import svm\n",
    "from sklearn.model_selection import cross_val_score,cross_validate"
   ]
  },
  {
   "cell_type": "code",
   "execution_count": 2,
   "id": "57b68f79",
   "metadata": {},
   "outputs": [],
   "source": [
    "# load data \n",
    "dataframe = pd.read_csv(r'C:\\Users\\dawns\\Desktop\\Master thesis\\data\\Features_level.csv')\n",
    "#data=dataframe[['CONTENT_NEW','','SCORE']].copy()\n",
    "df_data=dataframe[['CONTENT_NEW','WORDCUT','SCORE','LEVEL','Tokens','level1_tokens','level2_tokens','level3_tokens','level4_tokens','level5_tokens','level6_tokens','level7_tokens','char_num','high_level','primary_level','Connective_ratio','connective_SCORE','pre','connective_numbers']].copy()\n",
    "\n"
   ]
  },
  {
   "cell_type": "code",
   "execution_count": 3,
   "id": "926fb0cd",
   "metadata": {},
   "outputs": [],
   "source": [
    "# Generating 'y' for classification as well as regression\n",
    "y = df_data['SCORE']"
   ]
  },
  {
   "cell_type": "code",
   "execution_count": 4,
   "id": "4aac4b35",
   "metadata": {},
   "outputs": [],
   "source": [
    "\n",
    "# generating x \n",
    "pre = df_data['pre']\n",
    "# Tokenization\n",
    "def preprocessing_sentence(x):\n",
    "    words = jieba.cut(str(x).strip())\n",
    "    return ' '.join(words)"
   ]
  },
  {
   "cell_type": "code",
   "execution_count": 9,
   "id": "042c426d",
   "metadata": {},
   "outputs": [
    {
     "data": {
      "text/plain": [
       "(3668, 36035)"
      ]
     },
     "execution_count": 9,
     "metadata": {},
     "output_type": "execute_result"
    }
   ],
   "source": [
    "# load tf-idf vector\n",
    "vector = joblib.load(r'E:\\All codes\\Master code\\vector.pkl') \n",
    "vector.shape\n"
   ]
  },
  {
   "cell_type": "code",
   "execution_count": 10,
   "id": "04b653b9",
   "metadata": {},
   "outputs": [
    {
     "name": "stdout",
     "output_type": "stream",
     "text": [
      "(3668, 1)\n",
      "(3668, 36035)\n",
      "=============\n",
      "(3668, 36036)\n"
     ]
    }
   ],
   "source": [
    "# 特征合并 feature concatenate \n",
    "feature_set1 = df_data[['connective_SCORE',]]\n",
    "feature_set2 = vector\n",
    "print(feature_set1.shape)\n",
    "print(feature_set2.shape)\n",
    "train_features = sparse.hstack((feature_set2, feature_set1))\n",
    "print('=============')\n",
    "print(train_features.shape)"
   ]
  },
  {
   "cell_type": "code",
   "execution_count": 15,
   "id": "c68aac23",
   "metadata": {},
   "outputs": [
    {
     "name": "stdout",
     "output_type": "stream",
     "text": [
      "(2934, 36036)\n",
      "(2934,)\n"
     ]
    }
   ],
   "source": [
    "# 划分训练集 ，测试集 train_test split\n",
    "x_train, x_test, y_train, y_test = train_test_split(train_features, y, test_size=0.2)\n",
    "print(x_train.shape)\n",
    "print(y_train.shape)"
   ]
  },
  {
   "cell_type": "code",
   "execution_count": 8,
   "id": "2f1f9b6e",
   "metadata": {
    "scrolled": true
   },
   "outputs": [
    {
     "name": "stdout",
     "output_type": "stream",
     "text": [
      "Train Accuracy: 0.6820040899795501\n",
      "================================================\n",
      "Test Accuracy: 0.26294277929155313\n",
      "================================================\n",
      "acc_for_each_class:\n",
      " [0.         0.         0.         0.26666667 0.20588235 0.15584416\n",
      " 0.30971129 0.29411765 0.17241379 0.2        0.34375    0.        ]\n",
      "================================================\n",
      "qwkappa:\n",
      " 0.45158256339515324\n",
      "================================================\n",
      "Weighted precision 0.22986524794922333\n",
      "Weighted recall 0.26294277929155313\n",
      "Weighted f1-score 0.21206348550745635\n",
      "================================================\n",
      "classification report: \n",
      "               precision    recall  f1-score   support\n",
      "\n",
      "          40       0.00      0.00      0.00         5\n",
      "          45       0.00      0.00      0.00        10\n",
      "          50       0.00      0.00      0.00        23\n",
      "          55       0.27      0.08      0.12        52\n",
      "          60       0.21      0.30      0.25        69\n",
      "          65       0.16      0.13      0.14        89\n",
      "          70       0.31      0.73      0.44       161\n",
      "          75       0.29      0.10      0.14       105\n",
      "          80       0.17      0.14      0.15        72\n",
      "          85       0.20      0.09      0.13        77\n",
      "          90       0.34      0.21      0.26        53\n",
      "          95       0.00      0.00      0.00        18\n",
      "\n",
      "    accuracy                           0.26       734\n",
      "   macro avg       0.16      0.15      0.14       734\n",
      "weighted avg       0.23      0.26      0.21       734\n",
      "\n",
      "================================================\n",
      "[[  0   0   0   1   4   0   0   0   0   0   0   0]\n",
      " [  0   0   0   2   5   2   1   0   0   0   0   0]\n",
      " [  0   0   0   1  11   7   3   0   1   0   0   0]\n",
      " [  0   0   0   4  19   8  17   1   3   0   0   0]\n",
      " [  0   0   0   2  21  10  30   2   1   1   2   0]\n",
      " [  0   0   0   3   9  12  50   6   5   3   1   0]\n",
      " [  0   0   0   0  20   9 118   4   7   1   2   0]\n",
      " [  0   0   0   1   2  11  67  10   8   4   2   0]\n",
      " [  0   0   0   0   7   7  35   4  10   5   4   0]\n",
      " [  0   0   0   1   2   8  38   5   8   7   8   0]\n",
      " [  0   0   0   0   1   3  16   2  11   9  11   0]\n",
      " [  0   0   0   0   1   0   6   0   4   5   2   0]]\n"
     ]
    },
    {
     "name": "stderr",
     "output_type": "stream",
     "text": [
      "D:\\anaconda\\lib\\site-packages\\sklearn\\linear_model\\_logistic.py:444: ConvergenceWarning: lbfgs failed to converge (status=1):\n",
      "STOP: TOTAL NO. of ITERATIONS REACHED LIMIT.\n",
      "\n",
      "Increase the number of iterations (max_iter) or scale the data as shown in:\n",
      "    https://scikit-learn.org/stable/modules/preprocessing.html\n",
      "Please also refer to the documentation for alternative solver options:\n",
      "    https://scikit-learn.org/stable/modules/linear_model.html#logistic-regression\n",
      "  n_iter_i = _check_optimize_result(\n",
      "D:\\anaconda\\lib\\site-packages\\sklearn\\metrics\\_classification.py:1327: UndefinedMetricWarning: Precision is ill-defined and being set to 0.0 in labels with no predicted samples. Use `zero_division` parameter to control this behavior.\n",
      "  _warn_prf(average, modifier, msg_start, len(result))\n",
      "D:\\anaconda\\lib\\site-packages\\sklearn\\metrics\\_classification.py:1327: UndefinedMetricWarning: Precision is ill-defined and being set to 0.0 in labels with no predicted samples. Use `zero_division` parameter to control this behavior.\n",
      "  _warn_prf(average, modifier, msg_start, len(result))\n",
      "D:\\anaconda\\lib\\site-packages\\sklearn\\metrics\\_classification.py:1327: UndefinedMetricWarning: Precision and F-score are ill-defined and being set to 0.0 in labels with no predicted samples. Use `zero_division` parameter to control this behavior.\n",
      "  _warn_prf(average, modifier, msg_start, len(result))\n",
      "D:\\anaconda\\lib\\site-packages\\sklearn\\metrics\\_classification.py:1327: UndefinedMetricWarning: Precision and F-score are ill-defined and being set to 0.0 in labels with no predicted samples. Use `zero_division` parameter to control this behavior.\n",
      "  _warn_prf(average, modifier, msg_start, len(result))\n",
      "D:\\anaconda\\lib\\site-packages\\sklearn\\metrics\\_classification.py:1327: UndefinedMetricWarning: Precision and F-score are ill-defined and being set to 0.0 in labels with no predicted samples. Use `zero_division` parameter to control this behavior.\n",
      "  _warn_prf(average, modifier, msg_start, len(result))\n"
     ]
    }
   ],
   "source": [
    "#Tf-IDF + LR \n",
    "#评估\n",
    "# （准确率、精确度、召回率、F1值、Kappa系数用于评估分类任务）\n",
    "## 二分类问题，一般设为两类，正类/反类，或0、1. 所以有tp，fn，fp，tn。 t，f代表是否正确，p，n代表是正类还是反类\n",
    "## 准确率（accuracy）：所有分类正确的样本数，除以样本总数）A= （tp+tn）/（tp+tn+fp+fn）\n",
    "## 精确度（precision）精确度也叫查准率，判为正的为p，包括正确tp，和错误fp，其中tp即预测正确的比例 P= tp/tp+fp\n",
    "## 召回率（recall） ： 查全率，判断正确的且为正的是tp，判断错误且为负（该正却负的），想知道tp占实际正确的比例 r= tp/tp+fn\n",
    "## f1 越大越好，f1=2*tp/(2*tp+fp+fn)\n",
    "## kappa 衡量分类精度，其计算基于混淆矩阵，目前用的是二次加权kappa，对错误的惩罚更重，应用更广泛\n",
    "# 逻辑回归LR\n",
    "lr = LogisticRegression()\n",
    "lr.fit(x_train, y_train)\n",
    "train_score = lr.score(x_train, y_train)\n",
    "y_pred = lr.predict(x_test)\n",
    "print(\"Train Accuracy:\", train_score)\n",
    "print(\"================================================\")\n",
    "y_pred = lr.predict(x_test)\n",
    "test_score = accuracy_score(y_test, y_pred)\n",
    "print(\"Test Accuracy:\", test_score)\n",
    "print(\"================================================\")\n",
    "acc_for_each_class = metrics.precision_score(y_test,y_pred,average=None)\n",
    "print(\"acc_for_each_class:\\n\",acc_for_each_class)\n",
    "print(\"================================================\")\n",
    "qwkappa = cohen_kappa_score(y_test,y_pred,weights='quadratic')\n",
    "print(\"qwkappa:\\n\",qwkappa)\n",
    "print(\"================================================\")\n",
    "print('Weighted precision', precision_score(y_test, y_pred, average='weighted'))\n",
    "print('Weighted recall', recall_score(y_test, y_pred, average='weighted'))\n",
    "print('Weighted f1-score', f1_score(y_test, y_pred, average='weighted'))\n",
    "print(\"================================================\")\n",
    "classification_rep = classification_report(y_test,y_pred)\n",
    "print(\"classification report: \\n\",classification_rep)\n",
    "print(\"================================================\")\n",
    "confusion_mat = metrics.confusion_matrix(y_test, y_pred)\n",
    "print(confusion_mat)\n"
   ]
  },
  {
   "cell_type": "code",
   "execution_count": 9,
   "id": "3d8a0828",
   "metadata": {
    "scrolled": true
   },
   "outputs": [
    {
     "name": "stdout",
     "output_type": "stream",
     "text": [
      "Train Accuracy: 0.9993183367416496\n",
      "================================================\n",
      "Test Accuracy: 0.273841961852861\n",
      "================================================\n",
      "acc_for_each_class:\n",
      " [0.         0.         0.         0.1        0.2295082  0.18333333\n",
      " 0.28458498 0.35       0.26470588 0.33333333 0.33333333 1.        ]\n",
      "================================================\n",
      "qwkappa:\n",
      " 0.37285459554639744\n",
      "================================================\n",
      "Weighted precision 0.2729060911735205\n",
      "Weighted recall 0.273841961852861\n",
      "Weighted f1-score 0.1980556620529144\n",
      "================================================\n",
      "classification report: \n",
      "               precision    recall  f1-score   support\n",
      "\n",
      "          40       0.00      0.00      0.00         5\n",
      "          45       0.00      0.00      0.00        10\n",
      "          50       0.00      0.00      0.00        23\n",
      "          55       0.10      0.02      0.03        52\n",
      "          60       0.23      0.20      0.22        69\n",
      "          65       0.18      0.12      0.15        89\n",
      "          70       0.28      0.89      0.43       161\n",
      "          75       0.35      0.07      0.11       105\n",
      "          80       0.26      0.12      0.17        72\n",
      "          85       0.33      0.06      0.11        77\n",
      "          90       0.33      0.17      0.22        53\n",
      "          95       1.00      0.06      0.11        18\n",
      "\n",
      "    accuracy                           0.27       734\n",
      "   macro avg       0.26      0.14      0.13       734\n",
      "weighted avg       0.27      0.27      0.20       734\n",
      "\n",
      "================================================\n",
      "[[  0   0   0   2   0   0   3   0   0   0   0   0]\n",
      " [  0   0   0   1   3   2   4   0   0   0   0   0]\n",
      " [  0   0   0   2   5   5  11   0   0   0   0   0]\n",
      " [  0   0   0   1  17   9  23   1   1   0   0   0]\n",
      " [  0   0   0   0  14   7  44   1   2   0   1   0]\n",
      " [  0   0   0   2   9  11  63   1   3   0   0   0]\n",
      " [  0   0   0   0   5   8 144   0   4   0   0   0]\n",
      " [  0   0   0   1   2   7  79   7   3   2   4   0]\n",
      " [  0   0   0   0   2   5  49   2   9   2   3   0]\n",
      " [  0   0   0   0   2   4  51   5   4   5   6   0]\n",
      " [  0   0   0   1   2   2  27   3   5   4   9   0]\n",
      " [  0   0   0   0   0   0   8   0   3   2   4   1]]\n"
     ]
    },
    {
     "name": "stderr",
     "output_type": "stream",
     "text": [
      "D:\\anaconda\\lib\\site-packages\\sklearn\\metrics\\_classification.py:1327: UndefinedMetricWarning: Precision is ill-defined and being set to 0.0 in labels with no predicted samples. Use `zero_division` parameter to control this behavior.\n",
      "  _warn_prf(average, modifier, msg_start, len(result))\n",
      "D:\\anaconda\\lib\\site-packages\\sklearn\\metrics\\_classification.py:1327: UndefinedMetricWarning: Precision is ill-defined and being set to 0.0 in labels with no predicted samples. Use `zero_division` parameter to control this behavior.\n",
      "  _warn_prf(average, modifier, msg_start, len(result))\n",
      "D:\\anaconda\\lib\\site-packages\\sklearn\\metrics\\_classification.py:1327: UndefinedMetricWarning: Precision and F-score are ill-defined and being set to 0.0 in labels with no predicted samples. Use `zero_division` parameter to control this behavior.\n",
      "  _warn_prf(average, modifier, msg_start, len(result))\n",
      "D:\\anaconda\\lib\\site-packages\\sklearn\\metrics\\_classification.py:1327: UndefinedMetricWarning: Precision and F-score are ill-defined and being set to 0.0 in labels with no predicted samples. Use `zero_division` parameter to control this behavior.\n",
      "  _warn_prf(average, modifier, msg_start, len(result))\n",
      "D:\\anaconda\\lib\\site-packages\\sklearn\\metrics\\_classification.py:1327: UndefinedMetricWarning: Precision and F-score are ill-defined and being set to 0.0 in labels with no predicted samples. Use `zero_division` parameter to control this behavior.\n",
      "  _warn_prf(average, modifier, msg_start, len(result))\n"
     ]
    }
   ],
   "source": [
    "# randomforest classfier\n",
    "rf = ensemble.RandomForestClassifier()\n",
    "params = {'n_estimators': [50], 'max_depth':[100], 'max_features':[10]}\n",
    "rf.fit(x_train, y_train)\n",
    "y_pred = rf.predict(x_test)\n",
    "train_score = rf.score(x_train, y_train)\n",
    "test_score = accuracy_score(y_test, y_pred)\n",
    "print(\"Train Accuracy:\", train_score)\n",
    "print(\"================================================\")\n",
    "print(\"Test Accuracy:\", test_score)\n",
    "print(\"================================================\")\n",
    "acc_for_each_class = metrics.precision_score(y_test,y_pred,average=None)\n",
    "print(\"acc_for_each_class:\\n\",acc_for_each_class)\n",
    "print(\"================================================\")\n",
    "qwkappa = cohen_kappa_score(y_test,y_pred,weights='quadratic')\n",
    "print(\"qwkappa:\\n\",qwkappa)\n",
    "print(\"================================================\")\n",
    "print('Weighted precision', precision_score(y_test, y_pred, average='weighted'))\n",
    "print('Weighted recall', recall_score(y_test, y_pred, average='weighted'))\n",
    "print('Weighted f1-score', f1_score(y_test, y_pred, average='weighted'))\n",
    "print(\"================================================\")\n",
    "classification_rep = classification_report(y_test,y_pred)\n",
    "print(\"classification report: \\n\",classification_rep)\n",
    "print(\"================================================\")\n",
    "confusion_mat = metrics.confusion_matrix(y_test, y_pred)\n",
    "print(confusion_mat)\n"
   ]
  },
  {
   "cell_type": "code",
   "execution_count": 16,
   "id": "07cf539a",
   "metadata": {},
   "outputs": [
    {
     "name": "stdout",
     "output_type": "stream",
     "text": [
      "Train Accuracy: 0.9911383776414451\n",
      "================================================\n",
      "Test Accuracy: 0.273841961852861\n",
      "================================================\n",
      "acc_for_each_class:\n",
      " [0.5        0.         0.         0.125      0.20930233 0.20879121\n",
      " 0.36956522 0.27536232 0.18333333 0.16       0.27118644 0.6       ]\n",
      "================================================\n",
      "qwkappa:\n",
      " 0.48749263271201637\n",
      "================================================\n",
      "Weighted precision 0.2524248741902846\n",
      "Weighted recall 0.273841961852861\n",
      "Weighted f1-score 0.25320430338931144\n",
      "================================================\n"
     ]
    }
   ],
   "source": [
    "# support vector machine classfier\n",
    "model = OneVsRestClassifier(svm.SVC(kernel='rbf',gamma='scale'))#linear\n",
    "clt = model.fit(x_train,y_train)\n",
    "y_pred = clt.predict(x_test)\n",
    "test_score = accuracy_score(y_test, y_pred)\n",
    "train_score = clt.score(x_train, y_train)\n",
    "print(\"Train Accuracy:\", train_score)\n",
    "print(\"================================================\")\n",
    "print(\"Test Accuracy:\", test_score)\n",
    "print(\"================================================\")\n",
    "acc_for_each_class = metrics.precision_score(y_test,y_pred,average=None)\n",
    "print(\"acc_for_each_class:\\n\",acc_for_each_class)\n",
    "print(\"================================================\")\n",
    "qwkappa = cohen_kappa_score(y_test,y_pred,weights='quadratic')\n",
    "print(\"qwkappa:\\n\",qwkappa)\n",
    "print(\"================================================\")\n",
    "print('Weighted precision', precision_score(y_test, y_pred, average='weighted'))\n",
    "print('Weighted recall', recall_score(y_test, y_pred, average='weighted'))\n",
    "print('Weighted f1-score', f1_score(y_test, y_pred, average='weighted'))\n",
    "print(\"================================================\")\n",
    "\n"
   ]
  },
  {
   "cell_type": "code",
   "execution_count": 17,
   "id": "63deb7ef",
   "metadata": {},
   "outputs": [
    {
     "name": "stdout",
     "output_type": "stream",
     "text": [
      "classification report: \n",
      "               precision    recall  f1-score   support\n",
      "\n",
      "          40       0.50      0.14      0.22         7\n",
      "          45       0.00      0.00      0.00         7\n",
      "          50       0.00      0.00      0.00        26\n",
      "          55       0.12      0.12      0.12        32\n",
      "          60       0.21      0.23      0.22        80\n",
      "          65       0.21      0.19      0.20       102\n",
      "          70       0.37      0.58      0.45       177\n",
      "          75       0.28      0.18      0.22       105\n",
      "          80       0.18      0.15      0.17        72\n",
      "          85       0.16      0.14      0.15        59\n",
      "          90       0.27      0.30      0.29        53\n",
      "          95       0.60      0.21      0.32        14\n",
      "\n",
      "    accuracy                           0.27       734\n",
      "   macro avg       0.24      0.19      0.20       734\n",
      "weighted avg       0.25      0.27      0.25       734\n",
      "\n",
      "================================================\n"
     ]
    }
   ],
   "source": [
    "classification_rep = classification_report(y_test,y_pred)\n",
    "print(\"classification report: \\n\",classification_rep)\n",
    "print(\"================================================\")"
   ]
  },
  {
   "cell_type": "code",
   "execution_count": 18,
   "id": "66e18866",
   "metadata": {},
   "outputs": [
    {
     "name": "stdout",
     "output_type": "stream",
     "text": [
      "[[  1   0   1   0   3   1   1   0   0   0   0   0]\n",
      " [  0   0   0   2   3   1   0   0   1   0   0   0]\n",
      " [  0   0   0   6   6   6   6   1   1   0   0   0]\n",
      " [  1   1   0   4   9   7   3   0   3   4   0   0]\n",
      " [  0   1   1   7  18  13  26   5   4   3   1   1]\n",
      " [  0   0   0   4  17  19  38   8   8   5   3   0]\n",
      " [  0   0   0   6  13  20 102  12   8  10   6   0]\n",
      " [  0   0   0   1   6   9  54  19   4   7   5   0]\n",
      " [  0   0   0   1   7   9  21  11  11   4   8   0]\n",
      " [  0   0   0   0   4   3  14   6   7   8  17   0]\n",
      " [  0   0   0   1   0   3  10   6   9   7  16   1]\n",
      " [  0   0   0   0   0   0   1   1   4   2   3   3]]\n"
     ]
    }
   ],
   "source": [
    "confusion_mat = metrics.confusion_matrix(y_test, y_pred)\n",
    "print(confusion_mat)"
   ]
  },
  {
   "cell_type": "code",
   "execution_count": 11,
   "id": "f0662643",
   "metadata": {
    "scrolled": true
   },
   "outputs": [
    {
     "name": "stderr",
     "output_type": "stream",
     "text": [
      "D:\\anaconda\\lib\\site-packages\\sklearn\\linear_model\\_logistic.py:444: ConvergenceWarning: lbfgs failed to converge (status=1):\n",
      "STOP: TOTAL NO. of ITERATIONS REACHED LIMIT.\n",
      "\n",
      "Increase the number of iterations (max_iter) or scale the data as shown in:\n",
      "    https://scikit-learn.org/stable/modules/preprocessing.html\n",
      "Please also refer to the documentation for alternative solver options:\n",
      "    https://scikit-learn.org/stable/modules/linear_model.html#logistic-regression\n",
      "  n_iter_i = _check_optimize_result(\n",
      "D:\\anaconda\\lib\\site-packages\\sklearn\\linear_model\\_logistic.py:444: ConvergenceWarning: lbfgs failed to converge (status=1):\n",
      "STOP: TOTAL NO. of ITERATIONS REACHED LIMIT.\n",
      "\n",
      "Increase the number of iterations (max_iter) or scale the data as shown in:\n",
      "    https://scikit-learn.org/stable/modules/preprocessing.html\n",
      "Please also refer to the documentation for alternative solver options:\n",
      "    https://scikit-learn.org/stable/modules/linear_model.html#logistic-regression\n",
      "  n_iter_i = _check_optimize_result(\n",
      "D:\\anaconda\\lib\\site-packages\\sklearn\\linear_model\\_logistic.py:444: ConvergenceWarning: lbfgs failed to converge (status=1):\n",
      "STOP: TOTAL NO. of ITERATIONS REACHED LIMIT.\n",
      "\n",
      "Increase the number of iterations (max_iter) or scale the data as shown in:\n",
      "    https://scikit-learn.org/stable/modules/preprocessing.html\n",
      "Please also refer to the documentation for alternative solver options:\n",
      "    https://scikit-learn.org/stable/modules/linear_model.html#logistic-regression\n",
      "  n_iter_i = _check_optimize_result(\n",
      "D:\\anaconda\\lib\\site-packages\\sklearn\\linear_model\\_logistic.py:444: ConvergenceWarning: lbfgs failed to converge (status=1):\n",
      "STOP: TOTAL NO. of ITERATIONS REACHED LIMIT.\n",
      "\n",
      "Increase the number of iterations (max_iter) or scale the data as shown in:\n",
      "    https://scikit-learn.org/stable/modules/preprocessing.html\n",
      "Please also refer to the documentation for alternative solver options:\n",
      "    https://scikit-learn.org/stable/modules/linear_model.html#logistic-regression\n",
      "  n_iter_i = _check_optimize_result(\n",
      "D:\\anaconda\\lib\\site-packages\\sklearn\\linear_model\\_logistic.py:444: ConvergenceWarning: lbfgs failed to converge (status=1):\n",
      "STOP: TOTAL NO. of ITERATIONS REACHED LIMIT.\n",
      "\n",
      "Increase the number of iterations (max_iter) or scale the data as shown in:\n",
      "    https://scikit-learn.org/stable/modules/preprocessing.html\n",
      "Please also refer to the documentation for alternative solver options:\n",
      "    https://scikit-learn.org/stable/modules/linear_model.html#logistic-regression\n",
      "  n_iter_i = _check_optimize_result(\n",
      "D:\\anaconda\\lib\\site-packages\\sklearn\\linear_model\\_logistic.py:444: ConvergenceWarning: lbfgs failed to converge (status=1):\n",
      "STOP: TOTAL NO. of ITERATIONS REACHED LIMIT.\n",
      "\n",
      "Increase the number of iterations (max_iter) or scale the data as shown in:\n",
      "    https://scikit-learn.org/stable/modules/preprocessing.html\n",
      "Please also refer to the documentation for alternative solver options:\n",
      "    https://scikit-learn.org/stable/modules/linear_model.html#logistic-regression\n",
      "  n_iter_i = _check_optimize_result(\n",
      "D:\\anaconda\\lib\\site-packages\\sklearn\\linear_model\\_logistic.py:444: ConvergenceWarning: lbfgs failed to converge (status=1):\n",
      "STOP: TOTAL NO. of ITERATIONS REACHED LIMIT.\n",
      "\n",
      "Increase the number of iterations (max_iter) or scale the data as shown in:\n",
      "    https://scikit-learn.org/stable/modules/preprocessing.html\n",
      "Please also refer to the documentation for alternative solver options:\n",
      "    https://scikit-learn.org/stable/modules/linear_model.html#logistic-regression\n",
      "  n_iter_i = _check_optimize_result(\n",
      "D:\\anaconda\\lib\\site-packages\\sklearn\\linear_model\\_logistic.py:444: ConvergenceWarning: lbfgs failed to converge (status=1):\n",
      "STOP: TOTAL NO. of ITERATIONS REACHED LIMIT.\n",
      "\n",
      "Increase the number of iterations (max_iter) or scale the data as shown in:\n",
      "    https://scikit-learn.org/stable/modules/preprocessing.html\n",
      "Please also refer to the documentation for alternative solver options:\n",
      "    https://scikit-learn.org/stable/modules/linear_model.html#logistic-regression\n",
      "  n_iter_i = _check_optimize_result(\n",
      "D:\\anaconda\\lib\\site-packages\\sklearn\\linear_model\\_logistic.py:444: ConvergenceWarning: lbfgs failed to converge (status=1):\n",
      "STOP: TOTAL NO. of ITERATIONS REACHED LIMIT.\n",
      "\n",
      "Increase the number of iterations (max_iter) or scale the data as shown in:\n",
      "    https://scikit-learn.org/stable/modules/preprocessing.html\n",
      "Please also refer to the documentation for alternative solver options:\n",
      "    https://scikit-learn.org/stable/modules/linear_model.html#logistic-regression\n",
      "  n_iter_i = _check_optimize_result(\n"
     ]
    },
    {
     "name": "stdout",
     "output_type": "stream",
     "text": [
      "{'fit_time': array([6.86287689, 7.10459065, 6.82955647, 7.38531947, 6.84365487,\n",
      "       7.10789752, 7.02449775, 6.76126266, 7.27092361, 6.66103196]), 'score_time': array([0.00302744, 0.00498772, 0.        , 0.00396633, 0.00299048,\n",
      "       0.        , 0.00299263, 0.00398588, 0.0101788 , 0.        ]), 'test_accuracy': array([0.27210884, 0.29251701, 0.26530612, 0.24829932, 0.27303754,\n",
      "       0.27986348, 0.23890785, 0.2662116 , 0.27303754, 0.21843003]), 'test_qwkappa': array([0.39372632, 0.49341478, 0.47116567, 0.42550341, 0.5454941 ,\n",
      "       0.56497458, 0.48589714, 0.53145647, 0.47798676, 0.45830286])}\n",
      "Mean accuracy: 0.2627719347124516\n",
      "Mean qwkappa: 0.4847922082867022\n"
     ]
    },
    {
     "name": "stderr",
     "output_type": "stream",
     "text": [
      "D:\\anaconda\\lib\\site-packages\\sklearn\\linear_model\\_logistic.py:444: ConvergenceWarning: lbfgs failed to converge (status=1):\n",
      "STOP: TOTAL NO. of ITERATIONS REACHED LIMIT.\n",
      "\n",
      "Increase the number of iterations (max_iter) or scale the data as shown in:\n",
      "    https://scikit-learn.org/stable/modules/preprocessing.html\n",
      "Please also refer to the documentation for alternative solver options:\n",
      "    https://scikit-learn.org/stable/modules/linear_model.html#logistic-regression\n",
      "  n_iter_i = _check_optimize_result(\n"
     ]
    }
   ],
   "source": [
    "# 交叉验证 cross validation   logistic regression\n",
    "scoring = {'accuracy': 'accuracy','qwkappa': make_scorer(cohen_kappa_score,weights='quadratic')}\n",
    "scores = cross_validate(lr, x_train, y_train, cv=10, scoring=scoring)#10-fold cv\n",
    "accuracy = scores['test_accuracy']\n",
    "qwkappa = scores['test_qwkappa']\n",
    "print(scores)\n",
    "print('Mean accuracy:',accuracy.mean())\n",
    "print('Mean qwkappa:',qwkappa.mean())"
   ]
  },
  {
   "cell_type": "code",
   "execution_count": 12,
   "id": "09624559",
   "metadata": {},
   "outputs": [
    {
     "name": "stdout",
     "output_type": "stream",
     "text": [
      "{'fit_time': array([6.91099072, 6.33911276, 6.81523252, 6.51449704, 6.29195237,\n",
      "       6.77543211, 5.82020426, 6.50162125, 5.91023684, 5.7287519 ]), 'score_time': array([0.03786969, 0.03590417, 0.03132081, 0.0304544 , 0.03490567,\n",
      "       0.03787756, 0.03042865, 0.03040695, 0.03048754, 0.0302875 ]), 'test_accuracy': array([0.24829932, 0.28911565, 0.30952381, 0.30272109, 0.29010239,\n",
      "       0.24914676, 0.25255973, 0.26279863, 0.27986348, 0.2662116 ]), 'test_qwkappa': array([0.26555711, 0.35293084, 0.45696653, 0.44826854, 0.51302666,\n",
      "       0.37418277, 0.45082013, 0.46971703, 0.4176456 , 0.40021602])}\n",
      "Mean accuracy: 0.27503424578022334\n",
      "Mean qwkappa: 0.4149331212217507\n"
     ]
    }
   ],
   "source": [
    "# random forest classification\n",
    "scoring = {'accuracy': 'accuracy','qwkappa': make_scorer(cohen_kappa_score,weights='quadratic')}\n",
    "scores = cross_validate(rf, x_train, y_train, cv=10, scoring=scoring)#10-fold cv\n",
    "accuracy = scores['test_accuracy']\n",
    "qwkappa = scores['test_qwkappa']\n",
    "print(scores)\n",
    "print('Mean accuracy:',accuracy.mean())\n",
    "print('Mean qwkappa:',qwkappa.mean())"
   ]
  },
  {
   "cell_type": "code",
   "execution_count": 13,
   "id": "44a0cb24",
   "metadata": {},
   "outputs": [
    {
     "name": "stdout",
     "output_type": "stream",
     "text": [
      "{'fit_time': array([42.90427732, 43.12479758, 42.12815499, 40.78293347, 41.13643122,\n",
      "       39.88809729, 42.17229915, 42.89752722, 39.38815403, 39.54461765]), 'score_time': array([3.89368725, 4.04334474, 3.95563388, 3.94590163, 3.91600609,\n",
      "       3.87904549, 4.36841106, 3.988832  , 3.87046456, 3.84914446]), 'test_accuracy': array([0.26530612, 0.29931973, 0.25510204, 0.25170068, 0.25255973,\n",
      "       0.28327645, 0.23549488, 0.2559727 , 0.2559727 , 0.23549488]), 'test_qwkappa': array([0.45720795, 0.63787422, 0.55837238, 0.46953558, 0.60214457,\n",
      "       0.54416859, 0.50640829, 0.55825247, 0.45898835, 0.47989123])}\n",
      "Mean accuracy: 0.25901999024865924\n",
      "Mean qwkappa: 0.5272843628825239\n"
     ]
    }
   ],
   "source": [
    "# support machine classification\n",
    "scoring = {'accuracy': 'accuracy','qwkappa': make_scorer(cohen_kappa_score,weights='quadratic')}\n",
    "scores = cross_validate(clt, x_train, y_train, cv=10, scoring=scoring)#10-fold cv\n",
    "accuracy = scores['test_accuracy']\n",
    "qwkappa = scores['test_qwkappa']\n",
    "print(scores)\n",
    "print('Mean accuracy:',accuracy.mean())\n",
    "print('Mean qwkappa:',qwkappa.mean())"
   ]
  },
  {
   "cell_type": "code",
   "execution_count": null,
   "id": "5b5839ed",
   "metadata": {},
   "outputs": [],
   "source": []
  }
 ],
 "metadata": {
  "kernelspec": {
   "display_name": "Python 3.9.7 ('base')",
   "language": "python",
   "name": "python3"
  },
  "language_info": {
   "codemirror_mode": {
    "name": "ipython",
    "version": 3
   },
   "file_extension": ".py",
   "mimetype": "text/x-python",
   "name": "python",
   "nbconvert_exporter": "python",
   "pygments_lexer": "ipython3",
   "version": "3.9.7 (default, Sep 16 2021, 16:59:28) [MSC v.1916 64 bit (AMD64)]"
  },
  "vscode": {
   "interpreter": {
    "hash": "5179d32cf6ec497baf3f8a3ef987cc77c5d2dc691fdde20a56316522f61a7323"
   }
  }
 },
 "nbformat": 4,
 "nbformat_minor": 5
}
