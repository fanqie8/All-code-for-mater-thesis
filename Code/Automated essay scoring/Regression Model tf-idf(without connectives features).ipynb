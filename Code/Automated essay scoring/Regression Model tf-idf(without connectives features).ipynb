{
 "cells": [
  {
   "cell_type": "code",
   "execution_count": 27,
   "id": "2c26ad13",
   "metadata": {},
   "outputs": [],
   "source": [
    "import pandas as pd\n",
    "import numpy as np\n",
    "import matplotlib.pyplot as plt\n",
    "import re\n",
    "import jieba\n",
    "from sklearn.model_selection import train_test_split\n",
    "from sklearn.feature_extraction.text import TfidfVectorizer, CountVectorizer\n",
    "from sklearn import metrics\n",
    "import joblib\n",
    "from scipy import sparse\n",
    "from sklearn.ensemble import RandomForestRegressor\n",
    "from sklearn import ensemble\n",
    "from sklearn.model_selection import GridSearchCV\n",
    "import xgboost as xgb\n",
    "from sklearn import model_selection\n",
    "from sklearn.model_selection import cross_val_score,cross_validate, KFold\n",
    "from sklearn.metrics import mean_squared_error \n",
    "from sklearn.metrics import mean_absolute_error\n",
    "from sklearn.metrics import r2_score\n"
   ]
  },
  {
   "cell_type": "code",
   "execution_count": 2,
   "id": "6a9e659a",
   "metadata": {},
   "outputs": [
    {
     "data": {
      "text/html": [
       "<div>\n",
       "<style scoped>\n",
       "    .dataframe tbody tr th:only-of-type {\n",
       "        vertical-align: middle;\n",
       "    }\n",
       "\n",
       "    .dataframe tbody tr th {\n",
       "        vertical-align: top;\n",
       "    }\n",
       "\n",
       "    .dataframe thead th {\n",
       "        text-align: right;\n",
       "    }\n",
       "</style>\n",
       "<table border=\"1\" class=\"dataframe\">\n",
       "  <thead>\n",
       "    <tr style=\"text-align: right;\">\n",
       "      <th></th>\n",
       "      <th>CONTENT_NEW</th>\n",
       "      <th>WORDCUT</th>\n",
       "      <th>SCORE</th>\n",
       "      <th>LEVEL</th>\n",
       "      <th>Tokens</th>\n",
       "      <th>level1_tokens</th>\n",
       "      <th>level2_tokens</th>\n",
       "      <th>level3_tokens</th>\n",
       "      <th>level4_tokens</th>\n",
       "      <th>level5_tokens</th>\n",
       "      <th>level6_tokens</th>\n",
       "      <th>level7_tokens</th>\n",
       "      <th>char_num</th>\n",
       "      <th>high_level</th>\n",
       "      <th>primary_level</th>\n",
       "      <th>Connective_ratio</th>\n",
       "      <th>connective_SCORE</th>\n",
       "      <th>pre</th>\n",
       "      <th>connective_numbers</th>\n",
       "    </tr>\n",
       "  </thead>\n",
       "  <tbody>\n",
       "    <tr>\n",
       "      <th>0</th>\n",
       "      <td>记得当年年纪小，家中兄弟姐妹数十多人。我排行倒最第二。父母亲为了养起这头家，日夜往外奔波劳累...</td>\n",
       "      <td>记得 当年 年纪 小 ， 家中 兄弟姐妹 数十 多人 。 我 排行 倒 最 第二 。 父母亲...</td>\n",
       "      <td>90</td>\n",
       "      <td>3</td>\n",
       "      <td>342</td>\n",
       "      <td>0</td>\n",
       "      <td>2</td>\n",
       "      <td>7</td>\n",
       "      <td>4</td>\n",
       "      <td>2</td>\n",
       "      <td>0</td>\n",
       "      <td>3</td>\n",
       "      <td>636</td>\n",
       "      <td>5</td>\n",
       "      <td>13</td>\n",
       "      <td>0.067251</td>\n",
       "      <td>2.984263</td>\n",
       "      <td>记得 当年 年纪 小 家中 兄弟姐妹 数十 多人 我 排行 倒 最 第二 父母亲 为了 养起...</td>\n",
       "      <td>23</td>\n",
       "    </tr>\n",
       "    <tr>\n",
       "      <th>1</th>\n",
       "      <td>《一封求职信》×××揭阳县西门外磐东镇肇沟乡广东省李文先生快乐家庭旅游公司负责人广东省李文先...</td>\n",
       "      <td>《 一封 求职信 》 × × × 揭阳县 西 门外 磐 东镇肇沟 乡 广东省 李文 先生 快...</td>\n",
       "      <td>80</td>\n",
       "      <td>3</td>\n",
       "      <td>194</td>\n",
       "      <td>0</td>\n",
       "      <td>0</td>\n",
       "      <td>0</td>\n",
       "      <td>3</td>\n",
       "      <td>0</td>\n",
       "      <td>0</td>\n",
       "      <td>5</td>\n",
       "      <td>403</td>\n",
       "      <td>5</td>\n",
       "      <td>3</td>\n",
       "      <td>0.051546</td>\n",
       "      <td>2.434391</td>\n",
       "      <td>一封 求职信 揭阳县 西 门外 磐 东镇肇沟 乡 广东省 李文 先生 快乐 家庭 旅游 公司...</td>\n",
       "      <td>10</td>\n",
       "    </tr>\n",
       "    <tr>\n",
       "      <th>2</th>\n",
       "      <td>我的外婆对我的影响非常大。从小，我父母便将我交给外婆带。他们是上班一族，平日无法照顾我。虽然...</td>\n",
       "      <td>我 的 外婆 对 我 的 影响 非常 大 。 从小 ， 我 父母 便 将 我 交给 外婆 带...</td>\n",
       "      <td>80</td>\n",
       "      <td>3</td>\n",
       "      <td>302</td>\n",
       "      <td>0</td>\n",
       "      <td>4</td>\n",
       "      <td>5</td>\n",
       "      <td>5</td>\n",
       "      <td>3</td>\n",
       "      <td>0</td>\n",
       "      <td>4</td>\n",
       "      <td>570</td>\n",
       "      <td>7</td>\n",
       "      <td>14</td>\n",
       "      <td>0.072848</td>\n",
       "      <td>3.791400</td>\n",
       "      <td>我 的 外婆 对 我 的 影响 非常 大 从小 我 父母 便 将 我 交给 外婆 带 他们 ...</td>\n",
       "      <td>22</td>\n",
       "    </tr>\n",
       "    <tr>\n",
       "      <th>3</th>\n",
       "      <td>“安乐死”究竟可不可取？在二十世纪的今天，“安乐死”已不是什么新话题。在不同的国家，已曾有人...</td>\n",
       "      <td>“ 安乐死 ” 究竟 可不 可取 ？ 在 二十世纪 的 今天 ， “ 安乐死 ” 已 不是 ...</td>\n",
       "      <td>95</td>\n",
       "      <td>3</td>\n",
       "      <td>273</td>\n",
       "      <td>1</td>\n",
       "      <td>0</td>\n",
       "      <td>4</td>\n",
       "      <td>3</td>\n",
       "      <td>1</td>\n",
       "      <td>1</td>\n",
       "      <td>8</td>\n",
       "      <td>588</td>\n",
       "      <td>10</td>\n",
       "      <td>8</td>\n",
       "      <td>0.084249</td>\n",
       "      <td>3.982972</td>\n",
       "      <td>安乐死 究竟 可不 可取 在 二十世纪 的 今天 安乐死 已 不是 什么 新 话题 在 不同...</td>\n",
       "      <td>23</td>\n",
       "    </tr>\n",
       "    <tr>\n",
       "      <th>4</th>\n",
       "      <td>关于安乐死这个问题，近来引起了广泛的讨论，有些人认为：一个人既既身罹不治之症，与其留在世上饱...</td>\n",
       "      <td>关于 安乐死 这个 问题 ， 近来 引起 了 广泛 的 讨论 ， 有些 人 认为 ： 一个 ...</td>\n",
       "      <td>85</td>\n",
       "      <td>3</td>\n",
       "      <td>186</td>\n",
       "      <td>1</td>\n",
       "      <td>1</td>\n",
       "      <td>5</td>\n",
       "      <td>4</td>\n",
       "      <td>1</td>\n",
       "      <td>0</td>\n",
       "      <td>4</td>\n",
       "      <td>364</td>\n",
       "      <td>5</td>\n",
       "      <td>11</td>\n",
       "      <td>0.096774</td>\n",
       "      <td>2.989940</td>\n",
       "      <td>关于 安乐死 这个 问题 近来 引起 了 广泛 的 讨论 有些 人 认为 一个 人 既 既身...</td>\n",
       "      <td>18</td>\n",
       "    </tr>\n",
       "  </tbody>\n",
       "</table>\n",
       "</div>"
      ],
      "text/plain": [
       "                                         CONTENT_NEW  \\\n",
       "0  记得当年年纪小，家中兄弟姐妹数十多人。我排行倒最第二。父母亲为了养起这头家，日夜往外奔波劳累...   \n",
       "1  《一封求职信》×××揭阳县西门外磐东镇肇沟乡广东省李文先生快乐家庭旅游公司负责人广东省李文先...   \n",
       "2  我的外婆对我的影响非常大。从小，我父母便将我交给外婆带。他们是上班一族，平日无法照顾我。虽然...   \n",
       "3  “安乐死”究竟可不可取？在二十世纪的今天，“安乐死”已不是什么新话题。在不同的国家，已曾有人...   \n",
       "4  关于安乐死这个问题，近来引起了广泛的讨论，有些人认为：一个人既既身罹不治之症，与其留在世上饱...   \n",
       "\n",
       "                                             WORDCUT  SCORE  LEVEL  Tokens  \\\n",
       "0  记得 当年 年纪 小 ， 家中 兄弟姐妹 数十 多人 。 我 排行 倒 最 第二 。 父母亲...     90      3     342   \n",
       "1  《 一封 求职信 》 × × × 揭阳县 西 门外 磐 东镇肇沟 乡 广东省 李文 先生 快...     80      3     194   \n",
       "2  我 的 外婆 对 我 的 影响 非常 大 。 从小 ， 我 父母 便 将 我 交给 外婆 带...     80      3     302   \n",
       "3  “ 安乐死 ” 究竟 可不 可取 ？ 在 二十世纪 的 今天 ， “ 安乐死 ” 已 不是 ...     95      3     273   \n",
       "4  关于 安乐死 这个 问题 ， 近来 引起 了 广泛 的 讨论 ， 有些 人 认为 ： 一个 ...     85      3     186   \n",
       "\n",
       "   level1_tokens  level2_tokens  level3_tokens  level4_tokens  level5_tokens  \\\n",
       "0              0              2              7              4              2   \n",
       "1              0              0              0              3              0   \n",
       "2              0              4              5              5              3   \n",
       "3              1              0              4              3              1   \n",
       "4              1              1              5              4              1   \n",
       "\n",
       "   level6_tokens  level7_tokens  char_num  high_level  primary_level  \\\n",
       "0              0              3       636           5             13   \n",
       "1              0              5       403           5              3   \n",
       "2              0              4       570           7             14   \n",
       "3              1              8       588          10              8   \n",
       "4              0              4       364           5             11   \n",
       "\n",
       "   Connective_ratio  connective_SCORE  \\\n",
       "0          0.067251          2.984263   \n",
       "1          0.051546          2.434391   \n",
       "2          0.072848          3.791400   \n",
       "3          0.084249          3.982972   \n",
       "4          0.096774          2.989940   \n",
       "\n",
       "                                                 pre  connective_numbers  \n",
       "0  记得 当年 年纪 小 家中 兄弟姐妹 数十 多人 我 排行 倒 最 第二 父母亲 为了 养起...                  23  \n",
       "1  一封 求职信 揭阳县 西 门外 磐 东镇肇沟 乡 广东省 李文 先生 快乐 家庭 旅游 公司...                  10  \n",
       "2  我 的 外婆 对 我 的 影响 非常 大 从小 我 父母 便 将 我 交给 外婆 带 他们 ...                  22  \n",
       "3  安乐死 究竟 可不 可取 在 二十世纪 的 今天 安乐死 已 不是 什么 新 话题 在 不同...                  23  \n",
       "4  关于 安乐死 这个 问题 近来 引起 了 广泛 的 讨论 有些 人 认为 一个 人 既 既身...                  18  "
      ]
     },
     "execution_count": 2,
     "metadata": {},
     "output_type": "execute_result"
    }
   ],
   "source": [
    "# load data \n",
    "dataframe = pd.read_csv(r'C:\\Users\\dawns\\Desktop\\Master thesis\\data\\Features_level.csv')\n",
    "#data=dataframe[['CONTENT_NEW','','SCORE']].copy()\n",
    "df_data=dataframe[['CONTENT_NEW','WORDCUT','SCORE','LEVEL','Tokens','level1_tokens','level2_tokens','level3_tokens','level4_tokens','level5_tokens','level6_tokens','level7_tokens','char_num','high_level','primary_level','Connective_ratio','connective_SCORE','pre','connective_numbers']].copy()\n",
    "df_data.head()"
   ]
  },
  {
   "cell_type": "code",
   "execution_count": 3,
   "id": "0e3a3d5a",
   "metadata": {},
   "outputs": [],
   "source": [
    "# Generating 'y' for classification as well as regression\n",
    "y = df_data['SCORE']\n",
    "#y"
   ]
  },
  {
   "cell_type": "code",
   "execution_count": 4,
   "id": "e8321226",
   "metadata": {},
   "outputs": [],
   "source": [
    "# generating x \n",
    "pre = df_data['pre']"
   ]
  },
  {
   "cell_type": "code",
   "execution_count": 5,
   "id": "84a41742",
   "metadata": {},
   "outputs": [
    {
     "name": "stdout",
     "output_type": "stream",
     "text": [
      "(3668,)\n",
      "(3668, 36035)\n"
     ]
    }
   ],
   "source": [
    "#TFIDF Vectorizer\n",
    "print(pre.shape)\n",
    "vectorizer = TfidfVectorizer()\n",
    "vectorizer.fit(pre)\n",
    "vector = vectorizer.transform(pre)\n",
    "print(vector.shape)\n"
   ]
  },
  {
   "cell_type": "code",
   "execution_count": 6,
   "id": "d97a90a9",
   "metadata": {},
   "outputs": [
    {
     "name": "stdout",
     "output_type": "stream",
     "text": [
      "<class 'scipy.sparse._csr.csr_matrix'>\n"
     ]
    }
   ],
   "source": [
    "#保存tf-idf特征 save tf-idf features\n",
    "print(type(vector))\n",
    "\n",
    "# save your model in disk\n",
    "joblib.dump(vector, 'vector.pkl') \n",
    "\n",
    "# load your model\n",
    "vector = joblib.load('vector.pkl') "
   ]
  },
  {
   "cell_type": "code",
   "execution_count": 7,
   "id": "73f4d3c8",
   "metadata": {},
   "outputs": [
    {
     "name": "stdout",
     "output_type": "stream",
     "text": [
      "(3668, 1)\n",
      "(3668, 36035)\n",
      "=============\n",
      "(3668, 36036)\n"
     ]
    }
   ],
   "source": [
    "# 特征合并 feature concatenate \n",
    "feature_set1 = df_data[['connective_SCORE',]]\n",
    "feature_set2 = vector\n",
    "print(feature_set1.shape)\n",
    "print(feature_set2.shape)\n",
    "train_features = sparse.hstack((feature_set2, feature_set1))\n",
    "print('=============')\n",
    "print(train_features.shape)"
   ]
  },
  {
   "cell_type": "code",
   "execution_count": 38,
   "id": "ed5e4e8a",
   "metadata": {},
   "outputs": [
    {
     "name": "stdout",
     "output_type": "stream",
     "text": [
      "(2934, 36035)\n",
      "(2934,)\n"
     ]
    }
   ],
   "source": [
    "# 划分训练集 ，测试集 train_test split\n",
    "x_train, x_test, y_train, y_test = train_test_split(feature_set2, y, test_size=0.2)\n",
    "print(x_train.shape)\n",
    "print(y_train.shape)"
   ]
  },
  {
   "cell_type": "code",
   "execution_count": 9,
   "id": "c02f836b",
   "metadata": {},
   "outputs": [],
   "source": [
    "# evaluation \n",
    "\n",
    "def evaluation_scores(yt,yp):\n",
    "    MSE = mean_squared_error(yt,yp)\n",
    "    MAE = mean_absolute_error(yt,yp)\n",
    "    R2 = r2_score(yt,yp)\n",
    "    print('MSE:',MSE)\n",
    "    print(\"================================================\")\n",
    "    print('MAE:',MAE)\n",
    "    print(\"================================================\")\n",
    "    print('R2:',R2)\n",
    "    print(\"================================================\")\n",
    "    \n",
    "    "
   ]
  },
  {
   "cell_type": "code",
   "execution_count": 39,
   "id": "2e4447ec",
   "metadata": {
    "scrolled": false
   },
   "outputs": [
    {
     "name": "stdout",
     "output_type": "stream",
     "text": [
      "neg_mean_absolute_error: 8.564675561949347\n",
      "neg_mean_squared_error: 77.05736412478738\n",
      "r2: 0.015710412289809295\n"
     ]
    }
   ],
   "source": [
    "# linear regression 线性回归\n",
    "from sklearn.linear_model import LinearRegression\n",
    "linear_regressor = LinearRegression()\n",
    "linear_regressor.fit(x_train, y_train)\n",
    "y_pred = linear_regressor.predict(x_test)\n",
    "r2 = r2_score(y_test,y_pred)\n",
    "neg_mean_absolute_error = mean_absolute_error(y_test,y_pred)\n",
    "print('neg_mean_absolute_error:',neg_mean_absolute_error)\n",
    "print('neg_mean_squared_error:',neg_mean_squared_error)\n",
    "print('r2:',r2)\n",
    "\n"
   ]
  },
  {
   "cell_type": "code",
   "execution_count": 40,
   "id": "4c606f8d",
   "metadata": {},
   "outputs": [
    {
     "name": "stdout",
     "output_type": "stream",
     "text": [
      "r2: 0.35427015563256925\n",
      "mean_squared_error: 80.637365486868\n",
      "mean_absolute_error: 7.014685513169846\n"
     ]
    }
   ],
   "source": [
    "# 随机森林 random forest\n",
    "\n",
    "rf = ensemble.RandomForestRegressor()\n",
    "params = {'n_estimators': [100], 'max_depth':[100], 'max_features':[10]}\n",
    "rf.fit(x_train, y_train)\n",
    "y_pred = rf.predict(x_test)\n",
    "print('r2:',r2_score(y_test,y_pred))\n",
    "print('mean_squared_error:',mean_squared_error(y_test,y_pred))\n",
    "print('mean_absolute_error:',mean_absolute_error(y_test,y_pred))"
   ]
  },
  {
   "cell_type": "code",
   "execution_count": 41,
   "id": "46678916",
   "metadata": {},
   "outputs": [
    {
     "name": "stdout",
     "output_type": "stream",
     "text": [
      "R2: 0.4095222264868795\n",
      "mean_squared_error: 73.73760474288393\n",
      "mean_absolute_error: 6.839763682934504\n"
     ]
    }
   ],
   "source": [
    "#xgboost  xgboost处理回归\n",
    "model = xgb.XGBRegressor()\n",
    "params = {'n_estimators': [160], 'learning_rate': [0.1]}\n",
    "model.fit(x_train, y_train)\n",
    "y_pred = model.predict(x_test)\n",
    "print('R2:',r2_score(y_test,y_pred))\n",
    "print('mean_squared_error:',mean_squared_error(y_test,y_pred))\n",
    "print('mean_absolute_error:',mean_absolute_error(y_test,y_pred))"
   ]
  },
  {
   "cell_type": "code",
   "execution_count": 42,
   "id": "5925914d",
   "metadata": {},
   "outputs": [
    {
     "name": "stdout",
     "output_type": "stream",
     "text": [
      "[array([0.16583734, 0.003053  , 0.13142633, 0.09531293, 0.05476854,\n",
      "       0.1769009 , 0.05510649, 0.15064011, 0.01471713, 0.01963554])]\n",
      "0.08673983127167716\n"
     ]
    }
   ],
   "source": [
    "# 交叉验证 cross validation linear\n",
    "cv_scores =[]\n",
    "scores = cross_val_score(linear_regressor,x_train,y_train,cv=10,scoring='r2')\n",
    "cv_scores.append(scores)\n",
    "print(cv_scores)\n",
    "print(scores.mean())\n"
   ]
  },
  {
   "cell_type": "code",
   "execution_count": 43,
   "id": "e4e9ec36",
   "metadata": {},
   "outputs": [
    {
     "name": "stdout",
     "output_type": "stream",
     "text": [
      "[array([0.39138988, 0.32439728, 0.35320114, 0.38121994, 0.32574288,\n",
      "       0.36362729, 0.36596769, 0.37352765, 0.38096594, 0.33798059])]\n",
      "0.3598020293285082\n"
     ]
    }
   ],
   "source": [
    "# randomforest regressor\n",
    "cv_scores =[]\n",
    "scores = cross_val_score(rf,x_train,y_train,cv=10,scoring='r2')\n",
    "cv_scores.append(scores)\n",
    "print(cv_scores)\n",
    "print(scores.mean())"
   ]
  },
  {
   "cell_type": "code",
   "execution_count": 44,
   "id": "1e12a823",
   "metadata": {},
   "outputs": [
    {
     "name": "stdout",
     "output_type": "stream",
     "text": [
      "[array([0.37492873, 0.27053707, 0.31878387, 0.37108725, 0.34766378,\n",
      "       0.36042558, 0.39178239, 0.40949849, 0.33830092, 0.30610604])]\n",
      "0.3489114099728986\n"
     ]
    }
   ],
   "source": [
    "#xgboost\n",
    "cv_scores =[]\n",
    "scores = cross_val_score(model,x_train,y_train,cv=10,scoring='r2')\n",
    "cv_scores.append(scores)\n",
    "print(cv_scores)\n",
    "print(scores.mean())"
   ]
  },
  {
   "cell_type": "code",
   "execution_count": null,
   "id": "2dd67137",
   "metadata": {},
   "outputs": [],
   "source": []
  }
 ],
 "metadata": {
  "kernelspec": {
   "display_name": "Python 3 (ipykernel)",
   "language": "python",
   "name": "python3"
  },
  "language_info": {
   "codemirror_mode": {
    "name": "ipython",
    "version": 3
   },
   "file_extension": ".py",
   "mimetype": "text/x-python",
   "name": "python",
   "nbconvert_exporter": "python",
   "pygments_lexer": "ipython3",
   "version": "3.9.7"
  }
 },
 "nbformat": 4,
 "nbformat_minor": 5
}
